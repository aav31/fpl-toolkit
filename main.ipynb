{
 "cells": [
  {
   "cell_type": "code",
   "execution_count": 1,
   "metadata": {},
   "outputs": [],
   "source": [
    "from fpl_loader import FplLoader\n",
    "from team import Team, optimize_team\n",
    "from player import Player\n",
    "from expected_points_calculator import ExpectedPointsCalculator\n",
    "import heapq"
   ]
  },
  {
   "cell_type": "markdown",
   "metadata": {},
   "source": [
    "### Who is playing in GW 37?"
   ]
  },
  {
   "cell_type": "code",
   "execution_count": 2,
   "metadata": {},
   "outputs": [
    {
     "name": "stdout",
     "output_type": "stream",
     "text": [
      "Team Brighton play against ['Newcastle', 'Chelsea'] \n",
      "Team Chelsea play against [\"Nott'm Forest\", 'Brighton'] \n",
      "Team Man City play against ['Fulham', 'Spurs'] \n",
      "Team Man Utd play against ['Arsenal', 'Newcastle'] \n",
      "Team Newcastle play against ['Brighton', 'Man Utd'] \n",
      "Team Spurs play against ['Burnley', 'Man City'] \n"
     ]
    }
   ],
   "source": [
    "FplLoader.get_fixtures_for_gameweek(37)\n",
    "\n",
    "for i in range(1, 21):\n",
    "    fs = []\n",
    "    for f in FplLoader.get_fixtures_for_gameweek(37):\n",
    "        if f['team_h'] == i:\n",
    "            fs.append(FplLoader.get_team_basic_info(f['team_a'])['name'])\n",
    "        if f['team_a'] == i:\n",
    "            fs.append(FplLoader.get_team_basic_info(f['team_h'])['name'])\n",
    "            \n",
    "    if len(fs)==2:\n",
    "        print(\"Team {} play against {} \".format(FplLoader.get_team_basic_info(i)['name'], fs))\n"
   ]
  },
  {
   "cell_type": "markdown",
   "metadata": {},
   "source": [
    "### Downloading my team"
   ]
  },
  {
   "cell_type": "code",
   "execution_count": 3,
   "metadata": {
    "scrolled": true
   },
   "outputs": [
    {
     "name": "stdout",
     "output_type": "stream",
     "text": [
      "---------------------------------------------------------------------------\n",
      "GKP\n",
      "Player(element=263, name='Pickford', position=1, club=9, cost=47)\n",
      "Player(element=687, name='Petrović', position=1, club=7, cost=46)\n",
      "---------------------------------------------------------------------------\n",
      "DEF\n",
      "Player(element=407, name='Burn', position=2, club=15, cost=46)\n",
      "Player(element=616, name='Gvardiol', position=2, club=13, cost=50)\n",
      "Player(element=506, name='Pedro Porro', position=2, club=18, cost=58)\n",
      "Player(element=150, name='Van Hecke', position=2, club=5, cost=40)\n",
      "Player(element=5, name='Gabriel', position=2, club=1, cost=52)\n",
      "---------------------------------------------------------------------------\n",
      "MID\n",
      "Player(element=353, name='Foden', position=3, club=13, cost=83)\n",
      "Player(element=412, name='Gordon', position=3, club=15, cost=62)\n",
      "Player(element=516, name='Son', position=3, club=18, cost=98)\n",
      "Player(element=362, name='Palmer', position=3, club=7, cost=58)\n",
      "Player(element=373, name='B.Fernandes', position=3, club=14, cost=84)\n",
      "---------------------------------------------------------------------------\n",
      "FWD\n",
      "Player(element=60, name='Watkins', position=4, club=2, cost=89)\n",
      "Player(element=355, name='Haaland', position=4, club=13, cost=141)\n",
      "Player(element=211, name='N.Jackson', position=4, club=7, cost=69)\n",
      "---------------------------------------------------------------------------\n",
      "MONEY IN BANK: 2\n",
      "FREE TRANSFERS: 2\n",
      "Team is feasible:  True\n"
     ]
    }
   ],
   "source": [
    "player_list = []\n",
    "picks = FplLoader.get_my_team_from_api('aledvaghela@gmail.com', 'NCP@jxy7pau-bvm3cuf', 2085446)['picks']\n",
    "for pick in picks:\n",
    "    d = {'element': pick['element'],\n",
    "         'name': FplLoader.get_player_basic_info(pick['element'])['web_name'],\n",
    "         'position': FplLoader.get_player_basic_info(pick['element'])['element_type'],\n",
    "         'club': FplLoader.get_player_basic_info(pick['element'])['team'],\n",
    "         'cost': pick['selling_price'],\n",
    "        }\n",
    "    player_list.append(Player(**d))\n",
    "\n",
    "money_in_bank = FplLoader.get_my_team_from_api('aledvaghela@gmail.com', 'NCP@jxy7pau-bvm3cuf', 2085446)['transfers']['bank']\n",
    "free_transfers = FplLoader.get_my_team_from_api('aledvaghela@gmail.com', 'NCP@jxy7pau-bvm3cuf', 2085446)['transfers']['limit']\n",
    "team = Team(player_list, money_in_bank, free_transfers)\n",
    "print(team)\n",
    "print(\"Team is feasible: \", team.is_feasible())"
   ]
  },
  {
   "cell_type": "markdown",
   "metadata": {},
   "source": [
    "### A method to calculate the expected points of an individual in a particular week"
   ]
  },
  {
   "cell_type": "code",
   "execution_count": 4,
   "metadata": {},
   "outputs": [],
   "source": [
    "class ComplexExpectedPointsCalculator(ExpectedPointsCalculator):\n",
    "    something_to_play_for = set([1, 2, 18, 13, 6, 12, 16])\n",
    "    minutes_multiplier = {\n",
    "        407: 1.00, # burn\n",
    "        150: 0.00, # van hecke\n",
    "        5: 1.00, # gabriel\n",
    "        616: 0.80, #gvardiol\n",
    "        506: 0.95, #porro\n",
    "        \n",
    "        29: 0.95, #white\n",
    "        \n",
    "        362: 1.00, #palmer\n",
    "        373: 0.60, #fernandes\n",
    "        353: 0.80, #foden\n",
    "        516: 0.80, #son\n",
    "        412: 0.90, #gordon\n",
    "        \n",
    "        349: 0.70, #de bruyne\n",
    "        382: 0.75, #garnacho\n",
    "        \n",
    "        355: 0.80, #haaland\n",
    "        60: 0.95, #watkins\n",
    "        211: 0.95, # jackson\n",
    "        \n",
    "        415: 0.75, #isak\n",
    "    }\n",
    "    def get_expected_points(self, player_id: int, gameweek: int, as_of_gameweek: int) -> float:\n",
    "        result = 0\n",
    "        points_per_game = float(FplLoader.get_player_basic_info(player_id)['points_per_game'])\n",
    "        form = float(FplLoader.get_player_basic_info(player_id)['form'])\n",
    "        for fixture in FplLoader.get_player_future_info_for_gameweek(player_id, gameweek):\n",
    "            our_team, opponent = -1, -1\n",
    "            if fixture['is_home']:\n",
    "                our_team = fixture['team_h']\n",
    "                opponent = fixture['team_a']\n",
    "            else:\n",
    "                our_team = fixture['team_a']\n",
    "                opponent = fixture['team_h']\n",
    "            \n",
    "            difficulty_alpha = 0\n",
    "            if fixture['difficulty'] == 3:\n",
    "                difficulty_alpha = 0\n",
    "            elif fixture['difficulty'] < 3:\n",
    "                difficulty_alpha = 0.5\n",
    "            else:\n",
    "                difficulty_alpha = -0.5\n",
    "                \n",
    "            on_the_beach_alpha = 0\n",
    "            if our_team in ComplexExpectedPointsCalculator.something_to_play_for:\n",
    "                on_the_beach_alpha += 0.5\n",
    "            else:\n",
    "                on_the_beach_alpha -= 0.5\n",
    "                \n",
    "            if opponent in ComplexExpectedPointsCalculator.something_to_play_for:\n",
    "                on_the_beach_alpha -= 0.5\n",
    "            else:\n",
    "                on_the_beach_alpha += 0.5\n",
    "                \n",
    "            result += 0.5 * (points_per_game + form) + difficulty_alpha + on_the_beach_alpha\n",
    "            \n",
    "        return result * ComplexExpectedPointsCalculator.minutes_multiplier.get(player_id, 1.0)"
   ]
  },
  {
   "cell_type": "markdown",
   "metadata": {},
   "source": [
    "### Getting the optimal team and captain for a particular gameweek"
   ]
  },
  {
   "cell_type": "code",
   "execution_count": 6,
   "metadata": {
    "scrolled": true
   },
   "outputs": [
    {
     "name": "stdout",
     "output_type": "stream",
     "text": [
      "Pickford, 5.6\n",
      "Petrović, 7.699999999999999\n",
      "Burn, 5.9\n",
      "Gvardiol, 11.280000000000001\n",
      "Pedro Porro, 3.8\n",
      "Van Hecke, 0.0\n",
      "Gabriel, 4.55\n",
      "Foden, 9.680000000000001\n",
      "Gordon, 12.420000000000002\n",
      "Son, 8.4\n",
      "Palmer, 15.100000000000001\n",
      "B.Fernandes, 9.45\n",
      "Watkins, 5.8425\n",
      "Haaland, 13.280000000000001\n",
      "N.Jackson, 11.114999999999998\n"
     ]
    },
    {
     "data": {
      "text/plain": [
       "{1: {(Player(element=687, name='Petrović', position=1, club=7, cost=46),\n",
       "   7.699999999999999)},\n",
       " 2: {(Player(element=5, name='Gabriel', position=2, club=1, cost=52), 4.55),\n",
       "  (Player(element=407, name='Burn', position=2, club=15, cost=46), 5.9),\n",
       "  (Player(element=616, name='Gvardiol', position=2, club=13, cost=50),\n",
       "   11.280000000000001)},\n",
       " 3: {(Player(element=353, name='Foden', position=3, club=13, cost=83),\n",
       "   9.680000000000001),\n",
       "  (Player(element=362, name='Palmer', position=3, club=7, cost=58),\n",
       "   15.100000000000001),\n",
       "  (Player(element=373, name='B.Fernandes', position=3, club=14, cost=84),\n",
       "   9.45),\n",
       "  (Player(element=412, name='Gordon', position=3, club=15, cost=62),\n",
       "   12.420000000000002),\n",
       "  (Player(element=516, name='Son', position=3, club=18, cost=98), 8.4)},\n",
       " 4: {(Player(element=211, name='N.Jackson', position=4, club=7, cost=69),\n",
       "   11.114999999999998),\n",
       "  (Player(element=355, name='Haaland', position=4, club=13, cost=141),\n",
       "   13.280000000000001)}}"
      ]
     },
     "execution_count": 6,
     "metadata": {},
     "output_type": "execute_result"
    }
   ],
   "source": [
    "cepc = ComplexExpectedPointsCalculator()\n",
    "\n",
    "for i in range(1, 5):\n",
    "    for p in team.players[i]:\n",
    "        print('{}, {}'.format(FplLoader.get_player_basic_info(p.element)['web_name'], cepc.get_expected_points(p.element, 37, 36)) )\n",
    "\n",
    "team.optimal_formation(cepc, 37, 36)"
   ]
  },
  {
   "cell_type": "markdown",
   "metadata": {},
   "source": [
    "### Finding the optimal transfers over a particular horizon"
   ]
  },
  {
   "cell_type": "code",
   "execution_count": 8,
   "metadata": {},
   "outputs": [
    {
     "name": "stdout",
     "output_type": "stream",
     "text": [
      "[Player(element=29, name='White', position=2, club=1, cost=61), Player(element=349, name='De Bruyne', position=3, club=13, cost=106), Player(element=382, name='Garnacho', position=3, club=14, cost=50), Player(element=415, name='Isak', position=4, club=15, cost=84), Player(element=794, name='White', position=3, club=15, cost=45), Player(element=511, name='Romero', position=2, club=18, cost=51), Player(element=639, name='Van de Ven', position=2, club=18, cost=44)]\n"
     ]
    }
   ],
   "source": [
    "candidate_list_web_names = ['Isak',\n",
    "                            'White',\n",
    "                            'De Bruyne',\n",
    "                            'Garnacho',\n",
    "                            'Romero',\n",
    "                            'Van de Ven'\n",
    "                           ]\n",
    "candidate_list = []\n",
    "\n",
    "for p in FplLoader.get_static_info()['elements']:\n",
    "    if p['web_name'] in candidate_list_web_names:\n",
    "        d = {\n",
    "            'element': p['id'],\n",
    "            'name': p['web_name'],\n",
    "            'position': p['element_type'],\n",
    "            'club':  p['team'],\n",
    "            'cost': p['now_cost']\n",
    "        }\n",
    "        candidate_list.append(Player(**d))\n",
    "        \n",
    "print(candidate_list)"
   ]
  },
  {
   "cell_type": "code",
   "execution_count": 11,
   "metadata": {},
   "outputs": [],
   "source": [
    "top_three = optimize_team(team, candidate_list, 3, ComplexExpectedPointsCalculator(), 36, 35, 2)\n",
    "third_best_score, third_best_team = heapq.heappop(top_three)\n",
    "second_best_score, second_best_team = heapq.heappop(top_three)\n",
    "first_best_score, first_best_team = heapq.heappop(top_three)"
   ]
  },
  {
   "cell_type": "code",
   "execution_count": 12,
   "metadata": {},
   "outputs": [
    {
     "name": "stdout",
     "output_type": "stream",
     "text": [
      "Score: 31.55625\n",
      "---------------------------------------------------------------------------\n",
      "GKP\n",
      "Player(element=263, name='Pickford', position=1, club=9, cost=47)\n",
      "Player(element=687, name='Petrović', position=1, club=7, cost=46)\n",
      "---------------------------------------------------------------------------\n",
      "DEF\n",
      "Player(element=407, name='Burn', position=2, club=15, cost=46)\n",
      "Player(element=616, name='Gvardiol', position=2, club=13, cost=50)\n",
      "Player(element=506, name='Pedro Porro', position=2, club=18, cost=58)\n",
      "Player(element=150, name='Van Hecke', position=2, club=5, cost=40)\n",
      "Player(element=5, name='Gabriel', position=2, club=1, cost=52)\n",
      "---------------------------------------------------------------------------\n",
      "MID\n",
      "Player(element=353, name='Foden', position=3, club=13, cost=83)\n",
      "Player(element=362, name='Palmer', position=3, club=7, cost=58)\n",
      "Player(element=516, name='Son', position=3, club=18, cost=98)\n",
      "Player(element=412, name='Gordon', position=3, club=15, cost=62)\n",
      "Player(element=373, name='B.Fernandes', position=3, club=14, cost=84)\n",
      "---------------------------------------------------------------------------\n",
      "FWD\n",
      "Player(element=415, name='Isak', position=4, club=15, cost=84)\n",
      "Player(element=355, name='Haaland', position=4, club=13, cost=141)\n",
      "Player(element=211, name='N.Jackson', position=4, club=7, cost=69)\n",
      "---------------------------------------------------------------------------\n",
      "MONEY IN BANK: 7\n",
      "FREE TRANSFERS: 1\n"
     ]
    }
   ],
   "source": [
    "print(\"Score: {}\".format(first_best_score/4))\n",
    "print(first_best_team)"
   ]
  },
  {
   "cell_type": "code",
   "execution_count": 20,
   "metadata": {},
   "outputs": [
    {
     "name": "stdout",
     "output_type": "stream",
     "text": [
      "Score: 67.33875\n",
      "---------------------------------------------------------------------------\n",
      "GKP\n",
      "Player(element=687, name='Petrović', position=1, club=7, cost=46)\n",
      "Player(element=263, name='Pickford', position=1, club=9, cost=47)\n",
      "---------------------------------------------------------------------------\n",
      "DEF\n",
      "Player(element=5, name='Gabriel', position=2, club=1, cost=52)\n",
      "Player(element=407, name='Burn', position=2, club=15, cost=45)\n",
      "Player(element=150, name='Van Hecke', position=2, club=5, cost=40)\n",
      "Player(element=616, name='Gvardiol', position=2, club=13, cost=49)\n",
      "Player(element=29, name='White', position=2, club=1, cost=61)\n",
      "---------------------------------------------------------------------------\n",
      "MID\n",
      "Player(element=353, name='Foden', position=3, club=13, cost=83)\n",
      "Player(element=412, name='Gordon', position=3, club=15, cost=62)\n",
      "Player(element=373, name='B.Fernandes', position=3, club=14, cost=84)\n",
      "Player(element=362, name='Palmer', position=3, club=7, cost=58)\n",
      "Player(element=516, name='Son', position=3, club=18, cost=98)\n",
      "---------------------------------------------------------------------------\n",
      "FWD\n",
      "Player(element=60, name='Watkins', position=4, club=2, cost=90)\n",
      "Player(element=415, name='Isak', position=4, club=15, cost=83)\n",
      "Player(element=211, name='N.Jackson', position=4, club=7, cost=68)\n",
      "---------------------------------------------------------------------------\n",
      "MONEY IN BANK: 56\n",
      "FREE TRANSFERS: -1\n"
     ]
    }
   ],
   "source": [
    "print(\"Score: {}\".format(second_best_score/4))\n",
    "print(second_best_team)"
   ]
  },
  {
   "cell_type": "code",
   "execution_count": 29,
   "metadata": {},
   "outputs": [],
   "source": [
    "def get_expected_points_until_end_of_season(element):\n",
    "    s = 0\n",
    "    for i in [35, 36, 37, 38]:\n",
    "        s += cepc.get_expected_points(element, i, 34)\n",
    "    print('{}, {}'.format(FplLoader.get_player_basic_info(element)['web_name'], s))\n",
    "    "
   ]
  },
  {
   "cell_type": "code",
   "execution_count": 30,
   "metadata": {},
   "outputs": [
    {
     "name": "stdout",
     "output_type": "stream",
     "text": [
      "Isak, 23.449999999999996\n",
      "Schär, 21.75\n",
      "Watkins, 28.2\n",
      "Burn, 16.5\n"
     ]
    }
   ],
   "source": [
    "get_expected_points_until_end_of_season(415)\n",
    "get_expected_points_until_end_of_season(427)\n",
    "get_expected_points_until_end_of_season(60)\n",
    "get_expected_points_until_end_of_season(407)"
   ]
  },
  {
   "cell_type": "code",
   "execution_count": 33,
   "metadata": {},
   "outputs": [
    {
     "name": "stdout",
     "output_type": "stream",
     "text": [
      "B.Fernandes, 26.75\n",
      "De Bruyne, 21.375000000000004\n"
     ]
    }
   ],
   "source": [
    "print('{}, {}'.format(FplLoader.get_player_basic_info(373)['web_name'], cepc.get_expected_points(373, 35, 34) + cepc.get_expected_points(373, 36, 34) + cepc.get_expected_points(373, 37, 34)+cepc.get_expected_points(373, 38, 34)) )\n",
    "print('{}, {}'.format(FplLoader.get_player_basic_info(349)['web_name'], cepc.get_expected_points(349, 35, 34) + cepc.get_expected_points(349, 36, 34) + cepc.get_expected_points(349, 37, 34) + cepc.get_expected_points(349, 38, 34)) )"
   ]
  },
  {
   "cell_type": "markdown",
   "metadata": {},
   "source": [
    "### What does the fixture difficulty score actually mean?"
   ]
  },
  {
   "cell_type": "code",
   "execution_count": 63,
   "metadata": {
    "scrolled": true
   },
   "outputs": [
    {
     "name": "stdout",
     "output_type": "stream",
     "text": [
      "Burnley : 5, Man City : 2\n",
      "Man City : 3, Newcastle : 5\n",
      "Sheffield Utd : 5, Man City : 2\n",
      "Chelsea : 2, Nott'm Forest : 3\n",
      "Bournemouth : 3, Chelsea : 2\n",
      "Chelsea : 3, Aston Villa : 3\n",
      "Fulham : 3, Chelsea : 3\n",
      "Burnley : 3, Chelsea : 2\n",
      "Chelsea : 5, Arsenal : 3\n",
      "Chelsea : 2, Brentford : 3\n",
      "Spurs : 3, Chelsea : 4\n",
      "Chelsea : 5, Man City : 3\n",
      "Newcastle : 3, Chelsea : 4\n",
      "Chelsea : 2, Brighton : 3\n",
      "Man Utd : 3, Chelsea : 4\n",
      "Everton : 3, Chelsea : 2\n",
      "Chelsea : 2, Sheffield Utd : 3\n",
      "Wolves : 3, Chelsea : 2\n",
      "Chelsea : 2, Crystal Palace : 3\n",
      "Luton : 3, Chelsea : 2\n",
      "Chelsea : 2, Fulham : 3\n",
      "Liverpool : 3, Chelsea : 5\n",
      "Chelsea : 2, Wolves : 3\n",
      "Crystal Palace : 3, Chelsea : 2\n",
      "Man City : 3, Chelsea : 5\n",
      "Brentford : 3, Chelsea : 2\n",
      "Chelsea : 3, Newcastle : 3\n",
      "Chelsea : 2, Burnley : 3\n",
      "Chelsea : 3, Man Utd : 3\n",
      "Sheffield Utd : 3, Chelsea : 2\n",
      "Chelsea : 2, Everton : 3\n",
      "Arsenal : 3, Chelsea : 5\n"
     ]
    }
   ],
   "source": [
    "for fixture in FplLoader.get_player_detailed_info(362)['history']:\n",
    "    fid = fixture['fixture']\n",
    "    team_h = FplLoader.get_team_basic_info(FplLoader.get_fixture_info(fid)['team_h'])['name']\n",
    "    team_a = FplLoader.get_team_basic_info(FplLoader.get_fixture_info(fid)['team_a'])['name']\n",
    "    team_h_difficulty = FplLoader.get_fixture_info(fid)['team_h_difficulty'] # what is the difficulty home team plays against\n",
    "    team_a_difficulty = FplLoader.get_fixture_info(fid)['team_a_difficulty'] # what is the difficulty away team plays against\n",
    "    print(\"{} : {}, {} : {}\".format(team_h, team_h_difficulty, team_a, team_a_difficulty))"
   ]
  },
  {
   "cell_type": "markdown",
   "metadata": {},
   "source": [
    "### How to find a particular player?"
   ]
  },
  {
   "cell_type": "code",
   "execution_count": 8,
   "metadata": {},
   "outputs": [
    {
     "name": "stdout",
     "output_type": "stream",
     "text": [
      "{'chance_of_playing_next_round': 100, 'chance_of_playing_this_round': 100, 'code': 198869, 'cost_change_event': 1, 'cost_change_event_fall': -1, 'cost_change_start': 6, 'cost_change_start_fall': -6, 'dreamteam_count': 5, 'element_type': 2, 'ep_next': '8.2', 'ep_this': '7.7', 'event_points': 1, 'first_name': 'Benjamin', 'form': '7.2', 'id': 29, 'in_dreamteam': True, 'news': '', 'news_added': '2023-11-12T02:00:08.673390Z', 'now_cost': 61, 'photo': '198869.jpg', 'points_per_game': '4.9', 'second_name': 'White', 'selected_by_percent': '22.1', 'special': False, 'squad_number': None, 'status': 'a', 'team': 1, 'team_code': 3, 'total_points': 168, 'transfers_in': 3004762, 'transfers_in_event': 133932, 'transfers_out': 1705800, 'transfers_out_event': 18437, 'value_form': '1.2', 'value_season': '27.5', 'web_name': 'White', 'minutes': 2739, 'goals_scored': 4, 'assists': 5, 'clean_sheets': 16, 'goals_conceded': 25, 'own_goals': 0, 'penalties_saved': 0, 'penalties_missed': 0, 'yellow_cards': 8, 'red_cards': 0, 'saves': 0, 'bonus': 14, 'bps': 717, 'influence': '722.4', 'creativity': '515.3', 'threat': '209.0', 'ict_index': '144.7', 'starts': 32, 'expected_goals': '1.14', 'expected_assists': '3.32', 'expected_goal_involvements': '4.46', 'expected_goals_conceded': '23.44', 'influence_rank': 42, 'influence_rank_type': 10, 'creativity_rank': 59, 'creativity_rank_type': 9, 'threat_rank': 166, 'threat_rank_type': 26, 'ict_index_rank': 72, 'ict_index_rank_type': 7, 'corners_and_indirect_freekicks_order': None, 'corners_and_indirect_freekicks_text': '', 'direct_freekicks_order': None, 'direct_freekicks_text': '', 'penalties_order': None, 'penalties_text': '', 'expected_goals_per_90': 0.04, 'saves_per_90': 0.0, 'expected_assists_per_90': 0.11, 'expected_goal_involvements_per_90': 0.15, 'expected_goals_conceded_per_90': 0.77, 'goals_conceded_per_90': 0.82, 'now_cost_rank': 62, 'now_cost_rank_type': 5, 'form_rank': 8, 'form_rank_type': 1, 'points_per_game_rank': 19, 'points_per_game_rank_type': 2, 'selected_rank': 13, 'selected_rank_type': 3, 'starts_per_90': 1.05, 'clean_sheets_per_90': 0.53}\n",
      "{'chance_of_playing_next_round': None, 'chance_of_playing_this_round': None, 'code': 461484, 'cost_change_event': 0, 'cost_change_event_fall': 0, 'cost_change_start': 0, 'cost_change_start_fall': 0, 'dreamteam_count': 0, 'element_type': 3, 'ep_next': '1.0', 'ep_this': '1.0', 'event_points': 0, 'first_name': 'Joe', 'form': '0.5', 'id': 794, 'in_dreamteam': False, 'news': '', 'news_added': None, 'now_cost': 45, 'photo': '461484.jpg', 'points_per_game': '0.8', 'second_name': 'White', 'selected_by_percent': '0.0', 'special': False, 'squad_number': None, 'status': 'a', 'team': 15, 'team_code': 4, 'total_points': 3, 'transfers_in': 639, 'transfers_in_event': 18, 'transfers_out': 405, 'transfers_out_event': 17, 'value_form': '0.1', 'value_season': '0.7', 'web_name': 'White', 'minutes': 12, 'goals_scored': 0, 'assists': 0, 'clean_sheets': 0, 'goals_conceded': 0, 'own_goals': 0, 'penalties_saved': 0, 'penalties_missed': 0, 'yellow_cards': 1, 'red_cards': 0, 'saves': 0, 'bonus': 0, 'bps': 9, 'influence': '0.8', 'creativity': '1.1', 'threat': '0.0', 'ict_index': '0.1', 'starts': 0, 'expected_goals': '0.00', 'expected_assists': '0.00', 'expected_goal_involvements': '0.00', 'expected_goals_conceded': '0.24', 'influence_rank': 533, 'influence_rank_type': 240, 'creativity_rank': 491, 'creativity_rank_type': 236, 'threat_rank': 725, 'threat_rank_type': 283, 'ict_index_rank': 544, 'ict_index_rank_type': 246, 'corners_and_indirect_freekicks_order': None, 'corners_and_indirect_freekicks_text': '', 'direct_freekicks_order': None, 'direct_freekicks_text': '', 'penalties_order': None, 'penalties_text': '', 'expected_goals_per_90': 0.0, 'saves_per_90': 0.0, 'expected_assists_per_90': 0.0, 'expected_goal_involvements_per_90': 0.0, 'expected_goals_conceded_per_90': 1.8, 'goals_conceded_per_90': 0.0, 'now_cost_rank': 422, 'now_cost_rank_type': 245, 'form_rank': 332, 'form_rank_type': 160, 'points_per_game_rank': 536, 'points_per_game_rank_type': 251, 'selected_rank': 766, 'selected_rank_type': 305, 'starts_per_90': 0.0, 'clean_sheets_per_90': 0.0}\n"
     ]
    },
    {
     "data": {
      "text/plain": [
       "'Aston Villa'"
      ]
     },
     "execution_count": 8,
     "metadata": {},
     "output_type": "execute_result"
    }
   ],
   "source": [
    "for p in FplLoader.get_static_info()['elements']:\n",
    "    if p['web_name']=='White':\n",
    "        print(p)\n",
    "        \n",
    "FplLoader.get_team_basic_info(FplLoader.get_player_basic_info(60)['team'])['name']"
   ]
  },
  {
   "cell_type": "code",
   "execution_count": null,
   "metadata": {},
   "outputs": [],
   "source": [
    "DataLoader.get_position_info(3)"
   ]
  },
  {
   "cell_type": "code",
   "execution_count": 47,
   "metadata": {},
   "outputs": [
    {
     "name": "stdout",
     "output_type": "stream",
     "text": [
      "Ødegaard 5.2\n",
      "Saka 6.3\n",
      "Watkins 6.6\n",
      "Mbeumo 5.2\n",
      "March 5.6\n",
      "Palmer 7.4\n",
      "Olise 6.3\n",
      "Diogo J. 5.2\n",
      "Salah 6.9\n",
      "De Bruyne 5.2\n",
      "Foden 6.1\n",
      "Haaland 6.7\n",
      "Gordon 5.3\n",
      "Isak 5.5\n",
      "Son 6.4\n",
      "Bowen 5.3\n"
     ]
    }
   ],
   "source": [
    "for p in FplLoader.get_static_info()['elements']:\n",
    "    if float(p['points_per_game']) > 5:\n",
    "        print(p['web_name'], p['points_per_game'])"
   ]
  },
  {
   "cell_type": "code",
   "execution_count": 5,
   "metadata": {},
   "outputs": [
    {
     "name": "stdout",
     "output_type": "stream",
     "text": [
      "1 Arsenal\n",
      "2 Aston Villa\n",
      "6 Burnley\n",
      "12 Luton\n",
      "13 Man City\n",
      "16 Nott'm Forest\n",
      "18 Spurs\n"
     ]
    }
   ],
   "source": [
    "for i in set([1, 2, 18, 13, 6, 12, 16]):\n",
    "    print(i, FplLoader.get_team_basic_info(i)['name'])"
   ]
  }
 ],
 "metadata": {
  "kernelspec": {
   "display_name": "Python 3 (ipykernel)",
   "language": "python",
   "name": "python3"
  },
  "language_info": {
   "codemirror_mode": {
    "name": "ipython",
    "version": 3
   },
   "file_extension": ".py",
   "mimetype": "text/x-python",
   "name": "python",
   "nbconvert_exporter": "python",
   "pygments_lexer": "ipython3",
   "version": "3.12.3"
  }
 },
 "nbformat": 4,
 "nbformat_minor": 2
}
