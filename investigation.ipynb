{
 "cells": [
  {
   "cell_type": "code",
   "execution_count": 1,
   "id": "9370ecb4",
   "metadata": {},
   "outputs": [],
   "source": [
    "from fpl import Loader, Player, Team, SimpleExpectedPointsCalculator, Optimizer\n",
    "import heapq"
   ]
  },
  {
   "cell_type": "markdown",
   "id": "8c065068",
   "metadata": {},
   "source": [
    "## Dowloading your personal FPL team\n",
    "\n",
    "To download your own personal FPL team use `Loader.get_my_team(login, password, manager_id, how, filename)`\n",
    "\n",
    "To do download from the API you need your login details and `manager_id`. To get your `manager_id`:\n",
    "1. Log on to [Fantasy Premier League](https://fantasy.premierleague.com/) and navigate to the points tab.\n",
    "2. Your `manager_id` should appear somewhere in the URL. [FPL APIs Explained](https://www.oliverlooney.com/blogs/FPL-APIs-Explained#how-to-use-authenticated-endpoints) has some screenshots of this.\n",
    "\n",
    "If the download from the API fails, you can manually download the json blob as a local file:\n",
    "1. Log on to [Fantasy Premier League](https://fantasy.premierleague.com/)\n",
    "2. View a json blob of your team by typing this URL `https://fantasy.premierleague.com/api/my-team/{manager_id}/` into your browser with the appropriate `manager_id`\n",
    "3. Save the blob locally for example as `my_team.json`\n"
   ]
  },
  {
   "cell_type": "code",
   "execution_count": 2,
   "id": "166482fa",
   "metadata": {
    "scrolled": false
   },
   "outputs": [
    {
     "name": "stdout",
     "output_type": "stream",
     "text": [
      "---------------------------------------------------------------------------\n",
      "{GKPS}\n",
      "Player(element=201, name='Henderson', position=1, club=7, cost=44)\n",
      "Player(element=521, name='Fabianski', position=1, club=19, cost=41)\n",
      "---------------------------------------------------------------------------\n",
      "{DEFS}\n",
      "Player(element=70, name='Kerkez', position=2, club=3, cost=47)\n",
      "Player(element=231, name='Mykolenko', position=2, club=8, cost=43)\n",
      "Player(element=311, name='Alexander-Arnold', position=2, club=12, cost=72)\n",
      "Player(element=399, name='Hall', position=2, club=15, cost=47)\n",
      "Player(element=475, name='Taylor', position=2, club=17, cost=39)\n",
      "---------------------------------------------------------------------------\n",
      "{MIDS}\n",
      "Player(element=99, name='Mbeumo', position=3, club=4, cost=78)\n",
      "Player(element=182, name='Palmer', position=3, club=6, cost=109)\n",
      "Player(element=328, name='M.Salah', position=3, club=12, cost=132)\n",
      "Player(element=366, name='B.Fernandes', position=3, club=14, cost=84)\n",
      "Player(element=585, name='I.Sarr', position=3, club=7, cost=57)\n",
      "---------------------------------------------------------------------------\n",
      "{FWDS}\n",
      "Player(element=129, name='João Pedro', position=4, club=5, cost=55)\n",
      "Player(element=401, name='Isak', position=4, club=15, cost=92)\n",
      "Player(element=447, name='Wood', position=4, club=16, cost=70)\n",
      "---------------------------------------------------------------------------\n",
      "MONEY IN BANK: 1\n",
      "FREE TRANSFERS: 1\n"
     ]
    }
   ],
   "source": [
    "# team = Loader.get_my_team(login=\"email\", password=\"password\", manager_id=123456, how=\"api\")\n",
    "team = Loader.get_my_team(\n",
    "    login=\"\", password=\"\", manager_id=0, how=\"local\", filename=\"resources/my_team.json\"\n",
    ")\n",
    "print(team)"
   ]
  },
  {
   "cell_type": "markdown",
   "id": "31d3d861",
   "metadata": {},
   "source": [
    "## Creating a candidate list\n",
    "\n",
    "Create a `candidates` list of players you want to transfer in, you can use the `Loader.find_matching_players(search_name, matching_threshold)` function below to help (remember to search by a player's name as it appears on the fpl website)"
   ]
  },
  {
   "cell_type": "code",
   "execution_count": 3,
   "id": "58978115",
   "metadata": {},
   "outputs": [
    {
     "data": {
      "text/plain": [
       "[(Player(element=115, name='Baleba', position=3, club=5, cost=50),\n",
       "  'Carlos Baleba'),\n",
       " (Player(element=223, name='Garner', position=3, club=8, cost=49),\n",
       "  'James Garner'),\n",
       " (Player(element=240, name='Andreas', position=3, club=9, cost=50),\n",
       "  'Andreas Hoelgebaum Pereira'),\n",
       " (Player(element=311, name='Alexander-Arnold', position=2, club=12, cost=74),\n",
       "  'Trent Alexander-Arnold'),\n",
       " (Player(element=642, name='André', position=3, club=20, cost=50),\n",
       "  'André Trindade da Costa Neto')]"
      ]
     },
     "execution_count": 3,
     "metadata": {},
     "output_type": "execute_result"
    }
   ],
   "source": [
    "Loader.find_matching_players(search_name=\"alexander arnold\", threshold=50)"
   ]
  },
  {
   "cell_type": "code",
   "execution_count": 4,
   "id": "52e5c5d0",
   "metadata": {},
   "outputs": [],
   "source": [
    "candidates = [\n",
    "    Player(element=398, name=\"Gordon\", position=3, club=15, cost=77),\n",
    "    Player(element=339, name=\"Virgil\", position=2, club=12, cost=64),\n",
    "    Player(element=354, name=\"Kovačić\", position=3, club=13, cost=54),\n",
    "    Player(element=321, name=\"Gakpo\", position=4, club=12, cost=76),\n",
    "    Player(element=364, name=\"Amad\", position=3, club=14, cost=56),\n",
    "]"
   ]
  },
  {
   "cell_type": "markdown",
   "id": "b3918084",
   "metadata": {},
   "source": [
    "## Optimizing your team\n",
    "\n",
    "`Optimizer.calc_optimial_formation()` is used to calculate the best possible for a particular gameweek.\n",
    "\n",
    "`Optimizer.calc_discounted_reward_player()` is used to calculate how you think each player will perform on an individual basis over the coming gameweeks.\n",
    "\n",
    "`Optimizer.calc_discounted_reward_team()` is used to calculate how you think a particular team will perform over the coming gameweeks. Each week the formation will be optimized to play the best possible team.\n",
    "\n",
    "`Optimizer.calc_optimal_team()` is used to calculate the top three possible teams given a list of candidates.\n",
    "\n",
    "Parameters:\n",
    "- `:param epc:` Your prediction how a particular player will score on a particular gameweek is summarized by an `ExpectedPointsCalculator`. Here we use a `SimpleExpectedPointsCalculator` but we show below how to make your own expected points calculator below."
   ]
  },
  {
   "cell_type": "code",
   "execution_count": 5,
   "id": "c9997871",
   "metadata": {},
   "outputs": [
    {
     "data": {
      "text/plain": [
       "{Player(element=398, name='Gordon', position=3, club=15, cost=77): 23.625,\n",
       " Player(element=339, name='Virgil', position=2, club=12, cost=64): 22.125,\n",
       " Player(element=354, name='Kovačić', position=3, club=13, cost=54): 19.875000000000004,\n",
       " Player(element=321, name='Gakpo', position=4, club=12, cost=76): 25.0,\n",
       " Player(element=364, name='Amad', position=3, club=14, cost=56): 30.625}"
      ]
     },
     "execution_count": 5,
     "metadata": {},
     "output_type": "execute_result"
    }
   ],
   "source": [
    "{\n",
    "    c: Optimizer.calc_discounted_reward_player(\n",
    "        player=c,\n",
    "        epc=SimpleExpectedPointsCalculator,\n",
    "        gameweek=Loader.get_next_gameweek(),\n",
    "        horizon=5,\n",
    "        gamma=1,\n",
    "    )\n",
    "    for c in candidates\n",
    "}"
   ]
  },
  {
   "cell_type": "code",
   "execution_count": 6,
   "id": "efe2b446",
   "metadata": {},
   "outputs": [
    {
     "name": "stdout",
     "output_type": "stream",
     "text": [
      "Score: 253.79481\n",
      "---------------------------------------------------------------------------\n",
      "{GKPS}\n",
      "Player(element=201, name='Henderson', position=1, club=7, cost=44)\n",
      "Player(element=521, name='Fabianski', position=1, club=19, cost=41)\n",
      "---------------------------------------------------------------------------\n",
      "{DEFS}\n",
      "Player(element=70, name='Kerkez', position=2, club=3, cost=47)\n",
      "Player(element=231, name='Mykolenko', position=2, club=8, cost=43)\n",
      "Player(element=311, name='Alexander-Arnold', position=2, club=12, cost=72)\n",
      "Player(element=399, name='Hall', position=2, club=15, cost=47)\n",
      "Player(element=475, name='Taylor', position=2, club=17, cost=39)\n",
      "---------------------------------------------------------------------------\n",
      "{MIDS}\n",
      "Player(element=99, name='Mbeumo', position=3, club=4, cost=78)\n",
      "Player(element=182, name='Palmer', position=3, club=6, cost=109)\n",
      "Player(element=328, name='M.Salah', position=3, club=12, cost=132)\n",
      "Player(element=364, name='Amad', position=3, club=14, cost=56)\n",
      "Player(element=366, name='B.Fernandes', position=3, club=14, cost=84)\n",
      "---------------------------------------------------------------------------\n",
      "{FWDS}\n",
      "Player(element=129, name='João Pedro', position=4, club=5, cost=55)\n",
      "Player(element=401, name='Isak', position=4, club=15, cost=92)\n",
      "Player(element=447, name='Wood', position=4, club=16, cost=70)\n",
      "---------------------------------------------------------------------------\n",
      "MONEY IN BANK: 2\n",
      "FREE TRANSFERS: 0\n"
     ]
    }
   ],
   "source": [
    "top_three = Optimizer.calc_optimal_teams(\n",
    "    team,  # Your current fpl team.\n",
    "    candidates,  # Whichever players you want to transfer in.\n",
    "    SimpleExpectedPointsCalculator,  # How you want to calculate the expected points for each player.\n",
    "    gameweek=Loader.get_next_gameweek(),  # Which gameweek do you want to start on.\n",
    "    horizon=5,  # How many gameweeks do you want to calculate over.\n",
    "    max_transfers=2,  # The maximum number of transfers allowed in the optimization.\n",
    "    gamma=0.8,  # The discount factor.\n",
    "    wildcard=False,  # Flag when True turns off the transfer adjustment.\n",
    ")\n",
    "third_best_score, third_best_team = heapq.heappop(top_three)\n",
    "second_best_score, second_best_team = heapq.heappop(top_three)\n",
    "first_best_score, first_best_team = heapq.heappop(top_three)\n",
    "print(\"Score: {}\".format(first_best_score))\n",
    "print(first_best_team)"
   ]
  },
  {
   "cell_type": "code",
   "execution_count": 10,
   "id": "e421cedc",
   "metadata": {},
   "outputs": [
    {
     "name": "stdout",
     "output_type": "stream",
     "text": [
      "Formation(total_exp_points=81.05624999999999, gkps=frozenset({Player(element=201, name='Henderson', position=1, club=7, cost=44)}), defs=frozenset({Player(element=311, name='Alexander-Arnold', position=2, club=12, cost=72), Player(element=70, name='Kerkez', position=2, club=3, cost=47), Player(element=231, name='Mykolenko', position=2, club=8, cost=43)}), mids=frozenset({Player(element=182, name='Palmer', position=3, club=6, cost=109), Player(element=364, name='Amad', position=3, club=14, cost=56), Player(element=99, name='Mbeumo', position=3, club=4, cost=78), Player(element=328, name='M.Salah', position=3, club=12, cost=132), Player(element=366, name='B.Fernandes', position=3, club=14, cost=84)}), fwds=frozenset({Player(element=447, name='Wood', position=4, club=16, cost=70), Player(element=401, name='Isak', position=4, club=15, cost=92)}), captain=Player(element=328, name='M.Salah', position=3, club=12, cost=132))\n"
     ]
    }
   ],
   "source": [
    "Optimizer.calc_optimal_formation(\n",
    "    first_best_team, SimpleExpectedPointsCalculator, Loader.get_next_gameweek()\n",
    ")"
   ]
  },
  {
   "cell_type": "code",
   "execution_count": 8,
   "id": "7106df55",
   "metadata": {},
   "outputs": [
    {
     "data": {
      "text/plain": [
       "Formation(total_exp_points=80.85625, gkps=frozenset({Player(element=201, name='Henderson', position=1, club=7, cost=44)}), defs=frozenset({Player(element=311, name='Alexander-Arnold', position=2, club=12, cost=72), Player(element=70, name='Kerkez', position=2, club=3, cost=47), Player(element=231, name='Mykolenko', position=2, club=8, cost=43)}), mids=frozenset({Player(element=585, name='I.Sarr', position=3, club=7, cost=57), Player(element=182, name='Palmer', position=3, club=6, cost=109), Player(element=364, name='Amad', position=3, club=14, cost=56), Player(element=99, name='Mbeumo', position=3, club=4, cost=78), Player(element=328, name='M.Salah', position=3, club=12, cost=132)}), fwds=frozenset({Player(element=447, name='Wood', position=4, club=16, cost=70), Player(element=401, name='Isak', position=4, club=15, cost=92)}), captain=Player(element=328, name='M.Salah', position=3, club=12, cost=132))"
      ]
     },
     "execution_count": 8,
     "metadata": {},
     "output_type": "execute_result"
    }
   ],
   "source": [
    "Optimizer.calc_optimal_formation(\n",
    "    second_best_team, SimpleExpectedPointsCalculator, Loader.get_next_gameweek()\n",
    ")"
   ]
  },
  {
   "cell_type": "code",
   "execution_count": 9,
   "id": "0eec9802",
   "metadata": {},
   "outputs": [
    {
     "data": {
      "text/plain": [
       "Formation(total_exp_points=79.85625, gkps=frozenset({Player(element=201, name='Henderson', position=1, club=7, cost=44)}), defs=frozenset({Player(element=311, name='Alexander-Arnold', position=2, club=12, cost=72), Player(element=70, name='Kerkez', position=2, club=3, cost=47), Player(element=231, name='Mykolenko', position=2, club=8, cost=43)}), mids=frozenset({Player(element=585, name='I.Sarr', position=3, club=7, cost=57), Player(element=182, name='Palmer', position=3, club=6, cost=109), Player(element=99, name='Mbeumo', position=3, club=4, cost=78), Player(element=328, name='M.Salah', position=3, club=12, cost=132), Player(element=366, name='B.Fernandes', position=3, club=14, cost=84)}), fwds=frozenset({Player(element=447, name='Wood', position=4, club=16, cost=70), Player(element=401, name='Isak', position=4, club=15, cost=92)}), captain=Player(element=328, name='M.Salah', position=3, club=12, cost=132))"
      ]
     },
     "execution_count": 9,
     "metadata": {},
     "output_type": "execute_result"
    }
   ],
   "source": [
    "Optimizer.calc_optimal_formation(\n",
    "    team, SimpleExpectedPointsCalculator, Loader.get_next_gameweek()\n",
    ")"
   ]
  },
  {
   "cell_type": "code",
   "execution_count": null,
   "id": "8a8a13cb",
   "metadata": {},
   "outputs": [],
   "source": []
  }
 ],
 "metadata": {
  "kernelspec": {
   "display_name": "Python 3 (ipykernel)",
   "language": "python",
   "name": "python3"
  },
  "language_info": {
   "codemirror_mode": {
    "name": "ipython",
    "version": 3
   },
   "file_extension": ".py",
   "mimetype": "text/x-python",
   "name": "python",
   "nbconvert_exporter": "python",
   "pygments_lexer": "ipython3",
   "version": "3.9.21"
  }
 },
 "nbformat": 4,
 "nbformat_minor": 5
}
