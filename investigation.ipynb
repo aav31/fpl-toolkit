{
 "cells": [
  {
   "cell_type": "code",
   "execution_count": 1,
   "id": "9370ecb4",
   "metadata": {},
   "outputs": [],
   "source": [
    "from fpl import Loader, Player, Team, ExpectedPointsCalculator, Optimizer\n",
    "from typing import List\n",
    "import heapq"
   ]
  },
  {
   "cell_type": "markdown",
   "id": "6969eff4",
   "metadata": {},
   "source": [
    "### Dowloading the team"
   ]
  },
  {
   "cell_type": "code",
   "execution_count": 2,
   "id": "166482fa",
   "metadata": {},
   "outputs": [
    {
     "name": "stdout",
     "output_type": "stream",
     "text": [
      "---------------------------------------------------------------------------\n",
      "{GKPS}\n",
      "Player(element=109, name='Valdimarsson', position=1, club=4, cost=40)\n",
      "Player(element=413, name='Pope', position=1, club=15, cost=50)\n",
      "---------------------------------------------------------------------------\n",
      "{DEFS}\n",
      "Player(element=18, name='Saliba', position=2, club=1, cost=60)\n",
      "Player(element=116, name='Barco', position=2, club=5, cost=40)\n",
      "Player(element=211, name='Muñoz', position=2, club=7, cost=50)\n",
      "Player(element=231, name='Mykolenko', position=2, club=8, cost=45)\n",
      "Player(element=350, name='Gvardiol', position=2, club=13, cost=60)\n",
      "---------------------------------------------------------------------------\n",
      "{MIDS}\n",
      "Player(element=17, name='Saka', position=3, club=1, cost=100)\n",
      "Player(element=181, name='Nkunku', position=3, club=6, cost=65)\n",
      "Player(element=182, name='Palmer', position=3, club=6, cost=105)\n",
      "Player(element=199, name='Eze', position=3, club=7, cost=70)\n",
      "Player(element=328, name='M.Salah', position=3, club=12, cost=125)\n",
      "---------------------------------------------------------------------------\n",
      "{FWDS}\n",
      "Player(element=251, name='Muniz', position=4, club=9, cost=60)\n",
      "Player(element=286, name='Cannon', position=4, club=11, cost=45)\n",
      "Player(element=401, name='Isak', position=4, club=15, cost=85)\n",
      "---------------------------------------------------------------------------\n",
      "MONEY IN BANK: 0\n",
      "FREE TRANSFERS: 0\n"
     ]
    }
   ],
   "source": [
    "picks = Loader.get_my_team_from_api(\"aledvaghela@gmail.com\", \"NCP@jxy7pau-bvm3cuf\", 3247546)['picks']\n",
    "gkps, defs, mids, fwds = set(), set(), set(), set()\n",
    "for pick in picks:\n",
    "    d = {'element': pick['element'],\n",
    "         'name': Loader.get_player_basic_info(pick['element'])['web_name'],\n",
    "         'position': Loader.get_player_basic_info(pick['element'])['element_type'],\n",
    "         'club': Loader.get_player_basic_info(pick['element'])['team'],\n",
    "         'cost': pick['selling_price'],\n",
    "        }\n",
    "    player = Player(**d)\n",
    "    if player.position == 1: gkps.add(player)\n",
    "    if player.position == 2: defs.add(player)\n",
    "    if player.position == 3: mids.add(player)\n",
    "    if player.position == 4: fwds.add(player)\n",
    "\n",
    "money_in_bank = Loader.get_my_team_from_api(\"aledvaghela@gmail.com\", \"NCP@jxy7pau-bvm3cuf\", 3247546)['transfers']['bank']\n",
    "free_transfers = Loader.get_my_team_from_api(\"aledvaghela@gmail.com\", \"NCP@jxy7pau-bvm3cuf\", 3247546)['transfers']['limit']\n",
    "free_transfers = 0 if free_transfers is None else free_transfers\n",
    "team = Team(money_in_bank, free_transfers, frozenset(gkps), frozenset(defs), frozenset(mids), frozenset(fwds))\n",
    "print(team)"
   ]
  },
  {
   "cell_type": "markdown",
   "id": "0d9553b1",
   "metadata": {},
   "source": [
    "### Find a player"
   ]
  },
  {
   "cell_type": "code",
   "execution_count": 3,
   "id": "2da48879",
   "metadata": {},
   "outputs": [
    {
     "name": "stdout",
     "output_type": "stream",
     "text": [
      "id: 193, first name: Cheick, second name: Doucouré\n",
      "id: 285, first name: Boubakary, second name: Soumaré\n",
      "id: 442, first name: Ibrahim, second name: Sangaré\n"
     ]
    }
   ],
   "source": [
    "search_name = \"ré\"\n",
    "for i in [p[\"id\"] for p in Loader.get_static_info()[\"elements\"] if p[\"web_name\"].endswith(search_name)]:\n",
    "    print(f\"id: {i}, first name: {Loader.get_player_basic_info(i)[\"first_name\"]}, second name: {Loader.get_player_basic_info(i)[\"second_name\"]}\")"
   ]
  },
  {
   "cell_type": "code",
   "execution_count": 4,
   "id": "f86fc8f9",
   "metadata": {},
   "outputs": [
    {
     "data": {
      "text/plain": [
       "{'chance_of_playing_next_round': None,\n",
       " 'chance_of_playing_this_round': None,\n",
       " 'code': 244850,\n",
       " 'cost_change_event': 0,\n",
       " 'cost_change_event_fall': 0,\n",
       " 'cost_change_start': 0,\n",
       " 'cost_change_start_fall': 0,\n",
       " 'dreamteam_count': 0,\n",
       " 'element_type': 3,\n",
       " 'ep_next': '1.5',\n",
       " 'ep_this': None,\n",
       " 'event_points': 0,\n",
       " 'first_name': 'Morgan',\n",
       " 'form': '0.0',\n",
       " 'id': 54,\n",
       " 'in_dreamteam': False,\n",
       " 'news': '',\n",
       " 'news_added': None,\n",
       " 'now_cost': 50,\n",
       " 'photo': '244850.jpg',\n",
       " 'points_per_game': '3.2',\n",
       " 'second_name': 'Rogers',\n",
       " 'selected_by_percent': '8.2',\n",
       " 'special': False,\n",
       " 'squad_number': None,\n",
       " 'status': 'a',\n",
       " 'team': 2,\n",
       " 'team_code': 7,\n",
       " 'total_points': 35,\n",
       " 'transfers_in': 0,\n",
       " 'transfers_in_event': 0,\n",
       " 'transfers_out': 0,\n",
       " 'transfers_out_event': 0,\n",
       " 'value_form': '0.0',\n",
       " 'value_season': '7.0',\n",
       " 'web_name': 'Rogers',\n",
       " 'minutes': 636,\n",
       " 'goals_scored': 3,\n",
       " 'assists': 1,\n",
       " 'clean_sheets': 2,\n",
       " 'goals_conceded': 13,\n",
       " 'own_goals': 0,\n",
       " 'penalties_saved': 0,\n",
       " 'penalties_missed': 0,\n",
       " 'yellow_cards': 3,\n",
       " 'red_cards': 0,\n",
       " 'saves': 0,\n",
       " 'bonus': 0,\n",
       " 'bps': 114,\n",
       " 'influence': '177.8',\n",
       " 'creativity': '118.4',\n",
       " 'threat': '150.0',\n",
       " 'ict_index': '44.5',\n",
       " 'starts': 8,\n",
       " 'expected_goals': '1.35',\n",
       " 'expected_assists': '0.33',\n",
       " 'expected_goal_involvements': '1.68',\n",
       " 'expected_goals_conceded': '14.55',\n",
       " 'influence_rank': 288,\n",
       " 'influence_rank_type': 124,\n",
       " 'creativity_rank': 242,\n",
       " 'creativity_rank_type': 139,\n",
       " 'threat_rank': 188,\n",
       " 'threat_rank_type': 104,\n",
       " 'ict_index_rank': 270,\n",
       " 'ict_index_rank_type': 128,\n",
       " 'corners_and_indirect_freekicks_order': None,\n",
       " 'corners_and_indirect_freekicks_text': '',\n",
       " 'direct_freekicks_order': None,\n",
       " 'direct_freekicks_text': '',\n",
       " 'penalties_order': None,\n",
       " 'penalties_text': '',\n",
       " 'expected_goals_per_90': 0.19,\n",
       " 'saves_per_90': 0.0,\n",
       " 'expected_assists_per_90': 0.05,\n",
       " 'expected_goal_involvements_per_90': 0.24,\n",
       " 'expected_goals_conceded_per_90': 2.06,\n",
       " 'goals_conceded_per_90': 1.84,\n",
       " 'now_cost_rank': 253,\n",
       " 'now_cost_rank_type': 161,\n",
       " 'form_rank': 365,\n",
       " 'form_rank_type': 117,\n",
       " 'points_per_game_rank': 122,\n",
       " 'points_per_game_rank_type': 52,\n",
       " 'selected_rank': 48,\n",
       " 'selected_rank_type': 17,\n",
       " 'starts_per_90': 1.13,\n",
       " 'clean_sheets_per_90': 0.28}"
      ]
     },
     "execution_count": 4,
     "metadata": {},
     "output_type": "execute_result"
    }
   ],
   "source": [
    "Loader.get_player_basic_info(54)"
   ]
  },
  {
   "cell_type": "markdown",
   "id": "31d3d861",
   "metadata": {},
   "source": [
    "### Candidate list"
   ]
  },
  {
   "cell_type": "code",
   "execution_count": 5,
   "id": "ea2dad82",
   "metadata": {},
   "outputs": [],
   "source": [
    "candidates_gkps = [15, 310, 413, 91, 201, 109]\n",
    "candidates_defs = [120, 311, 18, 339, 350, 495, 211, 44, 255, 231, 275, 116, 461]\n",
    "candidates_mids = [503, 17, 328, 19, 442, 54, 78, 434, 433, 28, 181, 372, 491, 398, 199, 13, 366, 317, 182]\n",
    "candidates_fwds = [351, 58, 401, 447, 251, 286, 82, 4]"
   ]
  },
  {
   "cell_type": "markdown",
   "id": "d923e776",
   "metadata": {},
   "source": [
    "### How to calculate points"
   ]
  },
  {
   "cell_type": "code",
   "execution_count": 6,
   "id": "2566885f",
   "metadata": {},
   "outputs": [],
   "source": [
    "class ComplexExpectedPointsCalculator(ExpectedPointsCalculator):\n",
    "    minutes_multiplier = {\n",
    "        \n",
    "        116: 90/90, # barco\n",
    "        231: 90/90, # mykolenko\n",
    "        461: 90/90, # bellis\n",
    "        275: 90/90, # ben johnson\n",
    "        120: 90/90, # dunk\n",
    "        311: 90/90, # arnold\n",
    "        18: 90/90, # saliba\n",
    "        339: 90/90, # virgil\n",
    "        350: 90/90, # gvardiol\n",
    "        495: 90/90, # porro\n",
    "        211: 90/90, # munoz\n",
    "        44: 90/90, # konsa\n",
    "        255: 90/90, # robinson\n",
    "        \n",
    "        181: 75/90, # nkunku\n",
    "        78: 80/90, # semenyo\n",
    "        434: 67.5/90, # hudson odoi\n",
    "        491: 67.5/90, # brennan johnson\n",
    "        372: 67.5/90, # garnacho\n",
    "        28: 75/90, # bailey\n",
    "        54: 65/90, # rogers\n",
    "        503: 85/90, # son\n",
    "        182: 85/90, # palmer\n",
    "        17: 85/90, # saka\n",
    "        328: 85/90, # salah\n",
    "        199: 80/90, # eze\n",
    "        19: 80/90, # smith rowe\n",
    "        442: 85/90, # sangare\n",
    "        433: 85/90, # gibbs white\n",
    "        398: 67.5/90, # gordon\n",
    "        13: 87.5/90, # odergard\n",
    "        366: 90/90, # fernandes\n",
    "        317: 65/90, # jota\n",
    "        \n",
    "        401: 80/90, # isak\n",
    "        58: 60/90, # watkins\n",
    "        251: 85/90, # muniz\n",
    "        447: 65/90, # wood - awonyi / other striker may displace\n",
    "        351: 80/90, # haaland\n",
    "        286: 50/90, # cannon\n",
    "        82: 70/90, # solanke\n",
    "        4: 80/90, # havertz\n",
    "    }\n",
    "    points_per_game_override = {\n",
    "        116: 3.0, # barco\n",
    "        461: 2.0, # bellis\n",
    "        275: 2.0, # ben johnson\n",
    "        \n",
    "        181: 5.0, # nkunku\n",
    "        19: 3.25, # smith rowe\n",
    "        286: 2.0, # cannon\n",
    "        \n",
    "        82: 5.0, # solanke\n",
    "        4: 4.5, # havertz\n",
    "    }\n",
    "    def get_expected_points(player_id: int, gameweek: int) -> float:\n",
    "        points_per_game = 0\n",
    "        if player_id in ComplexExpectedPointsCalculator.points_per_game_override:\n",
    "            points_per_game = ComplexExpectedPointsCalculator.points_per_game_override[player_id]\n",
    "        else:\n",
    "            points_per_game = float(Loader.get_player_basic_info(player_id)['points_per_game'])\n",
    "        \n",
    "        result = 0\n",
    "        for fixture in Loader.get_player_future_info_for_gameweek(player_id, gameweek):\n",
    "            our_team, opponent = -1, -1\n",
    "            if fixture['is_home']:\n",
    "                our_team = fixture['team_h']\n",
    "                opponent = fixture['team_a']\n",
    "            else:\n",
    "                our_team = fixture['team_a']\n",
    "                opponent = fixture['team_h']\n",
    "            \n",
    "            difficulty_alpha = 0\n",
    "            if fixture['difficulty'] == 2:\n",
    "                difficulty_alpha = 1.5\n",
    "            elif fixture['difficulty'] == 3:\n",
    "                difficulty_alpha = 0.75\n",
    "            elif fixture[\"difficulty\"] == 4:\n",
    "                difficulty_alpha = -0.75\n",
    "            elif fixture[\"difficulty\"] == 5:\n",
    "                difficulty_alpha = -1.5\n",
    "            else:\n",
    "                raise ValueError(\"Fixture difficulty should be be 2,3,4,5\")\n",
    "            \n",
    "            result += points_per_game + difficulty_alpha\n",
    "        \n",
    "        # because of the new change to the bonus points system\n",
    "        if Loader.get_player_basic_info(player_id)['element_type'] in [1,2]:\n",
    "            result -= 0.75\n",
    "        \n",
    "        # for goalies assume they start and play 90\n",
    "        if Loader.get_player_basic_info(player_id)['element_type'] == 1:\n",
    "            # manually set valdimarson 4.0m gkp pts to zero\n",
    "            return result if player_id != 109 else 0\n",
    "        \n",
    "        if player_id not in ComplexExpectedPointsCalculator.minutes_multiplier:\n",
    "            web_name = Loader.get_player_basic_info(player_id)['web_name']\n",
    "            raise KeyError(f\"You need to get the minutes for {player_id} {web_name}\")\n",
    "            \n",
    "        \n",
    "        return result * ComplexExpectedPointsCalculator.minutes_multiplier[player_id]"
   ]
  },
  {
   "cell_type": "code",
   "execution_count": 7,
   "id": "d4510c75",
   "metadata": {},
   "outputs": [],
   "source": [
    "def get_discounted_reward(player_id: int, number_gameweeks: int, gamma: float = 1) -> float:\n",
    "    \"\"\"Gets the discounted reward of a candidate over a certain number of gameweeks\n",
    "    :param player_id: the player which you want the reward for\n",
    "    :param number_gameweeks: how many gameweeks do you want to consider\n",
    "    :param gamma: discount factor\n",
    "    \n",
    "    :return: discounted reward\n",
    "    \"\"\"\n",
    "    discounted_reward = 0\n",
    "    discount_factor = 1\n",
    "    for gw in range(1, number_gameweeks+1):\n",
    "        discounted_reward += discount_factor * ComplexExpectedPointsCalculator.get_expected_points(player_id, gw)\n",
    "        discount_factor *= gamma\n",
    "    \n",
    "#     return discounted_reward\n",
    "    return discounted_reward / Loader.get_player_basic_info(player_id)[\"now_cost\"]\n",
    "\n",
    "def print_sorted_candidates(candidates: List[int], number_gameweeks: int, gamma: float = 1) -> None:\n",
    "    \"\"\"Print out the list of players and rewards they get\n",
    "    :param candidates: list of player ids\n",
    "    :param number_gameweeks: how many gameweeks do you want to consider\n",
    "    :param gamma: discount factor\n",
    "    \"\"\"\n",
    "    sorted_candidates = []\n",
    "    for i in candidates:\n",
    "        r = get_discounted_reward(i, number_gameweeks, gamma)\n",
    "        sorted_candidates.append( (i, r) )\n",
    "\n",
    "    sorted_candidates = reversed(sorted(sorted_candidates, key=lambda x: x[1]))\n",
    "    for i, r in sorted_candidates:\n",
    "        print(f\"id: {i}, name: {Loader.get_player_basic_info(i)[\"web_name\"]}, reward: {r}\")\n",
    "    \n",
    "    return"
   ]
  },
  {
   "cell_type": "code",
   "execution_count": 8,
   "id": "944de5ba",
   "metadata": {},
   "outputs": [
    {
     "name": "stdout",
     "output_type": "stream",
     "text": [
      "id: 413, name: Pope, reward: 0.3393267072\n",
      "id: 231, name: Mykolenko, reward: 0.33227438933333336\n",
      "id: 310, name: A.Becker, reward: 0.3290779810909091\n",
      "id: 199, name: Eze, reward: 0.3106618514285715\n",
      "id: 251, name: Muniz, reward: 0.30910101155555564\n",
      "id: 211, name: Muñoz, reward: 0.30204115200000003\n",
      "id: 181, name: Nkunku, reward: 0.3002340923076924\n",
      "id: 15, name: Raya, reward: 0.2984879825454546\n",
      "id: 311, name: Alexander-Arnold, reward: 0.29422817828571435\n",
      "id: 495, name: Pedro Porro, reward: 0.2932279505454546\n",
      "id: 182, name: Palmer, reward: 0.2929825462857143\n",
      "id: 401, name: Isak, reward: 0.2927409593725491\n",
      "id: 433, name: Gibbs-White, reward: 0.2895552426666667\n",
      "id: 19, name: Smith Rowe, reward: 0.28710291393939397\n",
      "id: 350, name: Gvardiol, reward: 0.2868964480000001\n",
      "id: 255, name: Robinson, reward: 0.2838027946666667\n",
      "id: 18, name: Saliba, reward: 0.280549216\n",
      "id: 13, name: Ødegaard, reward: 0.2758245521568628\n",
      "id: 17, name: Saka, reward: 0.2749118506666667\n",
      "id: 116, name: Barco, reward: 0.27321312000000003\n",
      "id: 366, name: B.Fernandes, reward: 0.27313269458823536\n",
      "id: 434, name: Hudson-Odoi, reward: 0.2717483694545455\n",
      "id: 28, name: Bailey, reward: 0.2687769107692308\n",
      "id: 503, name: Son, reward: 0.26824959146666666\n",
      "id: 78, name: Semenyo, reward: 0.2623904426666667\n",
      "id: 201, name: Henderson, reward: 0.2616254720000001\n",
      "id: 317, name: Diogo J., reward: 0.26044044231111113\n",
      "id: 339, name: Virgil, reward: 0.26004342400000013\n",
      "id: 447, name: Wood, reward: 0.25991176177777786\n",
      "id: 398, name: Gordon, reward: 0.25912784640000014\n",
      "id: 91, name: Flekken, reward: 0.2538136320000001\n",
      "id: 44, name: Konsa, reward: 0.24857604266666672\n",
      "id: 328, name: M.Salah, reward: 0.2483611835733334\n",
      "id: 82, name: Solanke, reward: 0.24708076088888892\n",
      "id: 54, name: Rogers, reward: 0.24271664213333338\n",
      "id: 4, name: Havertz, reward: 0.23095594666666672\n",
      "id: 442, name: Sangaré, reward: 0.21738159407407412\n",
      "id: 58, name: Watkins, reward: 0.21693983288888888\n",
      "id: 120, name: Dunk, reward: 0.21511517866666668\n",
      "id: 372, name: Garnacho, reward: 0.21506568369230775\n",
      "id: 491, name: Johnson, reward: 0.21249419815384624\n",
      "id: 461, name: Harwood-Bellis, reward: 0.20056752000000005\n",
      "id: 351, name: Haaland, reward: 0.18461394488888894\n",
      "id: 275, name: Johnson, reward: 0.16368432000000005\n",
      "id: 286, name: Cannon, reward: 0.1403326814814815\n",
      "id: 109, name: Valdimarsson, reward: 0.0\n"
     ]
    }
   ],
   "source": [
    "print_sorted_candidates(candidates_gkps+candidates_defs+candidates_mids+candidates_fwds, 8, 0.80)"
   ]
  },
  {
   "cell_type": "markdown",
   "id": "7803f81c",
   "metadata": {},
   "source": [
    "### Optimizing the team"
   ]
  },
  {
   "cell_type": "code",
   "execution_count": 9,
   "id": "b37e6a7b",
   "metadata": {},
   "outputs": [
    {
     "name": "stdout",
     "output_type": "stream",
     "text": [
      "Already have: Player(element=413, name='Pope', position=1, club=15, cost=50)\n",
      "Already have: Player(element=109, name='Valdimarsson', position=1, club=4, cost=40)\n",
      "Already have: Player(element=18, name='Saliba', position=2, club=1, cost=60)\n",
      "Already have: Player(element=350, name='Gvardiol', position=2, club=13, cost=60)\n",
      "Already have: Player(element=211, name='Muñoz', position=2, club=7, cost=50)\n",
      "Already have: Player(element=231, name='Mykolenko', position=2, club=8, cost=45)\n",
      "Already have: Player(element=116, name='Barco', position=2, club=5, cost=40)\n",
      "Already have: Player(element=17, name='Saka', position=3, club=1, cost=100)\n",
      "Already have: Player(element=328, name='M.Salah', position=3, club=12, cost=125)\n",
      "Already have: Player(element=181, name='Nkunku', position=3, club=6, cost=65)\n",
      "Already have: Player(element=199, name='Eze', position=3, club=7, cost=70)\n",
      "Already have: Player(element=182, name='Palmer', position=3, club=6, cost=105)\n",
      "Already have: Player(element=401, name='Isak', position=4, club=15, cost=85)\n",
      "Already have: Player(element=251, name='Muniz', position=4, club=9, cost=60)\n",
      "Already have: Player(element=286, name='Cannon', position=4, club=11, cost=45)\n"
     ]
    }
   ],
   "source": [
    "candidates = []\n",
    "for pid in candidates_gkps + candidates_defs + candidates_mids + candidates_fwds:\n",
    "    d = {'element': pid,\n",
    "         'name': Loader.get_player_basic_info(pid)['web_name'],\n",
    "         'position': Loader.get_player_basic_info(pid)['element_type'],\n",
    "         'club': Loader.get_player_basic_info(pid)['team'],\n",
    "         'cost': Loader.get_player_basic_info(pid)['now_cost'],\n",
    "        }\n",
    "    player = Player(**d)\n",
    "    if player in gkps | defs | mids | fwds:\n",
    "        print(f\"Already have: {player}\")\n",
    "        continue\n",
    "    else:\n",
    "        candidates.append(player)"
   ]
  },
  {
   "cell_type": "code",
   "execution_count": 10,
   "id": "2ea379b8",
   "metadata": {},
   "outputs": [],
   "source": [
    "top_three = Optimizer.optimize_team(team, \n",
    "                                    candidates, \n",
    "                                    ComplexExpectedPointsCalculator, \n",
    "                                    gameweek=1, \n",
    "                                    horizon=8, \n",
    "                                    max_transfers=3,\n",
    "                                    gamma=0.8,\n",
    "                                    wildcard=True\n",
    "                                   )\n",
    "third_best_score, third_best_team = heapq.heappop(top_three)\n",
    "second_best_score, second_best_team = heapq.heappop(top_three)\n",
    "first_best_score, first_best_team = heapq.heappop(top_three)"
   ]
  },
  {
   "cell_type": "code",
   "execution_count": 17,
   "id": "4069361c",
   "metadata": {},
   "outputs": [
    {
     "name": "stdout",
     "output_type": "stream",
     "text": [
      "Score: 281.5127947733333\n",
      "---------------------------------------------------------------------------\n",
      "{GKPS}\n",
      "Player(element=109, name='Valdimarsson', position=1, club=4, cost=40)\n",
      "Player(element=413, name='Pope', position=1, club=15, cost=50)\n",
      "---------------------------------------------------------------------------\n",
      "{DEFS}\n",
      "Player(element=211, name='Muñoz', position=2, club=7, cost=50)\n",
      "Player(element=231, name='Mykolenko', position=2, club=8, cost=45)\n",
      "Player(element=311, name='Alexander-Arnold', position=2, club=12, cost=70)\n",
      "Player(element=350, name='Gvardiol', position=2, club=13, cost=60)\n",
      "Player(element=495, name='Pedro Porro', position=2, club=18, cost=55)\n",
      "---------------------------------------------------------------------------\n",
      "{MIDS}\n",
      "Player(element=17, name='Saka', position=3, club=1, cost=100)\n",
      "Player(element=181, name='Nkunku', position=3, club=6, cost=65)\n",
      "Player(element=182, name='Palmer', position=3, club=6, cost=105)\n",
      "Player(element=199, name='Eze', position=3, club=7, cost=70)\n",
      "Player(element=503, name='Son', position=3, club=18, cost=100)\n",
      "---------------------------------------------------------------------------\n",
      "{FWDS}\n",
      "Player(element=251, name='Muniz', position=4, club=9, cost=60)\n",
      "Player(element=286, name='Cannon', position=4, club=11, cost=45)\n",
      "Player(element=401, name='Isak', position=4, club=15, cost=85)\n",
      "---------------------------------------------------------------------------\n",
      "MONEY IN BANK: 0\n",
      "FREE TRANSFERS: -3\n"
     ]
    }
   ],
   "source": [
    "print(\"Score: {}\".format(first_best_score))\n",
    "print(first_best_team)"
   ]
  },
  {
   "cell_type": "code",
   "execution_count": 18,
   "id": "5ac6b078",
   "metadata": {
    "scrolled": false
   },
   "outputs": [
    {
     "name": "stdout",
     "output_type": "stream",
     "text": [
      "Score: 281.2210030577778\n",
      "---------------------------------------------------------------------------\n",
      "{GKPS}\n",
      "Player(element=109, name='Valdimarsson', position=1, club=4, cost=40)\n",
      "Player(element=310, name='A.Becker', position=1, club=12, cost=55)\n",
      "---------------------------------------------------------------------------\n",
      "{DEFS}\n",
      "Player(element=18, name='Saliba', position=2, club=1, cost=60)\n",
      "Player(element=116, name='Barco', position=2, club=5, cost=40)\n",
      "Player(element=231, name='Mykolenko', position=2, club=8, cost=45)\n",
      "Player(element=311, name='Alexander-Arnold', position=2, club=12, cost=70)\n",
      "Player(element=350, name='Gvardiol', position=2, club=13, cost=60)\n",
      "---------------------------------------------------------------------------\n",
      "{MIDS}\n",
      "Player(element=17, name='Saka', position=3, club=1, cost=100)\n",
      "Player(element=181, name='Nkunku', position=3, club=6, cost=65)\n",
      "Player(element=182, name='Palmer', position=3, club=6, cost=105)\n",
      "Player(element=199, name='Eze', position=3, club=7, cost=70)\n",
      "Player(element=503, name='Son', position=3, club=18, cost=100)\n",
      "---------------------------------------------------------------------------\n",
      "{FWDS}\n",
      "Player(element=251, name='Muniz', position=4, club=9, cost=60)\n",
      "Player(element=286, name='Cannon', position=4, club=11, cost=45)\n",
      "Player(element=401, name='Isak', position=4, club=15, cost=85)\n",
      "---------------------------------------------------------------------------\n",
      "MONEY IN BANK: 0\n",
      "FREE TRANSFERS: -3\n"
     ]
    }
   ],
   "source": [
    "print(\"Score: {}\".format(second_best_score))\n",
    "print(second_best_team)"
   ]
  },
  {
   "cell_type": "code",
   "execution_count": 35,
   "id": "4e040e63",
   "metadata": {
    "scrolled": false
   },
   "outputs": [
    {
     "name": "stdout",
     "output_type": "stream",
     "text": [
      "Score: 281.16213763555555\n",
      "---------------------------------------------------------------------------\n",
      "{GKPS}\n",
      "Player(element=15, name='Raya', position=1, club=1, cost=55)\n",
      "Player(element=413, name='Pope', position=1, club=15, cost=50)\n",
      "---------------------------------------------------------------------------\n",
      "{DEFS}\n",
      "Player(element=18, name='Saliba', position=2, club=1, cost=60)\n",
      "Player(element=116, name='Barco', position=2, club=5, cost=40)\n",
      "Player(element=211, name='Muñoz', position=2, club=7, cost=50)\n",
      "Player(element=231, name='Mykolenko', position=2, club=8, cost=45)\n",
      "Player(element=311, name='Alexander-Arnold', position=2, club=12, cost=70)\n",
      "---------------------------------------------------------------------------\n",
      "{MIDS}\n",
      "Player(element=17, name='Saka', position=3, club=1, cost=100)\n",
      "Player(element=181, name='Nkunku', position=3, club=6, cost=65)\n",
      "Player(element=182, name='Palmer', position=3, club=6, cost=105)\n",
      "Player(element=199, name='Eze', position=3, club=7, cost=70)\n",
      "Player(element=503, name='Son', position=3, club=18, cost=100)\n",
      "---------------------------------------------------------------------------\n",
      "{FWDS}\n",
      "Player(element=251, name='Muniz', position=4, club=9, cost=60)\n",
      "Player(element=286, name='Cannon', position=4, club=11, cost=45)\n",
      "Player(element=401, name='Isak', position=4, club=15, cost=85)\n",
      "---------------------------------------------------------------------------\n",
      "MONEY IN BANK: 0\n",
      "FREE TRANSFERS: -3\n"
     ]
    }
   ],
   "source": [
    "print(\"Score: {}\".format(third_best_score))\n",
    "print(third_best_team)"
   ]
  },
  {
   "cell_type": "code",
   "execution_count": 34,
   "id": "e421cedc",
   "metadata": {},
   "outputs": [
    {
     "data": {
      "text/plain": [
       "{'gkps': frozenset({Player(element=413, name='Pope', position=1, club=15, cost=50)}),\n",
       " 'defs': frozenset({Player(element=231, name='Mykolenko', position=2, club=8, cost=45),\n",
       "            Player(element=311, name='Alexander-Arnold', position=2, club=12, cost=70),\n",
       "            Player(element=350, name='Gvardiol', position=2, club=13, cost=60),\n",
       "            Player(element=495, name='Pedro Porro', position=2, club=18, cost=55)}),\n",
       " 'mids': frozenset({Player(element=17, name='Saka', position=3, club=1, cost=100),\n",
       "            Player(element=181, name='Nkunku', position=3, club=6, cost=65),\n",
       "            Player(element=182, name='Palmer', position=3, club=6, cost=105),\n",
       "            Player(element=199, name='Eze', position=3, club=7, cost=70),\n",
       "            Player(element=503, name='Son', position=3, club=18, cost=100)}),\n",
       " 'fwds': frozenset({Player(element=401, name='Isak', position=4, club=15, cost=85)}),\n",
       " 'captain': Player(element=182, name='Palmer', position=3, club=6, cost=105),\n",
       " 'total_exp_points': 67.69444444444444}"
      ]
     },
     "execution_count": 34,
     "metadata": {},
     "output_type": "execute_result"
    }
   ],
   "source": [
    "Optimizer.optimal_formation(first_best_team, ComplexExpectedPointsCalculator, 7)"
   ]
  },
  {
   "cell_type": "code",
   "execution_count": 42,
   "id": "7106df55",
   "metadata": {},
   "outputs": [
    {
     "data": {
      "text/plain": [
       "{'gkps': frozenset({Player(element=310, name='A.Becker', position=1, club=12, cost=55)}),\n",
       " 'defs': frozenset({Player(element=18, name='Saliba', position=2, club=1, cost=60),\n",
       "            Player(element=231, name='Mykolenko', position=2, club=8, cost=45),\n",
       "            Player(element=311, name='Alexander-Arnold', position=2, club=12, cost=70),\n",
       "            Player(element=350, name='Gvardiol', position=2, club=13, cost=60)}),\n",
       " 'mids': frozenset({Player(element=17, name='Saka', position=3, club=1, cost=100),\n",
       "            Player(element=181, name='Nkunku', position=3, club=6, cost=65),\n",
       "            Player(element=182, name='Palmer', position=3, club=6, cost=105),\n",
       "            Player(element=199, name='Eze', position=3, club=7, cost=70),\n",
       "            Player(element=503, name='Son', position=3, club=18, cost=100)}),\n",
       " 'fwds': frozenset({Player(element=401, name='Isak', position=4, club=15, cost=85)}),\n",
       " 'captain': Player(element=182, name='Palmer', position=3, club=6, cost=105),\n",
       " 'total_exp_points': 68.09444444444445}"
      ]
     },
     "execution_count": 42,
     "metadata": {},
     "output_type": "execute_result"
    }
   ],
   "source": [
    "Optimizer.optimal_formation(second_best_team, ComplexExpectedPointsCalculator, 7)"
   ]
  },
  {
   "cell_type": "code",
   "execution_count": 16,
   "id": "0eec9802",
   "metadata": {},
   "outputs": [
    {
     "data": {
      "text/plain": [
       "{'gkps': frozenset({Player(element=413, name='Pope', position=1, club=15, cost=50)}),\n",
       " 'defs': frozenset({Player(element=116, name='Barco', position=2, club=5, cost=40),\n",
       "            Player(element=211, name='Muñoz', position=2, club=7, cost=50),\n",
       "            Player(element=350, name='Gvardiol', position=2, club=13, cost=60)}),\n",
       " 'mids': frozenset({Player(element=17, name='Saka', position=3, club=1, cost=100),\n",
       "            Player(element=181, name='Nkunku', position=3, club=6, cost=65),\n",
       "            Player(element=182, name='Palmer', position=3, club=6, cost=105),\n",
       "            Player(element=199, name='Eze', position=3, club=7, cost=70),\n",
       "            Player(element=328, name='M.Salah', position=3, club=12, cost=125)}),\n",
       " 'fwds': frozenset({Player(element=251, name='Muniz', position=4, club=9, cost=60),\n",
       "            Player(element=401, name='Isak', position=4, club=15, cost=85)}),\n",
       " 'captain': Player(element=182, name='Palmer', position=3, club=6, cost=105),\n",
       " 'total_exp_points': 69.71944444444445}"
      ]
     },
     "execution_count": 16,
     "metadata": {},
     "output_type": "execute_result"
    }
   ],
   "source": [
    "Optimizer.optimal_formation(team, ComplexExpectedPointsCalculator, 4)"
   ]
  }
 ],
 "metadata": {
  "kernelspec": {
   "display_name": "Python 3 (ipykernel)",
   "language": "python",
   "name": "python3"
  },
  "language_info": {
   "codemirror_mode": {
    "name": "ipython",
    "version": 3
   },
   "file_extension": ".py",
   "mimetype": "text/x-python",
   "name": "python",
   "nbconvert_exporter": "python",
   "pygments_lexer": "ipython3",
   "version": "3.12.3"
  }
 },
 "nbformat": 4,
 "nbformat_minor": 5
}
