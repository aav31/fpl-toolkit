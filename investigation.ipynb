{
 "cells": [
  {
   "cell_type": "code",
   "execution_count": 1,
   "id": "9370ecb4",
   "metadata": {},
   "outputs": [],
   "source": [
    "from fpl import Loader, Player, Team, ExpectedPointsCalculator, Optimizer\n",
    "from typing import List\n",
    "import heapq"
   ]
  },
  {
   "cell_type": "markdown",
   "id": "6969eff4",
   "metadata": {},
   "source": [
    "### Dowloading the team"
   ]
  },
  {
   "cell_type": "code",
   "execution_count": 2,
   "id": "166482fa",
   "metadata": {},
   "outputs": [
    {
     "name": "stdout",
     "output_type": "stream",
     "text": [
      "---------------------------------------------------------------------------\n",
      "{GKPS}\n",
      "Player(element=201, name='Henderson', position=1, club=7, cost=44)\n",
      "Player(element=521, name='Fabianski', position=1, club=19, cost=41)\n",
      "---------------------------------------------------------------------------\n",
      "{DEFS}\n",
      "Player(element=18, name='Saliba', position=2, club=1, cost=61)\n",
      "Player(element=70, name='Kerkez', position=2, club=3, cost=47)\n",
      "Player(element=311, name='Alexander-Arnold', position=2, club=12, cost=72)\n",
      "Player(element=399, name='Hall', position=2, club=15, cost=47)\n",
      "Player(element=475, name='Taylor', position=2, club=17, cost=39)\n",
      "---------------------------------------------------------------------------\n",
      "{MIDS}\n",
      "Player(element=182, name='Palmer', position=3, club=6, cost=109)\n",
      "Player(element=247, name='Iwobi', position=3, club=9, cost=57)\n",
      "Player(element=328, name='M.Salah', position=3, club=12, cost=132)\n",
      "Player(element=366, name='B.Fernandes', position=3, club=14, cost=84)\n",
      "Player(element=585, name='I.Sarr', position=3, club=7, cost=58)\n",
      "---------------------------------------------------------------------------\n",
      "{FWDS}\n",
      "Player(element=129, name='João Pedro', position=4, club=5, cost=56)\n",
      "Player(element=401, name='Isak', position=4, club=15, cost=92)\n",
      "Player(element=447, name='Wood', position=4, club=16, cost=70)\n",
      "---------------------------------------------------------------------------\n",
      "MONEY IN BANK: 4\n",
      "FREE TRANSFERS: 2\n"
     ]
    }
   ],
   "source": [
    "picks = Loader.get_my_team_from_api(\n",
    "    \"aledvaghela@gmail.com\", \"NCP@jxy7pau-bvm3cuf\", 3247546\n",
    ")[\"picks\"]\n",
    "gkps, defs, mids, fwds = set(), set(), set(), set()\n",
    "for pick in picks:\n",
    "    d = {\n",
    "        \"element\": pick[\"element\"],\n",
    "        \"name\": Loader.get_player_basic_info(pick[\"element\"])[\"web_name\"],\n",
    "        \"position\": Loader.get_player_basic_info(pick[\"element\"])[\"element_type\"],\n",
    "        \"club\": Loader.get_player_basic_info(pick[\"element\"])[\"team\"],\n",
    "        \"cost\": pick[\"selling_price\"],\n",
    "    }\n",
    "    player = Player(**d)\n",
    "    if player.position == 1:\n",
    "        gkps.add(player)\n",
    "    if player.position == 2:\n",
    "        defs.add(player)\n",
    "    if player.position == 3:\n",
    "        mids.add(player)\n",
    "    if player.position == 4:\n",
    "        fwds.add(player)\n",
    "\n",
    "money_in_bank = Loader.get_my_team_from_api(\n",
    "    \"aledvaghela@gmail.com\", \"NCP@jxy7pau-bvm3cuf\", 3247546\n",
    ")[\"transfers\"][\"bank\"]\n",
    "free_transfers = Loader.get_my_team_from_api(\n",
    "    \"aledvaghela@gmail.com\", \"NCP@jxy7pau-bvm3cuf\", 3247546\n",
    ")[\"transfers\"][\"limit\"]\n",
    "free_transfers = 0 if free_transfers is None else free_transfers\n",
    "team = Team(\n",
    "    money_in_bank,\n",
    "    free_transfers,\n",
    "    frozenset(gkps),\n",
    "    frozenset(defs),\n",
    "    frozenset(mids),\n",
    "    frozenset(fwds),\n",
    ")\n",
    "print(team)"
   ]
  },
  {
   "cell_type": "markdown",
   "id": "d8ccd12d",
   "metadata": {},
   "source": [
    "### Find a player"
   ]
  },
  {
   "cell_type": "code",
   "execution_count": 5,
   "id": "0a673501",
   "metadata": {},
   "outputs": [
    {
     "ename": "ValueError",
     "evalue": "No matching players found.",
     "output_type": "error",
     "traceback": [
      "\u001b[1;31m---------------------------------------------------------------------------\u001b[0m",
      "\u001b[1;31mValueError\u001b[0m                                Traceback (most recent call last)",
      "Cell \u001b[1;32mIn[5], line 1\u001b[0m\n\u001b[1;32m----> 1\u001b[0m \u001b[43mLoader\u001b[49m\u001b[38;5;241;43m.\u001b[39;49m\u001b[43mfind_matching_players\u001b[49m\u001b[43m(\u001b[49m\u001b[38;5;124;43m\"\u001b[39;49m\u001b[38;5;124;43mrpe334\u001b[39;49m\u001b[38;5;124;43m\"\u001b[39;49m\u001b[43m)\u001b[49m\n",
      "File \u001b[1;32m~\\gitworkspace\\fpl-toolkit-0\\fpl\\loader.py:404\u001b[0m, in \u001b[0;36mLoader.find_matching_players\u001b[1;34m(search_name, threshold)\u001b[0m\n\u001b[0;32m    401\u001b[0m matched_ids \u001b[38;5;241m=\u001b[39m [p[\u001b[38;5;124m\"\u001b[39m\u001b[38;5;124mid\u001b[39m\u001b[38;5;124m\"\u001b[39m] \u001b[38;5;28;01mfor\u001b[39;00m p \u001b[38;5;129;01min\u001b[39;00m elements \u001b[38;5;28;01mif\u001b[39;00m p[\u001b[38;5;124m\"\u001b[39m\u001b[38;5;124mweb_name\u001b[39m\u001b[38;5;124m\"\u001b[39m] \u001b[38;5;129;01min\u001b[39;00m [match[\u001b[38;5;241m0\u001b[39m] \u001b[38;5;28;01mfor\u001b[39;00m match \u001b[38;5;129;01min\u001b[39;00m filtered_matches]]\n\u001b[0;32m    403\u001b[0m \u001b[38;5;28;01mif\u001b[39;00m \u001b[38;5;129;01mnot\u001b[39;00m matched_ids:\n\u001b[1;32m--> 404\u001b[0m     \u001b[38;5;28;01mraise\u001b[39;00m \u001b[38;5;167;01mValueError\u001b[39;00m(\u001b[38;5;124m\"\u001b[39m\u001b[38;5;124mNo matching players found.\u001b[39m\u001b[38;5;124m\"\u001b[39m)\n\u001b[0;32m    406\u001b[0m players \u001b[38;5;241m=\u001b[39m []\n\u001b[0;32m    407\u001b[0m \u001b[38;5;28;01mfor\u001b[39;00m i \u001b[38;5;129;01min\u001b[39;00m matched_ids:\n",
      "\u001b[1;31mValueError\u001b[0m: No matching players found."
     ]
    }
   ],
   "source": [
    "Loader.find_matching_players(\"rpe334\")"
   ]
  },
  {
   "cell_type": "markdown",
   "id": "31d3d861",
   "metadata": {},
   "source": [
    "### Candidate list"
   ]
  },
  {
   "cell_type": "code",
   "execution_count": 6,
   "id": "ea2dad82",
   "metadata": {},
   "outputs": [],
   "source": [
    "candidates_gkps = [413]\n",
    "candidates_defs = [231, 350]\n",
    "candidates_mids = [199, 503]\n",
    "candidates_fwds = [58, 351]"
   ]
  },
  {
   "cell_type": "markdown",
   "id": "d923e776",
   "metadata": {},
   "source": [
    "### How to calculate points"
   ]
  },
  {
   "cell_type": "code",
   "execution_count": 7,
   "id": "2566885f",
   "metadata": {},
   "outputs": [],
   "source": [
    "class ComplexExpectedPointsCalculator(ExpectedPointsCalculator):\n",
    "    minutes_multiplier = {\n",
    "        # current team\n",
    "        201: 90 / 90,  # Henderson\n",
    "        521: 90 / 90,  # Fabianski\n",
    "        18: 90 / 90,  # saliba\n",
    "        70: 90 / 90,  # kerkez\n",
    "        311: 90 / 90,  # arnold\n",
    "        399: 90 / 90,  # hall\n",
    "        475: 0,  # taylor\n",
    "        182: 90 / 90,  # Palmer\n",
    "        247: 90 / 90,  # Iwobi\n",
    "        328: 90 / 90,  # M.Salah\n",
    "        366: 90 / 90,  # B.Fernandes\n",
    "        585: 90 / 90,  # I.Sarr\n",
    "        129: 90 / 90,  # João Pedro\n",
    "        401: 90 / 90,  # Isak\n",
    "        447: 90 / 90,  # Wood\n",
    "        # candidates\n",
    "        413: 90 / 90,  # pope\n",
    "        231: 90 / 90,  # mykolenko\n",
    "        350: 90 / 90,  # gvardiol\n",
    "        199: 90 / 90,  # eze\n",
    "        503: 90 / 90,  # son\n",
    "        58: 60 / 90,  # watkins\n",
    "        351: 90 / 90,  # haaland\n",
    "    }\n",
    "    points_per_game_override = {\n",
    "        503: 10.0,  # son\n",
    "    }\n",
    "\n",
    "    def get_expected_points(player_id: int, gameweek: int) -> float:\n",
    "        points_per_game = 0\n",
    "        element_type = Loader.get_player_basic_info(player_id)[\"element_type\"]\n",
    "        if player_id in ComplexExpectedPointsCalculator.points_per_game_override:\n",
    "            points_per_game = ComplexExpectedPointsCalculator.points_per_game_override[\n",
    "                player_id\n",
    "            ]\n",
    "        else:\n",
    "            new_info = Loader.get_player_basic_info(player_id)\n",
    "            points_per_90_this_season = float(new_info[\"points_per_game\"])\n",
    "            xP = 2.0\n",
    "            xP += 4 * new_info[\"expected_assists_per_90\"]\n",
    "            if element_type == 1:\n",
    "                xP += max(0, 4 * (1 - new_info[\"expected_goals_conceded_per_90\"]))\n",
    "                xP += 0.33 * new_info[\"saves_per_90\"]\n",
    "                xP += 6 * new_info[\"expected_goals_per_90\"]\n",
    "            elif element_type == 2:\n",
    "                xP += max(0, 4 * (1 - new_info[\"expected_goals_conceded_per_90\"]))\n",
    "                xP += 6 * new_info[\"expected_goals_per_90\"]\n",
    "            elif element_type == 3:\n",
    "                xP += max(0, 1 * (1 - new_info[\"expected_goals_conceded_per_90\"]))\n",
    "                xP += 5 * new_info[\"expected_goals_per_90\"]\n",
    "            elif element_type == 4:\n",
    "                xP += 4 * new_info[\"expected_goals_per_90\"]\n",
    "\n",
    "            points_per_game = 0.25 * xP + 0.75 * points_per_90_this_season\n",
    "\n",
    "        result = 0\n",
    "        for fixture in Loader.get_player_future_info_for_gameweek(player_id, gameweek):\n",
    "            our_team, opponent = -1, -1\n",
    "            if fixture[\"is_home\"]:\n",
    "                our_team = fixture[\"team_h\"]\n",
    "                opponent = fixture[\"team_a\"]\n",
    "            else:\n",
    "                our_team = fixture[\"team_a\"]\n",
    "                opponent = fixture[\"team_h\"]\n",
    "\n",
    "            difficulty_alpha = 0\n",
    "            if fixture[\"difficulty\"] == 2:\n",
    "                difficulty_alpha = 1.5\n",
    "            elif fixture[\"difficulty\"] == 3:\n",
    "                difficulty_alpha = 0.75\n",
    "            elif fixture[\"difficulty\"] == 4:\n",
    "                difficulty_alpha = -0.75\n",
    "            elif fixture[\"difficulty\"] == 5:\n",
    "                difficulty_alpha = -1.5\n",
    "            else:\n",
    "                raise ValueError(\"Fixture difficulty should be be 2,3,4,5\")\n",
    "\n",
    "            result += points_per_game + difficulty_alpha\n",
    "\n",
    "        # for goalies assume they start and play 90\n",
    "        if Loader.get_player_basic_info(player_id)[\"element_type\"] == 1:\n",
    "            return result\n",
    "\n",
    "        if player_id not in ComplexExpectedPointsCalculator.minutes_multiplier:\n",
    "            web_name = Loader.get_player_basic_info(player_id)[\"web_name\"]\n",
    "            raise KeyError(f\"You need to get the minutes for {player_id} {web_name}\")\n",
    "\n",
    "        mm = ComplexExpectedPointsCalculator.minutes_multiplier[player_id]\n",
    "\n",
    "        return result * mm"
   ]
  },
  {
   "cell_type": "code",
   "execution_count": 8,
   "id": "d4510c75",
   "metadata": {},
   "outputs": [],
   "source": [
    "def get_discounted_reward(\n",
    "    player_id: int, number_gameweeks: int, gamma: float = 1\n",
    ") -> float:\n",
    "    \"\"\"Gets the discounted reward of a candidate over a certain number of gameweeks\n",
    "    :param player_id: the player which you want the reward for\n",
    "    :param number_gameweeks: how many gameweeks do you want to consider\n",
    "    :param gamma: discount factor\n",
    "\n",
    "    :return: discounted reward\n",
    "    \"\"\"\n",
    "    discounted_reward = 0\n",
    "    discount_factor = 1\n",
    "    for gw in range(23, 23 + number_gameweeks):\n",
    "        discounted_reward += (\n",
    "            discount_factor\n",
    "            * ComplexExpectedPointsCalculator.get_expected_points(player_id, gw)\n",
    "        )\n",
    "        discount_factor *= gamma\n",
    "\n",
    "    return discounted_reward\n",
    "\n",
    "\n",
    "#     return discounted_reward / Loader.get_player_basic_info(player_id)[\"now_cost\"]\n",
    "\n",
    "\n",
    "def print_sorted_candidates(\n",
    "    candidates: List[int], number_gameweeks: int, gamma: float = 1\n",
    ") -> None:\n",
    "    \"\"\"Print out the list of players and rewards they get\n",
    "    :param candidates: list of player ids\n",
    "    :param number_gameweeks: how many gameweeks do you want to consider\n",
    "    :param gamma: discount factor\n",
    "    \"\"\"\n",
    "    sorted_candidates = []\n",
    "    for i in candidates:\n",
    "        r = get_discounted_reward(i, number_gameweeks, gamma)\n",
    "        sorted_candidates.append((i, r))\n",
    "\n",
    "    sorted_candidates = reversed(sorted(sorted_candidates, key=lambda x: x[1]))\n",
    "    for i, r in sorted_candidates:\n",
    "        web_name = Loader.get_player_basic_info(i)[\"web_name\"]\n",
    "        print(f\"id: {i}, name: {web_name}, reward: {r}\")\n",
    "\n",
    "    return"
   ]
  },
  {
   "cell_type": "code",
   "execution_count": 9,
   "id": "944de5ba",
   "metadata": {},
   "outputs": [
    {
     "name": "stdout",
     "output_type": "stream",
     "text": [
      "id: 503, name: Son, reward: 11.5\n",
      "id: 199, name: Eze, reward: 5.422499999999999\n",
      "id: 351, name: Haaland, reward: 5.12\n",
      "id: 413, name: Pope, reward: 4.697000000000001\n",
      "id: 58, name: Watkins, reward: 4.32\n",
      "id: 231, name: Mykolenko, reward: 3.6450000000000005\n",
      "id: 350, name: Gvardiol, reward: 2.985\n"
     ]
    }
   ],
   "source": [
    "print_sorted_candidates(\n",
    "    candidates_gkps + candidates_defs + candidates_mids + candidates_fwds, 1, 0.80\n",
    ")"
   ]
  },
  {
   "cell_type": "markdown",
   "id": "7803f81c",
   "metadata": {},
   "source": [
    "### Optimizing the team"
   ]
  },
  {
   "cell_type": "code",
   "execution_count": 10,
   "id": "b37e6a7b",
   "metadata": {},
   "outputs": [],
   "source": [
    "candidates = []\n",
    "for pid in candidates_gkps + candidates_defs + candidates_mids + candidates_fwds:\n",
    "    d = {\n",
    "        \"element\": pid,\n",
    "        \"name\": Loader.get_player_basic_info(pid)[\"web_name\"],\n",
    "        \"position\": Loader.get_player_basic_info(pid)[\"element_type\"],\n",
    "        \"club\": Loader.get_player_basic_info(pid)[\"team\"],\n",
    "        \"cost\": Loader.get_player_basic_info(pid)[\"now_cost\"],\n",
    "    }\n",
    "    player = Player(**d)\n",
    "    if player in gkps | defs | mids | fwds:\n",
    "        print(f\"Already have: {player}\")\n",
    "        continue\n",
    "    else:\n",
    "        candidates.append(player)"
   ]
  },
  {
   "cell_type": "code",
   "execution_count": 11,
   "id": "2ea379b8",
   "metadata": {},
   "outputs": [],
   "source": [
    "top_three = Optimizer.optimize_team(\n",
    "    team,\n",
    "    candidates,\n",
    "    ComplexExpectedPointsCalculator,\n",
    "    gameweek=23,\n",
    "    horizon=3,\n",
    "    max_transfers=2,\n",
    "    gamma=0.8,\n",
    "    wildcard=False,\n",
    ")\n",
    "third_best_score, third_best_team = heapq.heappop(top_three)\n",
    "second_best_score, second_best_team = heapq.heappop(top_three)\n",
    "first_best_score, first_best_team = heapq.heappop(top_three)"
   ]
  },
  {
   "cell_type": "code",
   "execution_count": 12,
   "id": "4069361c",
   "metadata": {},
   "outputs": [
    {
     "name": "stdout",
     "output_type": "stream",
     "text": [
      "Score: 221.70520100000005\n",
      "---------------------------------------------------------------------------\n",
      "{GKPS}\n",
      "Player(element=201, name='Henderson', position=1, club=7, cost=44)\n",
      "Player(element=521, name='Fabianski', position=1, club=19, cost=41)\n",
      "---------------------------------------------------------------------------\n",
      "{DEFS}\n",
      "Player(element=70, name='Kerkez', position=2, club=3, cost=47)\n",
      "Player(element=231, name='Mykolenko', position=2, club=8, cost=43)\n",
      "Player(element=311, name='Alexander-Arnold', position=2, club=12, cost=72)\n",
      "Player(element=399, name='Hall', position=2, club=15, cost=47)\n",
      "Player(element=475, name='Taylor', position=2, club=17, cost=39)\n",
      "---------------------------------------------------------------------------\n",
      "{MIDS}\n",
      "Player(element=182, name='Palmer', position=3, club=6, cost=109)\n",
      "Player(element=247, name='Iwobi', position=3, club=9, cost=57)\n",
      "Player(element=328, name='M.Salah', position=3, club=12, cost=132)\n",
      "Player(element=503, name='Son', position=3, club=18, cost=98)\n",
      "Player(element=585, name='I.Sarr', position=3, club=7, cost=58)\n",
      "---------------------------------------------------------------------------\n",
      "{FWDS}\n",
      "Player(element=129, name='João Pedro', position=4, club=5, cost=56)\n",
      "Player(element=401, name='Isak', position=4, club=15, cost=92)\n",
      "Player(element=447, name='Wood', position=4, club=16, cost=70)\n",
      "---------------------------------------------------------------------------\n",
      "MONEY IN BANK: 8\n",
      "FREE TRANSFERS: 0\n"
     ]
    }
   ],
   "source": [
    "print(\"Score: {}\".format(first_best_score))\n",
    "print(first_best_team)"
   ]
  },
  {
   "cell_type": "code",
   "execution_count": 13,
   "id": "5ac6b078",
   "metadata": {
    "scrolled": false
   },
   "outputs": [
    {
     "name": "stdout",
     "output_type": "stream",
     "text": [
      "Score: 218.028701\n",
      "---------------------------------------------------------------------------\n",
      "{GKPS}\n",
      "Player(element=201, name='Henderson', position=1, club=7, cost=44)\n",
      "Player(element=521, name='Fabianski', position=1, club=19, cost=41)\n",
      "---------------------------------------------------------------------------\n",
      "{DEFS}\n",
      "Player(element=18, name='Saliba', position=2, club=1, cost=61)\n",
      "Player(element=70, name='Kerkez', position=2, club=3, cost=47)\n",
      "Player(element=231, name='Mykolenko', position=2, club=8, cost=43)\n",
      "Player(element=311, name='Alexander-Arnold', position=2, club=12, cost=72)\n",
      "Player(element=399, name='Hall', position=2, club=15, cost=47)\n",
      "---------------------------------------------------------------------------\n",
      "{MIDS}\n",
      "Player(element=247, name='Iwobi', position=3, club=9, cost=57)\n",
      "Player(element=328, name='M.Salah', position=3, club=12, cost=132)\n",
      "Player(element=366, name='B.Fernandes', position=3, club=14, cost=84)\n",
      "Player(element=503, name='Son', position=3, club=18, cost=98)\n",
      "Player(element=585, name='I.Sarr', position=3, club=7, cost=58)\n",
      "---------------------------------------------------------------------------\n",
      "{FWDS}\n",
      "Player(element=129, name='João Pedro', position=4, club=5, cost=56)\n",
      "Player(element=401, name='Isak', position=4, club=15, cost=92)\n",
      "Player(element=447, name='Wood', position=4, club=16, cost=70)\n",
      "---------------------------------------------------------------------------\n",
      "MONEY IN BANK: 11\n",
      "FREE TRANSFERS: 0\n"
     ]
    }
   ],
   "source": [
    "print(\"Score: {}\".format(second_best_score))\n",
    "print(second_best_team)"
   ]
  },
  {
   "cell_type": "code",
   "execution_count": 14,
   "id": "4e040e63",
   "metadata": {
    "scrolled": false
   },
   "outputs": [
    {
     "name": "stdout",
     "output_type": "stream",
     "text": [
      "Score: 217.18710100000004\n",
      "---------------------------------------------------------------------------\n",
      "{GKPS}\n",
      "Player(element=201, name='Henderson', position=1, club=7, cost=44)\n",
      "Player(element=521, name='Fabianski', position=1, club=19, cost=41)\n",
      "---------------------------------------------------------------------------\n",
      "{DEFS}\n",
      "Player(element=18, name='Saliba', position=2, club=1, cost=61)\n",
      "Player(element=231, name='Mykolenko', position=2, club=8, cost=43)\n",
      "Player(element=311, name='Alexander-Arnold', position=2, club=12, cost=72)\n",
      "Player(element=399, name='Hall', position=2, club=15, cost=47)\n",
      "Player(element=475, name='Taylor', position=2, club=17, cost=39)\n",
      "---------------------------------------------------------------------------\n",
      "{MIDS}\n",
      "Player(element=247, name='Iwobi', position=3, club=9, cost=57)\n",
      "Player(element=328, name='M.Salah', position=3, club=12, cost=132)\n",
      "Player(element=366, name='B.Fernandes', position=3, club=14, cost=84)\n",
      "Player(element=503, name='Son', position=3, club=18, cost=98)\n",
      "Player(element=585, name='I.Sarr', position=3, club=7, cost=58)\n",
      "---------------------------------------------------------------------------\n",
      "{FWDS}\n",
      "Player(element=129, name='João Pedro', position=4, club=5, cost=56)\n",
      "Player(element=401, name='Isak', position=4, club=15, cost=92)\n",
      "Player(element=447, name='Wood', position=4, club=16, cost=70)\n",
      "---------------------------------------------------------------------------\n",
      "MONEY IN BANK: 19\n",
      "FREE TRANSFERS: 0\n"
     ]
    }
   ],
   "source": [
    "print(\"Score: {}\".format(third_best_score))\n",
    "print(third_best_team)"
   ]
  },
  {
   "cell_type": "code",
   "execution_count": 15,
   "id": "e421cedc",
   "metadata": {},
   "outputs": [
    {
     "data": {
      "text/plain": [
       "{'gkps': frozenset({Player(element=201, name='Henderson', position=1, club=7, cost=44)}),\n",
       " 'defs': frozenset({Player(element=70, name='Kerkez', position=2, club=3, cost=47),\n",
       "            Player(element=311, name='Alexander-Arnold', position=2, club=12, cost=72),\n",
       "            Player(element=399, name='Hall', position=2, club=15, cost=47)}),\n",
       " 'mids': frozenset({Player(element=182, name='Palmer', position=3, club=6, cost=109),\n",
       "            Player(element=247, name='Iwobi', position=3, club=9, cost=57),\n",
       "            Player(element=328, name='M.Salah', position=3, club=12, cost=132),\n",
       "            Player(element=503, name='Son', position=3, club=18, cost=98)}),\n",
       " 'fwds': frozenset({Player(element=129, name='João Pedro', position=4, club=5, cost=56),\n",
       "            Player(element=401, name='Isak', position=4, club=15, cost=92),\n",
       "            Player(element=447, name='Wood', position=4, club=16, cost=70)}),\n",
       " 'captain': Player(element=503, name='Son', position=3, club=18, cost=98),\n",
       " 'total_exp_points': 86.32852500000001}"
      ]
     },
     "execution_count": 15,
     "metadata": {},
     "output_type": "execute_result"
    }
   ],
   "source": [
    "Optimizer.optimal_formation(first_best_team, ComplexExpectedPointsCalculator, 23)"
   ]
  },
  {
   "cell_type": "code",
   "execution_count": 16,
   "id": "7106df55",
   "metadata": {},
   "outputs": [
    {
     "data": {
      "text/plain": [
       "{'gkps': frozenset({Player(element=201, name='Henderson', position=1, club=7, cost=44)}),\n",
       " 'defs': frozenset({Player(element=18, name='Saliba', position=2, club=1, cost=61),\n",
       "            Player(element=311, name='Alexander-Arnold', position=2, club=12, cost=72),\n",
       "            Player(element=399, name='Hall', position=2, club=15, cost=47)}),\n",
       " 'mids': frozenset({Player(element=247, name='Iwobi', position=3, club=9, cost=57),\n",
       "            Player(element=328, name='M.Salah', position=3, club=12, cost=132),\n",
       "            Player(element=366, name='B.Fernandes', position=3, club=14, cost=84),\n",
       "            Player(element=503, name='Son', position=3, club=18, cost=98)}),\n",
       " 'fwds': frozenset({Player(element=129, name='João Pedro', position=4, club=5, cost=56),\n",
       "            Player(element=401, name='Isak', position=4, club=15, cost=92),\n",
       "            Player(element=447, name='Wood', position=4, club=16, cost=70)}),\n",
       " 'captain': Player(element=503, name='Son', position=3, club=18, cost=98),\n",
       " 'total_exp_points': 86.52602499999999}"
      ]
     },
     "execution_count": 16,
     "metadata": {},
     "output_type": "execute_result"
    }
   ],
   "source": [
    "Optimizer.optimal_formation(second_best_team, ComplexExpectedPointsCalculator, 23)"
   ]
  },
  {
   "cell_type": "code",
   "execution_count": 17,
   "id": "0eec9802",
   "metadata": {},
   "outputs": [
    {
     "data": {
      "text/plain": [
       "{'gkps': frozenset({Player(element=201, name='Henderson', position=1, club=7, cost=44)}),\n",
       " 'defs': frozenset({Player(element=18, name='Saliba', position=2, club=1, cost=61),\n",
       "            Player(element=311, name='Alexander-Arnold', position=2, club=12, cost=72),\n",
       "            Player(element=399, name='Hall', position=2, club=15, cost=47)}),\n",
       " 'mids': frozenset({Player(element=182, name='Palmer', position=3, club=6, cost=109),\n",
       "            Player(element=247, name='Iwobi', position=3, club=9, cost=57),\n",
       "            Player(element=328, name='M.Salah', position=3, club=12, cost=132),\n",
       "            Player(element=366, name='B.Fernandes', position=3, club=14, cost=84)}),\n",
       " 'fwds': frozenset({Player(element=129, name='João Pedro', position=4, club=5, cost=56),\n",
       "            Player(element=401, name='Isak', position=4, club=15, cost=92),\n",
       "            Player(element=447, name='Wood', position=4, club=16, cost=70)}),\n",
       " 'captain': Player(element=328, name='M.Salah', position=3, club=12, cost=132),\n",
       " 'total_exp_points': 80.801025}"
      ]
     },
     "execution_count": 17,
     "metadata": {},
     "output_type": "execute_result"
    }
   ],
   "source": [
    "Optimizer.optimal_formation(team, ComplexExpectedPointsCalculator, 23)"
   ]
  },
  {
   "cell_type": "code",
   "execution_count": null,
   "id": "8a8a13cb",
   "metadata": {},
   "outputs": [],
   "source": []
  }
 ],
 "metadata": {
  "kernelspec": {
   "display_name": "Python 3 (ipykernel)",
   "language": "python",
   "name": "python3"
  },
  "language_info": {
   "codemirror_mode": {
    "name": "ipython",
    "version": 3
   },
   "file_extension": ".py",
   "mimetype": "text/x-python",
   "name": "python",
   "nbconvert_exporter": "python",
   "pygments_lexer": "ipython3",
   "version": "3.9.21"
  }
 },
 "nbformat": 4,
 "nbformat_minor": 5
}
