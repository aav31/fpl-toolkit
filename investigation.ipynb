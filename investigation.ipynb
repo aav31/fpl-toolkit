{
 "cells": [
  {
   "cell_type": "code",
   "execution_count": 1,
   "id": "9370ecb4",
   "metadata": {},
   "outputs": [],
   "source": [
    "from fpl import Loader, Player, Team, ExpectedPointsCalculator, Optimizer\n",
    "import heapq"
   ]
  },
  {
   "cell_type": "markdown",
   "id": "8c065068",
   "metadata": {},
   "source": [
    "### Dowloading your personal FPL team\n",
    "\n",
    "You will need your login details and manager id. To get your manager id:\n",
    "1. Log on to [Fantasy Premier League](https://fantasy.premierleague.com/) and navigate to the points tab.\n",
    "2. Your `manager_id` should appear somewhere in the URL e.g. 3247546 . [FPL APIs Explained](https://www.oliverlooney.com/blogs/FPL-APIs-Explained#how-to-use-authenticated-endpoints) has some screenshots of this.\n"
   ]
  },
  {
   "cell_type": "code",
   "execution_count": 4,
   "id": "166482fa",
   "metadata": {
    "scrolled": false
   },
   "outputs": [
    {
     "name": "stdout",
     "output_type": "stream",
     "text": [
      "---------------------------------------------------------------------------\n",
      "{GKPS}\n",
      "Player(element=201, name='Henderson', position=1, club=7, cost=44)\n",
      "Player(element=521, name='Fabianski', position=1, club=19, cost=41)\n",
      "---------------------------------------------------------------------------\n",
      "{DEFS}\n",
      "Player(element=70, name='Kerkez', position=2, club=3, cost=47)\n",
      "Player(element=231, name='Mykolenko', position=2, club=8, cost=43)\n",
      "Player(element=311, name='Alexander-Arnold', position=2, club=12, cost=72)\n",
      "Player(element=399, name='Hall', position=2, club=15, cost=47)\n",
      "Player(element=475, name='Taylor', position=2, club=17, cost=39)\n",
      "---------------------------------------------------------------------------\n",
      "{MIDS}\n",
      "Player(element=99, name='Mbeumo', position=3, club=4, cost=78)\n",
      "Player(element=182, name='Palmer', position=3, club=6, cost=109)\n",
      "Player(element=328, name='M.Salah', position=3, club=12, cost=132)\n",
      "Player(element=366, name='B.Fernandes', position=3, club=14, cost=84)\n",
      "Player(element=585, name='I.Sarr', position=3, club=7, cost=57)\n",
      "---------------------------------------------------------------------------\n",
      "{FWDS}\n",
      "Player(element=129, name='João Pedro', position=4, club=5, cost=55)\n",
      "Player(element=401, name='Isak', position=4, club=15, cost=92)\n",
      "Player(element=447, name='Wood', position=4, club=16, cost=70)\n",
      "---------------------------------------------------------------------------\n",
      "MONEY IN BANK: 1\n",
      "FREE TRANSFERS: 1\n"
     ]
    }
   ],
   "source": [
    "team = Loader.get_my_team_from_api(login=\"email\", password=\"password\", manager_id=123456)\n",
    "print(team)"
   ]
  },
  {
   "cell_type": "markdown",
   "id": "648e89c3",
   "metadata": {},
   "source": [
    "If the above API request fails, you'll need a more manual solution:\n",
    "1. Log on to [Fantasy Premier League](https://fantasy.premierleague.com/)\n",
    "2. View the local json by typing this URL `https://fantasy.premierleague.com/api/my-team/{manager_id}/` into your browser with the appropriate `manager_id`\n",
    "3. Save the json locally for example as `my_team.json`"
   ]
  },
  {
   "cell_type": "code",
   "execution_count": 4,
   "id": "5d5dcaad",
   "metadata": {},
   "outputs": [
    {
     "name": "stdout",
     "output_type": "stream",
     "text": [
      "---------------------------------------------------------------------------\n",
      "{GKPS}\n",
      "Player(element=201, name='Henderson', position=1, club=7, cost=44)\n",
      "Player(element=521, name='Fabianski', position=1, club=19, cost=41)\n",
      "---------------------------------------------------------------------------\n",
      "{DEFS}\n",
      "Player(element=70, name='Kerkez', position=2, club=3, cost=47)\n",
      "Player(element=231, name='Mykolenko', position=2, club=8, cost=43)\n",
      "Player(element=311, name='Alexander-Arnold', position=2, club=12, cost=72)\n",
      "Player(element=399, name='Hall', position=2, club=15, cost=47)\n",
      "Player(element=475, name='Taylor', position=2, club=17, cost=39)\n",
      "---------------------------------------------------------------------------\n",
      "{MIDS}\n",
      "Player(element=99, name='Mbeumo', position=3, club=4, cost=78)\n",
      "Player(element=182, name='Palmer', position=3, club=6, cost=109)\n",
      "Player(element=328, name='M.Salah', position=3, club=12, cost=132)\n",
      "Player(element=366, name='B.Fernandes', position=3, club=14, cost=84)\n",
      "Player(element=585, name='I.Sarr', position=3, club=7, cost=57)\n",
      "---------------------------------------------------------------------------\n",
      "{FWDS}\n",
      "Player(element=129, name='João Pedro', position=4, club=5, cost=55)\n",
      "Player(element=401, name='Isak', position=4, club=15, cost=92)\n",
      "Player(element=447, name='Wood', position=4, club=16, cost=70)\n",
      "---------------------------------------------------------------------------\n",
      "MONEY IN BANK: 1\n",
      "FREE TRANSFERS: 1\n"
     ]
    }
   ],
   "source": [
    "team = Loader.get_my_team_from_local(local_filename=\"resources/my_team.json\")\n",
    "print(team)"
   ]
  },
  {
   "cell_type": "markdown",
   "id": "31d3d861",
   "metadata": {},
   "source": [
    "### Candidate list\n",
    "\n",
    "Probably good to wrap up a way of converting an id into a player."
   ]
  },
  {
   "cell_type": "code",
   "execution_count": 3,
   "id": "58978115",
   "metadata": {},
   "outputs": [
    {
     "data": {
      "text/plain": [
       "[(Player(element=398, name='Gordon', position=3, club=15, cost=77),\n",
       "  'Anthony Gordon')]"
      ]
     },
     "execution_count": 3,
     "metadata": {},
     "output_type": "execute_result"
    }
   ],
   "source": [
    "Loader.find_matching_players(\"gordon\")"
   ]
  },
  {
   "cell_type": "code",
   "execution_count": 4,
   "id": "52e5c5d0",
   "metadata": {},
   "outputs": [
    {
     "data": {
      "text/plain": [
       "Player(element=398, name='Gordon', position=3, club=15, cost=77)"
      ]
     },
     "execution_count": 4,
     "metadata": {},
     "output_type": "execute_result"
    }
   ],
   "source": [
    "Player(element=398, name='Gordon', position=3, club=15, cost=77)"
   ]
  },
  {
   "cell_type": "code",
   "execution_count": 5,
   "id": "ea2dad82",
   "metadata": {},
   "outputs": [],
   "source": [
    "candidates_gkps = [235] + [201, 521]\n",
    "candidates_defs = [] + [70, 231, 311, 399, 475]\n",
    "candidates_mids = [364, 398] + [99, 182, 328, 366, 585]\n",
    "candidates_fwds = [321, 207, 220] + [129, 401, 447]"
   ]
  },
  {
   "cell_type": "markdown",
   "id": "6221b052",
   "metadata": {},
   "source": [
    "### Expected Points Calculator\n",
    "\n",
    "This is a concrete implementation of an expected points calculator. It should probably be wrapped up and tested.\n",
    "\n",
    "Perhaps the expected points calculator should be able to take a player as an input."
   ]
  },
  {
   "cell_type": "code",
   "execution_count": 6,
   "id": "3c1d705d",
   "metadata": {},
   "outputs": [],
   "source": [
    "class SimpleExpectedPointsCalculator(ExpectedPointsCalculator):\n",
    "    \"\"\"Simple expected points calculator.\n",
    "    Major assumption is that the candidates you put in this list are nailed on to play 90.\n",
    "    \"\"\"\n",
    "    fixture_difficulty_to_adj_map = {\n",
    "        2: 1.5,\n",
    "        3: 0.75,\n",
    "        4: -0.75,\n",
    "        5: -1.5\n",
    "    }\n",
    "    \n",
    "    @staticmethod\n",
    "    def get_expected_points(player_id: int, gameweek: int) -> float:\n",
    "        basic_info = Loader.get_player_basic_info(player_id)\n",
    "        chance_of_playing_next_round = basic_info[\"chance_of_playing_next_round\"] / 100.0 if basic_info[\"chance_of_playing_next_round\"] is not None else 1.0\n",
    "        points_per_game = float(basic_info[\"points_per_game\"])\n",
    "        form = float(basic_info[\"form\"])\n",
    "        fixtures = Loader.get_player_future_info_for_gameweek(player_id, gameweek)\n",
    "        expected_points = 0\n",
    "        for fixture in fixtures:\n",
    "            difficulty = fixture[\"difficulty\"]\n",
    "            difficulty_adj = SimpleExpectedPointsCalculator.fixture_difficulty_to_adj_map[difficulty]\n",
    "            expected_points += (0.25 * form + 0.75 * points_per_game) + difficulty_adj\n",
    "            \n",
    "        return chance_of_playing_next_round * expected_points"
   ]
  },
  {
   "cell_type": "markdown",
   "id": "d923e776",
   "metadata": {},
   "source": [
    "### How to calculate points\n",
    "\n",
    "The below could probably be put into functions somewhere"
   ]
  },
  {
   "cell_type": "code",
   "execution_count": 7,
   "id": "d4510c75",
   "metadata": {},
   "outputs": [],
   "source": [
    "def get_discounted_reward(\n",
    "    player_id: int, number_gameweeks: int, gamma: float = 1\n",
    ") -> float:\n",
    "    \"\"\"Gets the discounted reward of a candidate over a certain number of gameweeks\n",
    "    :param player_id: the player which you want the reward for\n",
    "    :param number_gameweeks: how many gameweeks do you want to consider\n",
    "    :param gamma: discount factor\n",
    "\n",
    "    :return: discounted reward\n",
    "    \"\"\"\n",
    "    discounted_reward = 0\n",
    "    discount_factor = 1\n",
    "    next_gameweek = Loader.get_next_gameweek()\n",
    "    for gw in range(next_gameweek, next_gameweek + number_gameweeks):\n",
    "        discounted_reward += (\n",
    "            discount_factor\n",
    "            * SimpleExpectedPointsCalculator.get_expected_points(player_id, gw)\n",
    "        )\n",
    "        discount_factor *= gamma\n",
    "\n",
    "    return discounted_reward\n",
    "\n",
    "def print_sorted_candidates(\n",
    "    candidates: list[int], number_gameweeks: int, gamma: float = 1\n",
    ") -> None:\n",
    "    \"\"\"Print out the list of players and rewards they get\n",
    "    :param candidates: list of player ids\n",
    "    :param number_gameweeks: how many gameweeks do you want to consider\n",
    "    :param gamma: discount factor\n",
    "    \"\"\"\n",
    "    sorted_candidates = []\n",
    "    for i in candidates:\n",
    "        r = get_discounted_reward(i, number_gameweeks, gamma)\n",
    "        sorted_candidates.append((i, r))\n",
    "\n",
    "    sorted_candidates = reversed(sorted(sorted_candidates, key=lambda x: x[1]))\n",
    "    for i, r in sorted_candidates:\n",
    "        web_name = Loader.get_player_basic_info(i)[\"web_name\"]\n",
    "        print(f\"id: {i}, name: {web_name}, reward: {r}\")\n",
    "\n",
    "    return"
   ]
  },
  {
   "cell_type": "code",
   "execution_count": 8,
   "id": "944de5ba",
   "metadata": {},
   "outputs": [
    {
     "name": "stdout",
     "output_type": "stream",
     "text": [
      "id: 328, name: M.Salah, reward: 41.70952\n",
      "id: 182, name: Palmer, reward: 26.73724\n",
      "id: 99, name: Mbeumo, reward: 26.339840000000006\n",
      "id: 401, name: Isak, reward: 25.94052\n",
      "id: 311, name: Alexander-Arnold, reward: 23.82696\n",
      "id: 321, name: Gakpo, reward: 23.390800000000006\n",
      "id: 447, name: Wood, reward: 21.861120000000003\n",
      "id: 364, name: Amad, reward: 20.947680000000002\n",
      "id: 207, name: Mateta, reward: 19.816200000000006\n",
      "id: 235, name: Pickford, reward: 19.415760000000002\n",
      "id: 366, name: B.Fernandes, reward: 17.8382\n",
      "id: 398, name: Gordon, reward: 17.45248\n",
      "id: 70, name: Kerkez, reward: 16.64648\n",
      "id: 201, name: Henderson, reward: 15.614200000000004\n",
      "id: 231, name: Mykolenko, reward: 15.599360000000004\n",
      "id: 129, name: João Pedro, reward: 15.59648\n",
      "id: 399, name: Hall, reward: 14.931280000000001\n",
      "id: 585, name: I.Sarr, reward: 14.68976\n",
      "id: 521, name: Fabianski, reward: 8.77688\n",
      "id: 220, name: Calvert-Lewin, reward: 6.654760000000001\n",
      "id: 475, name: Taylor, reward: 3.1783599999999996\n"
     ]
    }
   ],
   "source": [
    "print_sorted_candidates(\n",
    "    candidates_gkps + candidates_defs + candidates_mids + candidates_fwds, 5, 0.80\n",
    ")"
   ]
  },
  {
   "cell_type": "markdown",
   "id": "7803f81c",
   "metadata": {},
   "source": [
    "### Optimizing the team\n",
    "\n",
    "Maybe part of the optimization functionality should check the candidate ids are not in the list."
   ]
  },
  {
   "cell_type": "code",
   "execution_count": 9,
   "id": "b37e6a7b",
   "metadata": {},
   "outputs": [
    {
     "name": "stdout",
     "output_type": "stream",
     "text": [
      "Already have: Player(element=201, name='Henderson', position=1, club=7, cost=45)\n",
      "Already have: Player(element=521, name='Fabianski', position=1, club=19, cost=41)\n",
      "Already have: Player(element=70, name='Kerkez', position=2, club=3, cost=49)\n",
      "Already have: Player(element=231, name='Mykolenko', position=2, club=8, cost=44)\n",
      "Already have: Player(element=311, name='Alexander-Arnold', position=2, club=12, cost=73)\n",
      "Already have: Player(element=399, name='Hall', position=2, club=15, cost=51)\n",
      "Already have: Player(element=475, name='Taylor', position=2, club=17, cost=39)\n",
      "Already have: Player(element=99, name='Mbeumo', position=3, club=4, cost=78)\n",
      "Already have: Player(element=182, name='Palmer', position=3, club=6, cost=113)\n",
      "Already have: Player(element=328, name='M.Salah', position=3, club=12, cost=137)\n",
      "Already have: Player(element=366, name='B.Fernandes', position=3, club=14, cost=84)\n",
      "Already have: Player(element=585, name='I.Sarr', position=3, club=7, cost=57)\n",
      "Already have: Player(element=129, name='João Pedro', position=4, club=5, cost=55)\n",
      "Already have: Player(element=401, name='Isak', position=4, club=15, cost=95)\n",
      "Already have: Player(element=447, name='Wood', position=4, club=16, cost=71)\n",
      "Candidates:\n"
     ]
    },
    {
     "data": {
      "text/plain": [
       "[Player(element=235, name='Pickford', position=1, club=8, cost=51),\n",
       " Player(element=364, name='Amad', position=3, club=14, cost=56),\n",
       " Player(element=398, name='Gordon', position=3, club=15, cost=77),\n",
       " Player(element=321, name='Gakpo', position=4, club=12, cost=76),\n",
       " Player(element=207, name='Mateta', position=4, club=7, cost=74),\n",
       " Player(element=220, name='Calvert-Lewin', position=4, club=8, cost=54)]"
      ]
     },
     "execution_count": 9,
     "metadata": {},
     "output_type": "execute_result"
    }
   ],
   "source": [
    "candidates = []\n",
    "for pid in candidates_gkps + candidates_defs + candidates_mids + candidates_fwds:\n",
    "    d = {\n",
    "        \"element\": pid,\n",
    "        \"name\": Loader.get_player_basic_info(pid)[\"web_name\"],\n",
    "        \"position\": Loader.get_player_basic_info(pid)[\"element_type\"],\n",
    "        \"club\": Loader.get_player_basic_info(pid)[\"team\"],\n",
    "        \"cost\": Loader.get_player_basic_info(pid)[\"now_cost\"],\n",
    "    }\n",
    "    player = Player(**d)\n",
    "    if player.element in [p.element for p in gkps|defs|mids|fwds]:\n",
    "        print(f\"Already have: {player}\")\n",
    "        continue\n",
    "    else:\n",
    "        candidates.append(player)\n",
    "        \n",
    "print(\"Candidates:\")\n",
    "candidates"
   ]
  },
  {
   "cell_type": "code",
   "execution_count": 10,
   "id": "2ea379b8",
   "metadata": {},
   "outputs": [],
   "source": [
    "top_three = Optimizer.optimize_team(\n",
    "    team,\n",
    "    candidates,\n",
    "    SimpleExpectedPointsCalculator,\n",
    "    gameweek=Loader.get_next_gameweek(),\n",
    "    horizon=3,\n",
    "    max_transfers=2,\n",
    "    gamma=0.8,\n",
    "    wildcard=False,\n",
    ")\n",
    "third_best_score, third_best_team = heapq.heappop(top_three)\n",
    "second_best_score, second_best_team = heapq.heappop(top_three)\n",
    "first_best_score, first_best_team = heapq.heappop(top_three)"
   ]
  },
  {
   "cell_type": "code",
   "execution_count": 11,
   "id": "4069361c",
   "metadata": {},
   "outputs": [
    {
     "name": "stdout",
     "output_type": "stream",
     "text": [
      "Score: 224.95300000000003\n",
      "---------------------------------------------------------------------------\n",
      "{GKPS}\n",
      "Player(element=201, name='Henderson', position=1, club=7, cost=44)\n",
      "Player(element=521, name='Fabianski', position=1, club=19, cost=41)\n",
      "---------------------------------------------------------------------------\n",
      "{DEFS}\n",
      "Player(element=70, name='Kerkez', position=2, club=3, cost=47)\n",
      "Player(element=231, name='Mykolenko', position=2, club=8, cost=43)\n",
      "Player(element=311, name='Alexander-Arnold', position=2, club=12, cost=72)\n",
      "Player(element=399, name='Hall', position=2, club=15, cost=47)\n",
      "Player(element=475, name='Taylor', position=2, club=17, cost=39)\n",
      "---------------------------------------------------------------------------\n",
      "{MIDS}\n",
      "Player(element=99, name='Mbeumo', position=3, club=4, cost=78)\n",
      "Player(element=182, name='Palmer', position=3, club=6, cost=109)\n",
      "Player(element=328, name='M.Salah', position=3, club=12, cost=132)\n",
      "Player(element=364, name='Amad', position=3, club=14, cost=56)\n",
      "Player(element=585, name='I.Sarr', position=3, club=7, cost=57)\n",
      "---------------------------------------------------------------------------\n",
      "{FWDS}\n",
      "Player(element=321, name='Gakpo', position=4, club=12, cost=76)\n",
      "Player(element=401, name='Isak', position=4, club=15, cost=92)\n",
      "Player(element=447, name='Wood', position=4, club=16, cost=70)\n",
      "---------------------------------------------------------------------------\n",
      "MONEY IN BANK: 8\n",
      "FREE TRANSFERS: -1\n"
     ]
    }
   ],
   "source": [
    "print(\"Score: {}\".format(first_best_score))\n",
    "print(first_best_team)"
   ]
  },
  {
   "cell_type": "code",
   "execution_count": 12,
   "id": "5ac6b078",
   "metadata": {
    "scrolled": false
   },
   "outputs": [
    {
     "name": "stdout",
     "output_type": "stream",
     "text": [
      "Score: 222.33\n",
      "---------------------------------------------------------------------------\n",
      "{GKPS}\n",
      "Player(element=201, name='Henderson', position=1, club=7, cost=44)\n",
      "Player(element=235, name='Pickford', position=1, club=8, cost=51)\n",
      "---------------------------------------------------------------------------\n",
      "{DEFS}\n",
      "Player(element=70, name='Kerkez', position=2, club=3, cost=47)\n",
      "Player(element=231, name='Mykolenko', position=2, club=8, cost=43)\n",
      "Player(element=311, name='Alexander-Arnold', position=2, club=12, cost=72)\n",
      "Player(element=399, name='Hall', position=2, club=15, cost=47)\n",
      "Player(element=475, name='Taylor', position=2, club=17, cost=39)\n",
      "---------------------------------------------------------------------------\n",
      "{MIDS}\n",
      "Player(element=99, name='Mbeumo', position=3, club=4, cost=78)\n",
      "Player(element=182, name='Palmer', position=3, club=6, cost=109)\n",
      "Player(element=328, name='M.Salah', position=3, club=12, cost=132)\n",
      "Player(element=364, name='Amad', position=3, club=14, cost=56)\n",
      "Player(element=585, name='I.Sarr', position=3, club=7, cost=57)\n",
      "---------------------------------------------------------------------------\n",
      "{FWDS}\n",
      "Player(element=129, name='João Pedro', position=4, club=5, cost=55)\n",
      "Player(element=401, name='Isak', position=4, club=15, cost=92)\n",
      "Player(element=447, name='Wood', position=4, club=16, cost=70)\n",
      "---------------------------------------------------------------------------\n",
      "MONEY IN BANK: 19\n",
      "FREE TRANSFERS: -1\n"
     ]
    }
   ],
   "source": [
    "print(\"Score: {}\".format(second_best_score))\n",
    "print(second_best_team)"
   ]
  },
  {
   "cell_type": "code",
   "execution_count": 13,
   "id": "4e040e63",
   "metadata": {
    "scrolled": false
   },
   "outputs": [
    {
     "name": "stdout",
     "output_type": "stream",
     "text": [
      "Score: 222.01000000000002\n",
      "---------------------------------------------------------------------------\n",
      "{GKPS}\n",
      "Player(element=235, name='Pickford', position=1, club=8, cost=51)\n",
      "Player(element=521, name='Fabianski', position=1, club=19, cost=41)\n",
      "---------------------------------------------------------------------------\n",
      "{DEFS}\n",
      "Player(element=70, name='Kerkez', position=2, club=3, cost=47)\n",
      "Player(element=231, name='Mykolenko', position=2, club=8, cost=43)\n",
      "Player(element=311, name='Alexander-Arnold', position=2, club=12, cost=72)\n",
      "Player(element=399, name='Hall', position=2, club=15, cost=47)\n",
      "Player(element=475, name='Taylor', position=2, club=17, cost=39)\n",
      "---------------------------------------------------------------------------\n",
      "{MIDS}\n",
      "Player(element=99, name='Mbeumo', position=3, club=4, cost=78)\n",
      "Player(element=182, name='Palmer', position=3, club=6, cost=109)\n",
      "Player(element=328, name='M.Salah', position=3, club=12, cost=132)\n",
      "Player(element=364, name='Amad', position=3, club=14, cost=56)\n",
      "Player(element=585, name='I.Sarr', position=3, club=7, cost=57)\n",
      "---------------------------------------------------------------------------\n",
      "{FWDS}\n",
      "Player(element=129, name='João Pedro', position=4, club=5, cost=55)\n",
      "Player(element=401, name='Isak', position=4, club=15, cost=92)\n",
      "Player(element=447, name='Wood', position=4, club=16, cost=70)\n",
      "---------------------------------------------------------------------------\n",
      "MONEY IN BANK: 22\n",
      "FREE TRANSFERS: -1\n"
     ]
    }
   ],
   "source": [
    "print(\"Score: {}\".format(third_best_score))\n",
    "print(third_best_team)"
   ]
  },
  {
   "cell_type": "code",
   "execution_count": 14,
   "id": "e421cedc",
   "metadata": {},
   "outputs": [
    {
     "data": {
      "text/plain": [
       "{'gkps': frozenset({Player(element=201, name='Henderson', position=1, club=7, cost=44)}),\n",
       " 'defs': frozenset({Player(element=231, name='Mykolenko', position=2, club=8, cost=43),\n",
       "            Player(element=311, name='Alexander-Arnold', position=2, club=12, cost=72),\n",
       "            Player(element=399, name='Hall', position=2, club=15, cost=47)}),\n",
       " 'mids': frozenset({Player(element=99, name='Mbeumo', position=3, club=4, cost=78),\n",
       "            Player(element=182, name='Palmer', position=3, club=6, cost=109),\n",
       "            Player(element=328, name='M.Salah', position=3, club=12, cost=132),\n",
       "            Player(element=364, name='Amad', position=3, club=14, cost=56)}),\n",
       " 'fwds': frozenset({Player(element=321, name='Gakpo', position=4, club=12, cost=76),\n",
       "            Player(element=401, name='Isak', position=4, club=15, cost=92),\n",
       "            Player(element=447, name='Wood', position=4, club=16, cost=70)}),\n",
       " 'captain': Player(element=328, name='M.Salah', position=3, club=12, cost=132),\n",
       " 'total_exp_points': 113.125}"
      ]
     },
     "execution_count": 14,
     "metadata": {},
     "output_type": "execute_result"
    }
   ],
   "source": [
    "Optimizer.optimal_formation(first_best_team, SimpleExpectedPointsCalculator, 24)"
   ]
  },
  {
   "cell_type": "code",
   "execution_count": 15,
   "id": "7106df55",
   "metadata": {},
   "outputs": [
    {
     "data": {
      "text/plain": [
       "{'gkps': frozenset({Player(element=235, name='Pickford', position=1, club=8, cost=51)}),\n",
       " 'defs': frozenset({Player(element=231, name='Mykolenko', position=2, club=8, cost=43),\n",
       "            Player(element=311, name='Alexander-Arnold', position=2, club=12, cost=72),\n",
       "            Player(element=399, name='Hall', position=2, club=15, cost=47)}),\n",
       " 'mids': frozenset({Player(element=99, name='Mbeumo', position=3, club=4, cost=78),\n",
       "            Player(element=182, name='Palmer', position=3, club=6, cost=109),\n",
       "            Player(element=328, name='M.Salah', position=3, club=12, cost=132),\n",
       "            Player(element=364, name='Amad', position=3, club=14, cost=56),\n",
       "            Player(element=585, name='I.Sarr', position=3, club=7, cost=57)}),\n",
       " 'fwds': frozenset({Player(element=401, name='Isak', position=4, club=15, cost=92),\n",
       "            Player(element=447, name='Wood', position=4, club=16, cost=70)}),\n",
       " 'captain': Player(element=328, name='M.Salah', position=3, club=12, cost=132),\n",
       " 'total_exp_points': 110.04999999999998}"
      ]
     },
     "execution_count": 15,
     "metadata": {},
     "output_type": "execute_result"
    }
   ],
   "source": [
    "Optimizer.optimal_formation(second_best_team, SimpleExpectedPointsCalculator, 24)"
   ]
  },
  {
   "cell_type": "code",
   "execution_count": 16,
   "id": "0eec9802",
   "metadata": {},
   "outputs": [
    {
     "data": {
      "text/plain": [
       "{'gkps': frozenset({Player(element=201, name='Henderson', position=1, club=7, cost=44)}),\n",
       " 'defs': frozenset({Player(element=231, name='Mykolenko', position=2, club=8, cost=43),\n",
       "            Player(element=311, name='Alexander-Arnold', position=2, club=12, cost=72),\n",
       "            Player(element=399, name='Hall', position=2, club=15, cost=47)}),\n",
       " 'mids': frozenset({Player(element=99, name='Mbeumo', position=3, club=4, cost=78),\n",
       "            Player(element=182, name='Palmer', position=3, club=6, cost=109),\n",
       "            Player(element=328, name='M.Salah', position=3, club=12, cost=132),\n",
       "            Player(element=366, name='B.Fernandes', position=3, club=14, cost=84),\n",
       "            Player(element=585, name='I.Sarr', position=3, club=7, cost=57)}),\n",
       " 'fwds': frozenset({Player(element=401, name='Isak', position=4, club=15, cost=92),\n",
       "            Player(element=447, name='Wood', position=4, club=16, cost=70)}),\n",
       " 'captain': Player(element=328, name='M.Salah', position=3, club=12, cost=132),\n",
       " 'total_exp_points': 105.55000000000001}"
      ]
     },
     "execution_count": 16,
     "metadata": {},
     "output_type": "execute_result"
    }
   ],
   "source": [
    "Optimizer.optimal_formation(team, SimpleExpectedPointsCalculator, 24)"
   ]
  },
  {
   "cell_type": "code",
   "execution_count": null,
   "id": "8a8a13cb",
   "metadata": {},
   "outputs": [],
   "source": []
  }
 ],
 "metadata": {
  "kernelspec": {
   "display_name": "Python 3 (ipykernel)",
   "language": "python",
   "name": "python3"
  },
  "language_info": {
   "codemirror_mode": {
    "name": "ipython",
    "version": 3
   },
   "file_extension": ".py",
   "mimetype": "text/x-python",
   "name": "python",
   "nbconvert_exporter": "python",
   "pygments_lexer": "ipython3",
   "version": "3.9.21"
  }
 },
 "nbformat": 4,
 "nbformat_minor": 5
}
