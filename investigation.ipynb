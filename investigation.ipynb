{
 "cells": [
  {
   "cell_type": "code",
   "execution_count": 1,
   "id": "9370ecb4",
   "metadata": {},
   "outputs": [],
   "source": [
    "from fpl import Loader, Player, Team, SimpleExpectedPointsCalculator, Optimizer\n",
    "import heapq"
   ]
  },
  {
   "cell_type": "markdown",
   "id": "8c065068",
   "metadata": {},
   "source": [
    "## Dowloading your personal FPL team\n",
    "\n",
    "To download your own personal FPL team use `Loader.get_my_team(login, password, manager_id, how, filename)`\n",
    "\n",
    "To do download from the API you need your login details and `manager_id`. To get your `manager_id`:\n",
    "1. Log on to [Fantasy Premier League](https://fantasy.premierleague.com/) and navigate to the points tab.\n",
    "2. Your `manager_id` should appear somewhere in the URL. [FPL APIs Explained](https://www.oliverlooney.com/blogs/FPL-APIs-Explained#how-to-use-authenticated-endpoints) has some screenshots of this.\n",
    "\n",
    "If the download from the API fails, you can manually download the json blob as a local file:\n",
    "1. Log on to [Fantasy Premier League](https://fantasy.premierleague.com/)\n",
    "2. View a json blob of your team by typing this URL `https://fantasy.premierleague.com/api/my-team/{manager_id}/` into your browser with the appropriate `manager_id`\n",
    "3. Save the blob locally for example as `my_team.json`\n"
   ]
  },
  {
   "cell_type": "code",
   "execution_count": 3,
   "id": "166482fa",
   "metadata": {
    "scrolled": false
   },
   "outputs": [
    {
     "name": "stdout",
     "output_type": "stream",
     "text": [
      "---------------------------------------------------------------------------\n",
      "{GKPS}\n",
      "Player(element=201, name='Henderson', position=1, club=7, cost=44)\n",
      "Player(element=521, name='Fabianski', position=1, club=19, cost=41)\n",
      "---------------------------------------------------------------------------\n",
      "{DEFS}\n",
      "Player(element=70, name='Kerkez', position=2, club=3, cost=47)\n",
      "Player(element=231, name='Mykolenko', position=2, club=8, cost=43)\n",
      "Player(element=311, name='Alexander-Arnold', position=2, club=12, cost=72)\n",
      "Player(element=399, name='Hall', position=2, club=15, cost=47)\n",
      "Player(element=475, name='Taylor', position=2, club=17, cost=39)\n",
      "---------------------------------------------------------------------------\n",
      "{MIDS}\n",
      "Player(element=99, name='Mbeumo', position=3, club=4, cost=78)\n",
      "Player(element=182, name='Palmer', position=3, club=6, cost=109)\n",
      "Player(element=328, name='M.Salah', position=3, club=12, cost=132)\n",
      "Player(element=366, name='B.Fernandes', position=3, club=14, cost=84)\n",
      "Player(element=585, name='I.Sarr', position=3, club=7, cost=57)\n",
      "---------------------------------------------------------------------------\n",
      "{FWDS}\n",
      "Player(element=129, name='João Pedro', position=4, club=5, cost=55)\n",
      "Player(element=401, name='Isak', position=4, club=15, cost=92)\n",
      "Player(element=447, name='Wood', position=4, club=16, cost=70)\n",
      "---------------------------------------------------------------------------\n",
      "MONEY IN BANK: 1\n",
      "FREE TRANSFERS: 1\n"
     ]
    }
   ],
   "source": [
    "# team = Loader.get_my_team(login=\"email\", password=\"password\", manager_id=123456, how=\"api\")\n",
    "team = Loader.get_my_team(\n",
    "    login=\"\", password=\"\", manager_id=0, how=\"local\", filename=\"resources/my_team.json\"\n",
    ")\n",
    "print(team)"
   ]
  },
  {
   "cell_type": "markdown",
   "id": "31d3d861",
   "metadata": {},
   "source": [
    "## Creating a candidate list\n",
    "\n",
    "Create a `candidates` list of players you want to transfer in, you can use the `Loader.find_matching_players(search_name, matching_threshold)` function below to help (remember to search by a player's name as it appears on the fpl website)"
   ]
  },
  {
   "cell_type": "code",
   "execution_count": 6,
   "id": "58978115",
   "metadata": {},
   "outputs": [
    {
     "data": {
      "text/plain": [
       "[(Player(element=115, name='Baleba', position=3, club=5, cost=50),\n",
       "  'Carlos Baleba'),\n",
       " (Player(element=223, name='Garner', position=3, club=8, cost=49),\n",
       "  'James Garner'),\n",
       " (Player(element=240, name='Andreas', position=3, club=9, cost=50),\n",
       "  'Andreas Hoelgebaum Pereira'),\n",
       " (Player(element=311, name='Alexander-Arnold', position=2, club=12, cost=74),\n",
       "  'Trent Alexander-Arnold'),\n",
       " (Player(element=642, name='André', position=3, club=20, cost=50),\n",
       "  'André Trindade da Costa Neto')]"
      ]
     },
     "execution_count": 6,
     "metadata": {},
     "output_type": "execute_result"
    }
   ],
   "source": [
    "Loader.find_matching_players(search_name=\"alexander arnold\", threshold=50)"
   ]
  },
  {
   "cell_type": "code",
   "execution_count": 7,
   "id": "52e5c5d0",
   "metadata": {},
   "outputs": [],
   "source": [
    "candidates = [\n",
    "    Player(element=398, name=\"Gordon\", position=3, club=15, cost=77),\n",
    "    Player(element=339, name=\"Virgil\", position=2, club=12, cost=64),\n",
    "    Player(element=354, name=\"Kovačić\", position=3, club=13, cost=54),\n",
    "    Player(element=321, name=\"Gakpo\", position=4, club=12, cost=76),\n",
    "    Player(element=364, name=\"Amad\", position=3, club=14, cost=56),\n",
    "]"
   ]
  },
  {
   "cell_type": "markdown",
   "id": "b3918084",
   "metadata": {},
   "source": [
    "## Optimize your team"
   ]
  },
  {
   "cell_type": "code",
   "execution_count": 8,
   "id": "efe2b446",
   "metadata": {},
   "outputs": [
    {
     "name": "stdout",
     "output_type": "stream",
     "text": [
      "Score: 253.45865000000006\n",
      "---------------------------------------------------------------------------\n",
      "{GKPS}\n",
      "Player(element=201, name='Henderson', position=1, club=7, cost=44)\n",
      "Player(element=521, name='Fabianski', position=1, club=19, cost=41)\n",
      "---------------------------------------------------------------------------\n",
      "{DEFS}\n",
      "Player(element=70, name='Kerkez', position=2, club=3, cost=47)\n",
      "Player(element=231, name='Mykolenko', position=2, club=8, cost=43)\n",
      "Player(element=311, name='Alexander-Arnold', position=2, club=12, cost=72)\n",
      "Player(element=399, name='Hall', position=2, club=15, cost=47)\n",
      "Player(element=475, name='Taylor', position=2, club=17, cost=39)\n",
      "---------------------------------------------------------------------------\n",
      "{MIDS}\n",
      "Player(element=99, name='Mbeumo', position=3, club=4, cost=78)\n",
      "Player(element=182, name='Palmer', position=3, club=6, cost=109)\n",
      "Player(element=328, name='M.Salah', position=3, club=12, cost=132)\n",
      "Player(element=364, name='Amad', position=3, club=14, cost=56)\n",
      "Player(element=366, name='B.Fernandes', position=3, club=14, cost=84)\n",
      "---------------------------------------------------------------------------\n",
      "{FWDS}\n",
      "Player(element=129, name='João Pedro', position=4, club=5, cost=55)\n",
      "Player(element=401, name='Isak', position=4, club=15, cost=92)\n",
      "Player(element=447, name='Wood', position=4, club=16, cost=70)\n",
      "---------------------------------------------------------------------------\n",
      "MONEY IN BANK: 2\n",
      "FREE TRANSFERS: 0\n"
     ]
    }
   ],
   "source": [
    "top_three = Optimizer.optimize_team(\n",
    "    team,\n",
    "    candidates,\n",
    "    SimpleExpectedPointsCalculator,\n",
    "    gameweek=Loader.get_next_gameweek(),\n",
    "    horizon=5,\n",
    "    max_transfers=2,\n",
    "    gamma=0.8,\n",
    "    wildcard=False,\n",
    ")\n",
    "third_best_score, third_best_team = heapq.heappop(top_three)\n",
    "second_best_score, second_best_team = heapq.heappop(top_three)\n",
    "first_best_score, first_best_team = heapq.heappop(top_three)\n",
    "print(\"Score: {}\".format(first_best_score))\n",
    "print(first_best_team)"
   ]
  },
  {
   "cell_type": "markdown",
   "id": "d923e776",
   "metadata": {},
   "source": [
    "## Interrogating optimization results\n",
    "\n",
    "The below could probably be put into functions somewhere"
   ]
  },
  {
   "cell_type": "code",
   "execution_count": 7,
   "id": "d4510c75",
   "metadata": {},
   "outputs": [],
   "source": [
    "def get_discounted_reward(\n",
    "    player_id: int, number_gameweeks: int, gamma: float = 1\n",
    ") -> float:\n",
    "    \"\"\"Gets the discounted reward of a candidate over a certain number of gameweeks\n",
    "    :param player_id: the player which you want the reward for\n",
    "    :param number_gameweeks: how many gameweeks do you want to consider\n",
    "    :param gamma: discount factor\n",
    "\n",
    "    :return: discounted reward\n",
    "    \"\"\"\n",
    "    discounted_reward = 0\n",
    "    discount_factor = 1\n",
    "    next_gameweek = Loader.get_next_gameweek()\n",
    "    for gw in range(next_gameweek, next_gameweek + number_gameweeks):\n",
    "        discounted_reward += (\n",
    "            discount_factor\n",
    "            * SimpleExpectedPointsCalculator.get_expected_points(player_id, gw)\n",
    "        )\n",
    "        discount_factor *= gamma\n",
    "\n",
    "    return discounted_reward\n",
    "\n",
    "\n",
    "def print_sorted_candidates(\n",
    "    candidates: list[int], number_gameweeks: int, gamma: float = 1\n",
    ") -> None:\n",
    "    \"\"\"Print out the list of players and rewards they get\n",
    "    :param candidates: list of player ids\n",
    "    :param number_gameweeks: how many gameweeks do you want to consider\n",
    "    :param gamma: discount factor\n",
    "    \"\"\"\n",
    "    sorted_candidates = []\n",
    "    for i in candidates:\n",
    "        r = get_discounted_reward(i, number_gameweeks, gamma)\n",
    "        sorted_candidates.append((i, r))\n",
    "\n",
    "    sorted_candidates = reversed(sorted(sorted_candidates, key=lambda x: x[1]))\n",
    "    for i, r in sorted_candidates:\n",
    "        web_name = Loader.get_player_basic_info(i)[\"web_name\"]\n",
    "        print(f\"id: {i}, name: {web_name}, reward: {r}\")\n",
    "\n",
    "    return"
   ]
  },
  {
   "cell_type": "code",
   "execution_count": 8,
   "id": "944de5ba",
   "metadata": {},
   "outputs": [
    {
     "name": "stdout",
     "output_type": "stream",
     "text": [
      "id: 328, name: M.Salah, reward: 41.70952\n",
      "id: 182, name: Palmer, reward: 26.73724\n",
      "id: 99, name: Mbeumo, reward: 26.339840000000006\n",
      "id: 401, name: Isak, reward: 25.94052\n",
      "id: 311, name: Alexander-Arnold, reward: 23.82696\n",
      "id: 321, name: Gakpo, reward: 23.390800000000006\n",
      "id: 447, name: Wood, reward: 21.861120000000003\n",
      "id: 364, name: Amad, reward: 20.947680000000002\n",
      "id: 207, name: Mateta, reward: 19.816200000000006\n",
      "id: 235, name: Pickford, reward: 19.415760000000002\n",
      "id: 366, name: B.Fernandes, reward: 17.8382\n",
      "id: 398, name: Gordon, reward: 17.45248\n",
      "id: 70, name: Kerkez, reward: 16.64648\n",
      "id: 201, name: Henderson, reward: 15.614200000000004\n",
      "id: 231, name: Mykolenko, reward: 15.599360000000004\n",
      "id: 129, name: João Pedro, reward: 15.59648\n",
      "id: 399, name: Hall, reward: 14.931280000000001\n",
      "id: 585, name: I.Sarr, reward: 14.68976\n",
      "id: 521, name: Fabianski, reward: 8.77688\n",
      "id: 220, name: Calvert-Lewin, reward: 6.654760000000001\n",
      "id: 475, name: Taylor, reward: 3.1783599999999996\n"
     ]
    }
   ],
   "source": [
    "print_sorted_candidates(\n",
    "    candidates_gkps + candidates_defs + candidates_mids + candidates_fwds, 5, 0.80\n",
    ")"
   ]
  },
  {
   "cell_type": "code",
   "execution_count": 14,
   "id": "e421cedc",
   "metadata": {},
   "outputs": [
    {
     "data": {
      "text/plain": [
       "{'gkps': frozenset({Player(element=201, name='Henderson', position=1, club=7, cost=44)}),\n",
       " 'defs': frozenset({Player(element=231, name='Mykolenko', position=2, club=8, cost=43),\n",
       "            Player(element=311, name='Alexander-Arnold', position=2, club=12, cost=72),\n",
       "            Player(element=399, name='Hall', position=2, club=15, cost=47)}),\n",
       " 'mids': frozenset({Player(element=99, name='Mbeumo', position=3, club=4, cost=78),\n",
       "            Player(element=182, name='Palmer', position=3, club=6, cost=109),\n",
       "            Player(element=328, name='M.Salah', position=3, club=12, cost=132),\n",
       "            Player(element=364, name='Amad', position=3, club=14, cost=56)}),\n",
       " 'fwds': frozenset({Player(element=321, name='Gakpo', position=4, club=12, cost=76),\n",
       "            Player(element=401, name='Isak', position=4, club=15, cost=92),\n",
       "            Player(element=447, name='Wood', position=4, club=16, cost=70)}),\n",
       " 'captain': Player(element=328, name='M.Salah', position=3, club=12, cost=132),\n",
       " 'total_exp_points': 113.125}"
      ]
     },
     "execution_count": 14,
     "metadata": {},
     "output_type": "execute_result"
    }
   ],
   "source": [
    "Optimizer.optimal_formation(first_best_team, SimpleExpectedPointsCalculator, 24)"
   ]
  },
  {
   "cell_type": "code",
   "execution_count": 15,
   "id": "7106df55",
   "metadata": {},
   "outputs": [
    {
     "data": {
      "text/plain": [
       "{'gkps': frozenset({Player(element=235, name='Pickford', position=1, club=8, cost=51)}),\n",
       " 'defs': frozenset({Player(element=231, name='Mykolenko', position=2, club=8, cost=43),\n",
       "            Player(element=311, name='Alexander-Arnold', position=2, club=12, cost=72),\n",
       "            Player(element=399, name='Hall', position=2, club=15, cost=47)}),\n",
       " 'mids': frozenset({Player(element=99, name='Mbeumo', position=3, club=4, cost=78),\n",
       "            Player(element=182, name='Palmer', position=3, club=6, cost=109),\n",
       "            Player(element=328, name='M.Salah', position=3, club=12, cost=132),\n",
       "            Player(element=364, name='Amad', position=3, club=14, cost=56),\n",
       "            Player(element=585, name='I.Sarr', position=3, club=7, cost=57)}),\n",
       " 'fwds': frozenset({Player(element=401, name='Isak', position=4, club=15, cost=92),\n",
       "            Player(element=447, name='Wood', position=4, club=16, cost=70)}),\n",
       " 'captain': Player(element=328, name='M.Salah', position=3, club=12, cost=132),\n",
       " 'total_exp_points': 110.04999999999998}"
      ]
     },
     "execution_count": 15,
     "metadata": {},
     "output_type": "execute_result"
    }
   ],
   "source": [
    "Optimizer.optimal_formation(second_best_team, SimpleExpectedPointsCalculator, 24)"
   ]
  },
  {
   "cell_type": "code",
   "execution_count": 16,
   "id": "0eec9802",
   "metadata": {},
   "outputs": [
    {
     "data": {
      "text/plain": [
       "{'gkps': frozenset({Player(element=201, name='Henderson', position=1, club=7, cost=44)}),\n",
       " 'defs': frozenset({Player(element=231, name='Mykolenko', position=2, club=8, cost=43),\n",
       "            Player(element=311, name='Alexander-Arnold', position=2, club=12, cost=72),\n",
       "            Player(element=399, name='Hall', position=2, club=15, cost=47)}),\n",
       " 'mids': frozenset({Player(element=99, name='Mbeumo', position=3, club=4, cost=78),\n",
       "            Player(element=182, name='Palmer', position=3, club=6, cost=109),\n",
       "            Player(element=328, name='M.Salah', position=3, club=12, cost=132),\n",
       "            Player(element=366, name='B.Fernandes', position=3, club=14, cost=84),\n",
       "            Player(element=585, name='I.Sarr', position=3, club=7, cost=57)}),\n",
       " 'fwds': frozenset({Player(element=401, name='Isak', position=4, club=15, cost=92),\n",
       "            Player(element=447, name='Wood', position=4, club=16, cost=70)}),\n",
       " 'captain': Player(element=328, name='M.Salah', position=3, club=12, cost=132),\n",
       " 'total_exp_points': 105.55000000000001}"
      ]
     },
     "execution_count": 16,
     "metadata": {},
     "output_type": "execute_result"
    }
   ],
   "source": [
    "Optimizer.optimal_formation(team, SimpleExpectedPointsCalculator, 24)"
   ]
  },
  {
   "cell_type": "code",
   "execution_count": null,
   "id": "8a8a13cb",
   "metadata": {},
   "outputs": [],
   "source": []
  }
 ],
 "metadata": {
  "kernelspec": {
   "display_name": "Python 3 (ipykernel)",
   "language": "python",
   "name": "python3"
  },
  "language_info": {
   "codemirror_mode": {
    "name": "ipython",
    "version": 3
   },
   "file_extension": ".py",
   "mimetype": "text/x-python",
   "name": "python",
   "nbconvert_exporter": "python",
   "pygments_lexer": "ipython3",
   "version": "3.9.21"
  }
 },
 "nbformat": 4,
 "nbformat_minor": 5
}
