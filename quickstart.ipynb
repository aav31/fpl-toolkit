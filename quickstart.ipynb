{
 "cells": [
  {
   "cell_type": "code",
   "execution_count": 1,
   "id": "9370ecb4",
   "metadata": {},
   "outputs": [],
   "source": [
    "from fpl import (\n",
    "    Loader,\n",
    "    Player,\n",
    "    Team,\n",
    "    SimpleExpectedPointsCalculator,\n",
    "    Optimizer,\n",
    "    find_matching_players,\n",
    ")\n",
    "import heapq"
   ]
  },
  {
   "cell_type": "markdown",
   "id": "8c065068",
   "metadata": {},
   "source": [
    "## Dowloading your personal FPL team\n",
    "\n",
    "### `Loader.get_my_team(login, password, manager_id, how, filename)`\n",
    "\n",
    "To download from the API you need your login details and `manager_id`. To get your `manager_id`:\n",
    "1. Log on to [Fantasy Premier League](https://fantasy.premierleague.com/) and navigate to the points tab.\n",
    "2. Your `manager_id` should appear somewhere in the URL. [FPL APIs Explained](https://www.oliverlooney.com/blogs/FPL-APIs-Explained#how-to-use-authenticated-endpoints) has some screenshots of this.\n",
    "\n",
    "If the download from the API fails, you can manually download the json blob as a local file:\n",
    "1. Log on to [Fantasy Premier League](https://fantasy.premierleague.com/)\n",
    "2. View a json blob of your team by typing this URL `https://fantasy.premierleague.com/api/my-team/{manager_id}/` into your browser with the appropriate `manager_id`\n",
    "3. Save the blob locally for example as `my_team.json`\n"
   ]
  },
  {
   "cell_type": "code",
   "execution_count": 2,
   "id": "166482fa",
   "metadata": {},
   "outputs": [
    {
     "name": "stdout",
     "output_type": "stream",
     "text": [
      "---------------------------------------------------------------------------\n",
      "{GKPS}\n",
      "Player(element=201, name='Henderson', position=1, club=7, cost=44)\n",
      "Player(element=521, name='Fabianski', position=1, club=19, cost=41)\n",
      "---------------------------------------------------------------------------\n",
      "{DEFS}\n",
      "Player(element=70, name='Kerkez', position=2, club=3, cost=47)\n",
      "Player(element=231, name='Mykolenko', position=2, club=8, cost=43)\n",
      "Player(element=311, name='Alexander-Arnold', position=2, club=12, cost=72)\n",
      "Player(element=399, name='Hall', position=2, club=15, cost=47)\n",
      "Player(element=475, name='Taylor', position=2, club=17, cost=39)\n",
      "---------------------------------------------------------------------------\n",
      "{MIDS}\n",
      "Player(element=99, name='Mbeumo', position=3, club=4, cost=78)\n",
      "Player(element=182, name='Palmer', position=3, club=6, cost=109)\n",
      "Player(element=328, name='M.Salah', position=3, club=12, cost=132)\n",
      "Player(element=366, name='B.Fernandes', position=3, club=14, cost=84)\n",
      "Player(element=585, name='I.Sarr', position=3, club=7, cost=57)\n",
      "---------------------------------------------------------------------------\n",
      "{FWDS}\n",
      "Player(element=129, name='João Pedro', position=4, club=5, cost=55)\n",
      "Player(element=401, name='Isak', position=4, club=15, cost=92)\n",
      "Player(element=447, name='Wood', position=4, club=16, cost=70)\n",
      "---------------------------------------------------------------------------\n",
      "MONEY IN BANK: 1\n",
      "FREE TRANSFERS: 1\n"
     ]
    }
   ],
   "source": [
    "# team = Loader.get_my_team(login=\"email\", password=\"password\", manager_id=123456, how=\"api\")\n",
    "team = Loader.get_my_team(\n",
    "    login=\"\", password=\"\", manager_id=0, how=\"local\", filename=\"resources/my_team.json\"\n",
    ")\n",
    "print(team)"
   ]
  },
  {
   "cell_type": "markdown",
   "id": "31d3d861",
   "metadata": {},
   "source": [
    "## Creating a candidate list\n",
    "\n",
    "### `find_matching_players(search_name, matching_threshold)`\n",
    "This function helps you create a `candidates` list of players you want to transfer in. Remember to search by a player's name as it appears on [Fantasy Premier League](https://fantasy.premierleague.com/)."
   ]
  },
  {
   "cell_type": "code",
   "execution_count": 3,
   "id": "58978115",
   "metadata": {},
   "outputs": [
    {
     "data": {
      "text/plain": [
       "[(Player(element=115, name='Baleba', position=3, club=5, cost=50),\n",
       "  'Carlos Baleba'),\n",
       " (Player(element=223, name='Garner', position=3, club=8, cost=49),\n",
       "  'James Garner'),\n",
       " (Player(element=240, name='Andreas', position=3, club=9, cost=49),\n",
       "  'Andreas Hoelgebaum Pereira'),\n",
       " (Player(element=311, name='Alexander-Arnold', position=2, club=12, cost=74),\n",
       "  'Trent Alexander-Arnold'),\n",
       " (Player(element=642, name='André', position=3, club=20, cost=50),\n",
       "  'André Trindade da Costa Neto')]"
      ]
     },
     "execution_count": 3,
     "metadata": {},
     "output_type": "execute_result"
    }
   ],
   "source": [
    "find_matching_players(search_name=\"alexander arnold\", threshold=50)"
   ]
  },
  {
   "cell_type": "code",
   "execution_count": 4,
   "id": "52e5c5d0",
   "metadata": {},
   "outputs": [],
   "source": [
    "candidates = [\n",
    "    Player(element=398, name=\"Gordon\", position=3, club=15, cost=77),\n",
    "    Player(element=339, name=\"Virgil\", position=2, club=12, cost=64),\n",
    "    Player(element=354, name=\"Kovačić\", position=3, club=13, cost=54),\n",
    "    Player(element=321, name=\"Gakpo\", position=4, club=12, cost=76),\n",
    "    Player(element=364, name=\"Amad\", position=3, club=14, cost=56),\n",
    "]"
   ]
  },
  {
   "cell_type": "markdown",
   "id": "f78c5dd3",
   "metadata": {},
   "source": [
    "## Optimizing your team\n",
    "\n",
    "The optimization functions require a parameter `epc`, which should be a class inheriting from the abstract class `ExpectedPointsCalculator`. This class provides a prediction of how many points a player will score in a particular gameweek via a single function:\n",
    "- `get_expected_points(player_id, gameweek)`: Returns the expected points for a player in a specific gameweek.\n",
    "\n",
    "You can easily integrate your own predictive models by creating classes that inherit from `ExpectedPointsCalculator`.\n",
    "\n",
    "In the following simple examples, we use a `SimpleExpectedPointsCalculator`. Later, we show how to define your own expected points calculator by inheriting from `ExpectedPointsCalculator`."
   ]
  },
  {
   "cell_type": "markdown",
   "id": "ddccfe2a",
   "metadata": {},
   "source": [
    "### `Optimizer.calc_discounted_reward_player(player, epc, gameweek, horizon, gamma)`\n",
    "Calculate how you think each player will perform on an individual basis over the coming gameweeks."
   ]
  },
  {
   "cell_type": "code",
   "execution_count": 5,
   "id": "7ee264f9",
   "metadata": {},
   "outputs": [
    {
     "data": {
      "text/plain": [
       "{Player(element=398, name='Gordon', position=3, club=15, cost=77): 18.700000000000003,\n",
       " Player(element=339, name='Virgil', position=2, club=12, cost=64): 18.3,\n",
       " Player(element=354, name='Kovačić', position=3, club=13, cost=54): 17.625,\n",
       " Player(element=321, name='Gakpo', position=4, club=12, cost=76): 19.9,\n",
       " Player(element=364, name='Amad', position=3, club=14, cost=56): 0.0}"
      ]
     },
     "execution_count": 5,
     "metadata": {},
     "output_type": "execute_result"
    }
   ],
   "source": [
    "{\n",
    "    c: Optimizer.calc_discounted_reward_player(\n",
    "        player=c,  # A player.\n",
    "        epc=SimpleExpectedPointsCalculator,  # How you want to calculate the expected points for each player.\n",
    "        gameweek=Loader.get_next_gameweek(),  # Which gameweek do you want to start on.\n",
    "        horizon=5,  # How many gameweeks do you want to calculate over.\n",
    "        gamma=1,  # The discount factor.\n",
    "    )\n",
    "    for c in candidates\n",
    "}"
   ]
  },
  {
   "cell_type": "markdown",
   "id": "bac4bb04",
   "metadata": {},
   "source": [
    "### `Optimizer.calc_optimial_formation(team, epc, gameweek)`\n",
    "Calculate the best possible formation for a particular gameweek - the formation is filled with players having the greatest expected points."
   ]
  },
  {
   "cell_type": "code",
   "execution_count": 6,
   "id": "a8398b1d",
   "metadata": {},
   "outputs": [
    {
     "name": "stdout",
     "output_type": "stream",
     "text": [
      "---------------------------------------------------------------------------\n",
      "{GKPS}\n",
      "Player(element=201, name='Henderson', position=1, club=7, cost=44)\n",
      "---------------------------------------------------------------------------\n",
      "{DEFS}\n",
      "Player(element=70, name='Kerkez', position=2, club=3, cost=47)\n",
      "Player(element=231, name='Mykolenko', position=2, club=8, cost=43)\n",
      "Player(element=311, name='Alexander-Arnold', position=2, club=12, cost=72)\n",
      "---------------------------------------------------------------------------\n",
      "{MIDS}\n",
      "Player(element=99, name='Mbeumo', position=3, club=4, cost=78)\n",
      "Player(element=182, name='Palmer', position=3, club=6, cost=109)\n",
      "Player(element=328, name='M.Salah', position=3, club=12, cost=132)\n",
      "Player(element=366, name='B.Fernandes', position=3, club=14, cost=84)\n",
      "---------------------------------------------------------------------------\n",
      "{FWDS}\n",
      "Player(element=129, name='João Pedro', position=4, club=5, cost=55)\n",
      "Player(element=401, name='Isak', position=4, club=15, cost=92)\n",
      "Player(element=447, name='Wood', position=4, club=16, cost=70)\n",
      "---------------------------------------------------------------------------\n",
      "TOTAL EXPECTED POINTS: 79.625\n",
      "CAPTAIN: Player(element=328, name='M.Salah', position=3, club=12, cost=132)\n"
     ]
    }
   ],
   "source": [
    "print(\n",
    "    Optimizer.calc_optimal_formation(\n",
    "        team=team,  # Some team.\n",
    "        epc=SimpleExpectedPointsCalculator,  # How you want to calculate the expected points for each player.\n",
    "        gameweek=Loader.get_next_gameweek(),  # Which gameweek do you want to start on.\n",
    "    )\n",
    ")"
   ]
  },
  {
   "cell_type": "markdown",
   "id": "ca050ea2",
   "metadata": {},
   "source": [
    "### `Optimizer.calc_discounted_reward_team(team, epc, gameweek, horizon, gamma, wildcard)`\n",
    "Calculate how you think a particular team will perform over the coming gameweeks. Each gameweek the formation will be optimized to play the best possible team. A penalty will be applied depending on how many free transfers you have."
   ]
  },
  {
   "cell_type": "code",
   "execution_count": 7,
   "id": "f9370902",
   "metadata": {},
   "outputs": [],
   "source": [
    "new_team = team.transfer_player(\n",
    "    out_player=Player(element=328, name=\"M.Salah\", position=3, club=12, cost=132),\n",
    "    in_player=Player(element=240, name=\"Andreas\", position=3, club=9, cost=50),\n",
    ")"
   ]
  },
  {
   "cell_type": "code",
   "execution_count": 8,
   "id": "63a00745",
   "metadata": {},
   "outputs": [
    {
     "data": {
      "text/plain": [
       "68.10000000000001"
      ]
     },
     "execution_count": 8,
     "metadata": {},
     "output_type": "execute_result"
    }
   ],
   "source": [
    "Optimizer.calc_discounted_reward_team(\n",
    "    team=new_team,  # Some team.\n",
    "    epc=SimpleExpectedPointsCalculator,  # How you want to calculate the expected points for each player.\n",
    "    gameweek=Loader.get_next_gameweek(),  # Which gameweek do you want to start on.\n",
    "    horizon=1,  # How many gameweeks do you want to calculate over.\n",
    "    gamma=1.0,  # The discount factor.\n",
    "    wildcard=True,  # Flag when True turns off the transfer adjustment.\n",
    ")"
   ]
  },
  {
   "cell_type": "markdown",
   "id": "b3918084",
   "metadata": {},
   "source": [
    "### `Optimizer.calc_optimal_team(team, candidates, epc, gameweek, horizon, max_transfers, gamma, wildcard)`\n",
    "Calculate the top three possible teams given a list of candidates. This will create all possible teams with `0` to `max_transfers` transfers and compute the discounted reward of each team."
   ]
  },
  {
   "cell_type": "code",
   "execution_count": 9,
   "id": "efe2b446",
   "metadata": {},
   "outputs": [
    {
     "name": "stdout",
     "output_type": "stream",
     "text": [
      "Score: 250.49588\n",
      "---------------------------------------------------------------------------\n",
      "{GKPS}\n",
      "Player(element=201, name='Henderson', position=1, club=7, cost=44)\n",
      "Player(element=521, name='Fabianski', position=1, club=19, cost=41)\n",
      "---------------------------------------------------------------------------\n",
      "{DEFS}\n",
      "Player(element=70, name='Kerkez', position=2, club=3, cost=47)\n",
      "Player(element=231, name='Mykolenko', position=2, club=8, cost=43)\n",
      "Player(element=311, name='Alexander-Arnold', position=2, club=12, cost=72)\n",
      "Player(element=399, name='Hall', position=2, club=15, cost=47)\n",
      "Player(element=475, name='Taylor', position=2, club=17, cost=39)\n",
      "---------------------------------------------------------------------------\n",
      "{MIDS}\n",
      "Player(element=99, name='Mbeumo', position=3, club=4, cost=78)\n",
      "Player(element=182, name='Palmer', position=3, club=6, cost=109)\n",
      "Player(element=328, name='M.Salah', position=3, club=12, cost=132)\n",
      "Player(element=366, name='B.Fernandes', position=3, club=14, cost=84)\n",
      "Player(element=585, name='I.Sarr', position=3, club=7, cost=57)\n",
      "---------------------------------------------------------------------------\n",
      "{FWDS}\n",
      "Player(element=129, name='João Pedro', position=4, club=5, cost=55)\n",
      "Player(element=401, name='Isak', position=4, club=15, cost=92)\n",
      "Player(element=447, name='Wood', position=4, club=16, cost=70)\n",
      "---------------------------------------------------------------------------\n",
      "MONEY IN BANK: 1\n",
      "FREE TRANSFERS: 1\n"
     ]
    }
   ],
   "source": [
    "top_three = Optimizer.calc_optimal_teams(\n",
    "    team=team,  # Your current fpl team.\n",
    "    candidates=candidates,  # Whichever players you want to transfer in.\n",
    "    epc=SimpleExpectedPointsCalculator,  # How you want to calculate the expected points for each player.\n",
    "    gameweek=Loader.get_next_gameweek(),  # Which gameweek do you want to start on.\n",
    "    horizon=5,  # How many gameweeks do you want to calculate over.\n",
    "    max_transfers=3,  # The maximum number of transfers allowed in the optimization.\n",
    "    gamma=0.8,  # The discount factor.\n",
    "    wildcard=False,  # Flag when True turns off the transfer adjustment.\n",
    ")\n",
    "third_best_score, third_best_team = heapq.heappop(top_three)\n",
    "second_best_score, second_best_team = heapq.heappop(top_three)\n",
    "first_best_score, first_best_team = heapq.heappop(top_three)\n",
    "print(\"Score: {}\".format(first_best_score))\n",
    "print(first_best_team)"
   ]
  },
  {
   "cell_type": "markdown",
   "id": "5ce47358",
   "metadata": {},
   "source": [
    "## Creating your own `ExpectedPointsCalculator`\n",
    "\n",
    "To create your own expected points calculator, inherit from `ExpectedPointsCalculator` and implement the `get_expected_points` method."
   ]
  }
 ],
 "metadata": {
  "kernelspec": {
   "display_name": "Python 3 (ipykernel)",
   "language": "python",
   "name": "python3"
  },
  "language_info": {
   "codemirror_mode": {
    "name": "ipython",
    "version": 3
   },
   "file_extension": ".py",
   "mimetype": "text/x-python",
   "name": "python",
   "nbconvert_exporter": "python",
   "pygments_lexer": "ipython3",
   "version": "3.9.21"
  }
 },
 "nbformat": 4,
 "nbformat_minor": 5
}
