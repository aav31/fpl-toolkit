{
 "cells": [
  {
   "cell_type": "code",
   "execution_count": 27,
   "metadata": {},
   "outputs": [],
   "source": [
    "import requests\n",
    "from typing import List, Dict\n",
    "import pandas as pd\n",
    "import copy\n",
    "import time\n",
    "from functools import lru_cache\n",
    "import warnings"
   ]
  },
  {
   "cell_type": "markdown",
   "metadata": {},
   "source": [
    "### Static info"
   ]
  },
  {
   "cell_type": "code",
   "execution_count": 75,
   "metadata": {},
   "outputs": [],
   "source": [
    "@lru_cache(maxsize=1)\n",
    "def get_static_info() -> Dict:\n",
    "    \"\"\"\n",
    "    Return the static information from FPL - should only be called once per session\n",
    "    \n",
    "    :return: dictionary with key value pairs specified in 1. General Information from \n",
    "    https://medium.com/@frenzelts/fantasy-premier-league-api-endpoints-a-detailed-guide-acbd5598eb19\n",
    "    \"\"\"\n",
    "    time.sleep(10)\n",
    "    try:\n",
    "        response = requests.get('https://fantasy.premierleague.com/api/bootstrap-static/')\n",
    "        response.raise_for_status()\n",
    "    except requests.exceptions.RequestException:\n",
    "        raise requests.exceptions.RequestException('Error querying API')\n",
    "    \n",
    "    result = response.json()\n",
    "    assert len(result) > 0\n",
    "    return result\n",
    "\n",
    "@lru_cache(maxsize=1)\n",
    "def get_fixtures() -> Dict:\n",
    "    \"\"\"\n",
    "    Return the fixtures from FPL - should only be called once per session\n",
    "    \n",
    "    \"\"\"\n",
    "    time.sleep(10)\n",
    "    try:\n",
    "        response = requests.get('https://fantasy.premierleague.com/api/fixtures/')\n",
    "        response.raise_for_status()\n",
    "    except requests.exceptions.RequestException:\n",
    "        raise requests.exceptions.RequestException('Error querying API')\n",
    "    \n",
    "    result = response.json()\n",
    "    assert len(result) > 0\n",
    "    return result"
   ]
  },
  {
   "cell_type": "code",
   "execution_count": 38,
   "metadata": {},
   "outputs": [],
   "source": [
    "def get_manager_id() -> int:\n",
    "    \"\"\"\n",
    "    Get the id of the manager as an integer - should only be called once per session\n",
    "    \n",
    "    :return: id of manager\n",
    "    \"\"\"\n",
    "    # todo: get this from https://fantasy.premierleague.com/api/me/\n",
    "    return 2085446"
   ]
  },
  {
   "cell_type": "code",
   "execution_count": 52,
   "metadata": {},
   "outputs": [],
   "source": [
    "@lru_cache(maxsize=None)\n",
    "def get_next_gameweek(as_of_ts: str='now') -> int:\n",
    "    \"\"\"\n",
    "    Get the id of the next gameweek as an integer as of a particular UTC timestamp\n",
    "    \n",
    "    :param as_of_ts: provide input as in https://pandas.pydata.org/docs/reference/api/pandas.Timestamp.html\n",
    "    :return: id of the next gameweek\n",
    "    \"\"\"\n",
    "    if as_of_ts == 'now':\n",
    "        as_of_ts = pd.Timestamp.now('UTC')\n",
    "    else:\n",
    "        as_of_ts = pd.Timestamp(as_of_ts, tz='UTC')\n",
    "        \n",
    "    df = pd.DataFrame(get_static_info()['events'])\n",
    "    df['deadline_time'] = pd.to_datetime(df['deadline_time'])\n",
    "    df = df[df['deadline_time'] > as_of_ts]\n",
    "    return int(df.nsmallest(1, 'deadline_time').iloc[0]['id'])"
   ]
  },
  {
   "cell_type": "code",
   "execution_count": 14,
   "metadata": {},
   "outputs": [],
   "source": [
    "@lru_cache(maxsize=2)\n",
    "def get_historical_team_from_gameweek(gameweek: int) -> List[int]:\n",
    "    \"\"\"\n",
    "    Returns the historical team you used for a particular gameweek\n",
    "    \n",
    "    :param gameweek: historical gameweek number\n",
    "    :return: sorted list of player ids\n",
    "    \"\"\"\n",
    "    if not isinstance(gameweek, int):\n",
    "        raise TypeError('Gameweek should be an integer')\n",
    "    if not (0 < gameweek < get_next_gameweek()):\n",
    "        raise ValueError('Gameweek integer needs to be in valid range')\n",
    "    \n",
    "    url = 'https://fantasy.premierleague.com/api/entry/{0}/event/{1}/picks/'.format(get_manager_id(), gameweek)\n",
    "    try:\n",
    "        response = requests.get(url)\n",
    "        response.raise_for_status()\n",
    "    except requests.exceptions.RequestException:\n",
    "        raise requests.exceptions.RequestException('Error querying API')\n",
    "        \n",
    "    result = [ x['element'] for x in response.json()['picks'] ]\n",
    "    assert len(result) == 15, 'Team length must be 15'\n",
    "    return sorted(result)"
   ]
  },
  {
   "cell_type": "code",
   "execution_count": 105,
   "metadata": {},
   "outputs": [],
   "source": [
    "@lru_cache(maxsize=None)\n",
    "def get_player_basic_info(player_id: int) -> Dict:\n",
    "    for player_info in get_static_info()['elements']:\n",
    "        if player_info['id'] == player_id:\n",
    "            return player_info\n",
    "        \n",
    "    raise KeyError('Player id {} not found in map'.format(player_id))\n",
    "\n",
    "@lru_cache(maxsize=None)\n",
    "def get_team_basic_info(team_id: int) -> Dict:\n",
    "    for team_info in get_static_info()['teams']:\n",
    "        if team_info['id'] == team_id:\n",
    "            return team_info\n",
    "        \n",
    "    raise KeyError('Team id {} not found in map'.format(team_id))\n",
    "    \n",
    "@lru_cache(maxsize=None)\n",
    "def get_player_detailed_info(player_id: int) -> Dict:\n",
    "    try:\n",
    "        response = requests.get('https://fantasy.premierleague.com/api/element-summary/{}/'.format(player_id))\n",
    "    except requests.exceptions.RequestException:\n",
    "        raise requests.exceptions.RequestException('Error querying API')\n",
    "    \n",
    "    return response.json()\n",
    "\n",
    "def get_player_historical_info_for_gameweek(player_id: int, gameweek: int) -> List[Dict]:\n",
    "        player_history = get_player_detailed_info(player_id)['history']\n",
    "        result = []\n",
    "        for player_info in player_history:\n",
    "            if player_info['round'] == gameweek:\n",
    "                result.append(player_info)\n",
    "                \n",
    "        return result\n",
    "\n",
    "@lru_cache(maxsize=None)\n",
    "def get_fixture_detailed_info(fixture_id: int) -> Dict:\n",
    "    try:\n",
    "        response = requests.get('https://fantasy.premierleague.com/api/fixtures/')\n",
    "    except requests.exceptions.RequestException:\n",
    "        raise requests.exceptions.RequestException('Error querying API')\n",
    "    \n",
    "    return response.json()\n",
    "\n",
    "@lru_cache(maxsize=None)\n",
    "def get_player_id(web_name: str) -> int:\n",
    "    \"\"\"\n",
    "    Return player id from player web_name\n",
    "    \n",
    "    :param web_name: player's name as it is on the fpl website\n",
    "    :return: player_id as an integer\n",
    "    \"\"\"\n",
    "    player_ids = []\n",
    "    for player_info in get_static_info()['elements']:\n",
    "        if player_info['web_name'] == web_name:\n",
    "            player_ids.append(player_info['id'])\n",
    "            \n",
    "    player_ids.sort()\n",
    "    if len(player_ids) == 0:\n",
    "        raise KeyError('Player web_name {} not found in map'.format(web_name))\n",
    "    if len(player_ids) > 1:\n",
    "        warnings.warn('Ambiguous player web_name {} leading to multiple player_ids'.format(web_name, player_ids))\n",
    "        \n",
    "    return player_ids[0]\n",
    "    \n",
    "\n",
    "@lru_cache(maxsize=None)\n",
    "def get_fixture_info(fixture_id: int) -> Dict:\n",
    "    \"\"\"\n",
    "    Return the information for a particular fixture\n",
    "    \"\"\"\n",
    "    fixture_infos = []\n",
    "    for fixture_info in get_fixtures():\n",
    "        if fixture_info['id'] == fixture_id:\n",
    "            fixture_infos.append(fixture_info)\n",
    "            \n",
    "    fixture_infos.sort()\n",
    "    if len(fixture_infos) == 0:\n",
    "        raise KeyError('Fixture id {} not found in map'.format(fixture_id))\n",
    "    if len(fixture_infos) > 1:\n",
    "        raise KeyError('Ambiguous fixture_id {} leading to multiple fixtures'.format(fixture_id))\n",
    "        \n",
    "    return fixture_infos[0]\n",
    "\n",
    "@lru_cache(maxsize=None)\n",
    "def get_fixtures_for_gameweek(gameweek: int) -> Dict:\n",
    "    \"\"\"\n",
    "    Return the fixtures from FPL for a particular gameweek\n",
    "    \"\"\"\n",
    "    try:\n",
    "        response = requests.get('https://fantasy.premierleague.com/api/fixtures/?event={}'.format(gameweek))\n",
    "        response.raise_for_status()\n",
    "    except requests.exceptions.RequestException:\n",
    "        raise requests.exceptions.RequestException('Error querying API')\n",
    "    \n",
    "    result = response.json()\n",
    "    assert len(result) > 0\n",
    "    return result\n",
    "    "
   ]
  },
  {
   "cell_type": "code",
   "execution_count": 47,
   "metadata": {},
   "outputs": [
    {
     "data": {
      "text/plain": [
       "['Saka',\n",
       " 'Turner',\n",
       " 'Archer',\n",
       " 'Cash',\n",
       " 'Watkins',\n",
       " 'Pickford',\n",
       " 'Salah',\n",
       " 'Tsimikas',\n",
       " 'J.Alvarez',\n",
       " 'B.Fernandes',\n",
       " 'Schär',\n",
       " 'Maddison',\n",
       " 'Son',\n",
       " 'Udogie',\n",
       " 'Kaboré']"
      ]
     },
     "execution_count": 47,
     "metadata": {},
     "output_type": "execute_result"
    }
   ],
   "source": [
    "current_team = get_historical_team_from_gameweek(get_next_gameweek()-1) # e.g. [19, 28, 33, ...]\n",
    "list(map(lambda x: get_player_basic_info(x)['web_name'], current_team))"
   ]
  },
  {
   "cell_type": "code",
   "execution_count": 114,
   "metadata": {},
   "outputs": [],
   "source": [
    "def get_expected_points(player_id: int, gameweek: int, as_of_gameweek: int) -> int:\n",
    "    \"\"\"\n",
    "    Get expected points using all information up to and including as_of_gameweek\n",
    "    \"\"\"\n",
    "    player_historical_info_for_gameweek = get_player_historical_info_for_gameweek(player_id, as_of_gameweek)\n",
    "    return player_historical_info_for_gameweek[0]['total_points']\n",
    "    "
   ]
  },
  {
   "cell_type": "code",
   "execution_count": 117,
   "metadata": {},
   "outputs": [
    {
     "data": {
      "text/plain": [
       "[6, 2, 1, 5, 2, 5, 8, 6, 2, 1, 5, 6, 10, 0, 0]"
      ]
     },
     "execution_count": 117,
     "metadata": {},
     "output_type": "execute_result"
    }
   ],
   "source": [
    "list(map(lambda x: get_expected_points(x, 11, 10), current_team))"
   ]
  },
  {
   "cell_type": "code",
   "execution_count": 93,
   "metadata": {
    "scrolled": true
   },
   "outputs": [
    {
     "name": "stdout",
     "output_type": "stream",
     "text": [
      "[{'element': 21, 'fixture': 2, 'opponent_team': 16, 'total_points': 0, 'was_home': True, 'kickoff_time': '2023-08-12T12:00:00Z', 'team_h_score': 2, 'team_a_score': 1, 'round': 1, 'minutes': 0, 'goals_scored': 0, 'assists': 0, 'clean_sheets': 0, 'goals_conceded': 0, 'own_goals': 0, 'penalties_saved': 0, 'penalties_missed': 0, 'yellow_cards': 0, 'red_cards': 0, 'saves': 0, 'bonus': 0, 'bps': 0, 'influence': '0.0', 'creativity': '0.0', 'threat': '0.0', 'ict_index': '0.0', 'starts': 0, 'expected_goals': '0.00', 'expected_assists': '0.00', 'expected_goal_involvements': '0.00', 'expected_goals_conceded': '0.00', 'value': 50, 'transfers_balance': 0, 'selected': 1680, 'transfers_in': 0, 'transfers_out': 0}, {'element': 21, 'fixture': 12, 'opponent_team': 8, 'total_points': 0, 'was_home': False, 'kickoff_time': '2023-08-21T19:00:00Z', 'team_h_score': 0, 'team_a_score': 1, 'round': 2, 'minutes': 0, 'goals_scored': 0, 'assists': 0, 'clean_sheets': 0, 'goals_conceded': 0, 'own_goals': 0, 'penalties_saved': 0, 'penalties_missed': 0, 'yellow_cards': 0, 'red_cards': 0, 'saves': 0, 'bonus': 0, 'bps': 0, 'influence': '0.0', 'creativity': '0.0', 'threat': '0.0', 'ict_index': '0.0', 'starts': 0, 'expected_goals': '0.00', 'expected_assists': '0.00', 'expected_goal_involvements': '0.00', 'expected_goals_conceded': '0.00', 'value': 50, 'transfers_balance': -266, 'selected': 1955, 'transfers_in': 62, 'transfers_out': 328}, {'element': 21, 'fixture': 21, 'opponent_team': 10, 'total_points': 0, 'was_home': True, 'kickoff_time': '2023-08-26T14:00:00Z', 'team_h_score': 2, 'team_a_score': 2, 'round': 3, 'minutes': 0, 'goals_scored': 0, 'assists': 0, 'clean_sheets': 0, 'goals_conceded': 0, 'own_goals': 0, 'penalties_saved': 0, 'penalties_missed': 0, 'yellow_cards': 0, 'red_cards': 0, 'saves': 0, 'bonus': 0, 'bps': 0, 'influence': '0.0', 'creativity': '0.0', 'threat': '0.0', 'ict_index': '0.0', 'starts': 0, 'expected_goals': '0.00', 'expected_assists': '0.00', 'expected_goal_involvements': '0.00', 'expected_goals_conceded': '0.00', 'value': 49, 'transfers_balance': -202, 'selected': 1931, 'transfers_in': 40, 'transfers_out': 242}, {'element': 21, 'fixture': 31, 'opponent_team': 14, 'total_points': 0, 'was_home': True, 'kickoff_time': '2023-09-03T15:30:00Z', 'team_h_score': 3, 'team_a_score': 1, 'round': 4, 'minutes': 0, 'goals_scored': 0, 'assists': 0, 'clean_sheets': 0, 'goals_conceded': 0, 'own_goals': 0, 'penalties_saved': 0, 'penalties_missed': 0, 'yellow_cards': 0, 'red_cards': 0, 'saves': 0, 'bonus': 0, 'bps': 0, 'influence': '0.0', 'creativity': '0.0', 'threat': '0.0', 'ict_index': '0.0', 'starts': 0, 'expected_goals': '0.00', 'expected_assists': '0.00', 'expected_goal_involvements': '0.00', 'expected_goals_conceded': '0.00', 'value': 49, 'transfers_balance': -152, 'selected': 1882, 'transfers_in': 36, 'transfers_out': 188}, {'element': 21, 'fixture': 44, 'opponent_team': 10, 'total_points': 2, 'was_home': False, 'kickoff_time': '2023-09-16T14:00:00Z', 'team_h_score': 1, 'team_a_score': 0, 'round': 5, 'minutes': 74, 'goals_scored': 0, 'assists': 0, 'clean_sheets': 0, 'goals_conceded': 1, 'own_goals': 0, 'penalties_saved': 0, 'penalties_missed': 0, 'yellow_cards': 0, 'red_cards': 0, 'saves': 0, 'bonus': 0, 'bps': 4, 'influence': '0.6', 'creativity': '11.1', 'threat': '0.0', 'ict_index': '1.2', 'starts': 1, 'expected_goals': '0.00', 'expected_assists': '0.00', 'expected_goal_involvements': '0.00', 'expected_goals_conceded': '0.93', 'value': 49, 'transfers_balance': -3, 'selected': 1987, 'transfers_in': 149, 'transfers_out': 152}, {'element': 21, 'fixture': 58, 'opponent_team': 20, 'total_points': 1, 'was_home': True, 'kickoff_time': '2023-09-23T14:00:00Z', 'team_h_score': 1, 'team_a_score': 1, 'round': 6, 'minutes': 56, 'goals_scored': 0, 'assists': 0, 'clean_sheets': 0, 'goals_conceded': 1, 'own_goals': 0, 'penalties_saved': 0, 'penalties_missed': 0, 'yellow_cards': 0, 'red_cards': 0, 'saves': 0, 'bonus': 0, 'bps': 7, 'influence': '3.6', 'creativity': '2.8', 'threat': '11.0', 'ict_index': '1.7', 'starts': 1, 'expected_goals': '0.06', 'expected_assists': '0.01', 'expected_goal_involvements': '0.07', 'expected_goals_conceded': '0.14', 'value': 49, 'transfers_balance': 275, 'selected': 2339, 'transfers_in': 374, 'transfers_out': 99}, {'element': 21, 'fixture': 63, 'opponent_team': 9, 'total_points': 0, 'was_home': False, 'kickoff_time': '2023-09-30T14:00:00Z', 'team_h_score': 1, 'team_a_score': 2, 'round': 7, 'minutes': 0, 'goals_scored': 0, 'assists': 0, 'clean_sheets': 0, 'goals_conceded': 0, 'own_goals': 0, 'penalties_saved': 0, 'penalties_missed': 0, 'yellow_cards': 0, 'red_cards': 0, 'saves': 0, 'bonus': 0, 'bps': 0, 'influence': '0.0', 'creativity': '0.0', 'threat': '0.0', 'ict_index': '0.0', 'starts': 0, 'expected_goals': '0.00', 'expected_assists': '0.00', 'expected_goal_involvements': '0.00', 'expected_goals_conceded': '0.00', 'value': 49, 'transfers_balance': -250, 'selected': 2080, 'transfers_in': 228, 'transfers_out': 478}, {'element': 21, 'fixture': 15, 'opponent_team': 6, 'total_points': 0, 'was_home': True, 'kickoff_time': '2023-10-03T18:30:00Z', 'team_h_score': 1, 'team_a_score': 2, 'round': 7, 'minutes': 0, 'goals_scored': 0, 'assists': 0, 'clean_sheets': 0, 'goals_conceded': 0, 'own_goals': 0, 'penalties_saved': 0, 'penalties_missed': 0, 'yellow_cards': 0, 'red_cards': 0, 'saves': 0, 'bonus': 0, 'bps': 0, 'influence': '0.0', 'creativity': '0.0', 'threat': '0.0', 'ict_index': '0.0', 'starts': 0, 'expected_goals': '0.00', 'expected_assists': '0.00', 'expected_goal_involvements': '0.00', 'expected_goals_conceded': '0.00', 'value': 49, 'transfers_balance': -250, 'selected': 2080, 'transfers_in': 228, 'transfers_out': 478}, {'element': 21, 'fixture': 77, 'opponent_team': 18, 'total_points': 0, 'was_home': True, 'kickoff_time': '2023-10-07T11:30:00Z', 'team_h_score': 0, 'team_a_score': 1, 'round': 8, 'minutes': 0, 'goals_scored': 0, 'assists': 0, 'clean_sheets': 0, 'goals_conceded': 0, 'own_goals': 0, 'penalties_saved': 0, 'penalties_missed': 0, 'yellow_cards': 0, 'red_cards': 0, 'saves': 0, 'bonus': 0, 'bps': 0, 'influence': '0.0', 'creativity': '0.0', 'threat': '0.0', 'ict_index': '0.0', 'starts': 0, 'expected_goals': '0.00', 'expected_assists': '0.00', 'expected_goal_involvements': '0.00', 'expected_goals_conceded': '0.00', 'value': 49, 'transfers_balance': -205, 'selected': 1881, 'transfers_in': 46, 'transfers_out': 251}, {'element': 21, 'fixture': 88, 'opponent_team': 16, 'total_points': 0, 'was_home': False, 'kickoff_time': '2023-10-21T14:00:00Z', 'team_h_score': 2, 'team_a_score': 2, 'round': 9, 'minutes': 0, 'goals_scored': 0, 'assists': 0, 'clean_sheets': 0, 'goals_conceded': 0, 'own_goals': 0, 'penalties_saved': 0, 'penalties_missed': 0, 'yellow_cards': 0, 'red_cards': 0, 'saves': 0, 'bonus': 0, 'bps': 0, 'influence': '0.0', 'creativity': '0.0', 'threat': '0.0', 'ict_index': '0.0', 'starts': 0, 'expected_goals': '0.00', 'expected_assists': '0.00', 'expected_goal_involvements': '0.00', 'expected_goals_conceded': '0.00', 'value': 49, 'transfers_balance': -121, 'selected': 1762, 'transfers_in': 12, 'transfers_out': 133}, {'element': 21, 'fixture': 92, 'opponent_team': 2, 'total_points': 0, 'was_home': False, 'kickoff_time': '2023-10-29T14:00:00Z', 'team_h_score': 3, 'team_a_score': 1, 'round': 10, 'minutes': 0, 'goals_scored': 0, 'assists': 0, 'clean_sheets': 0, 'goals_conceded': 0, 'own_goals': 0, 'penalties_saved': 0, 'penalties_missed': 0, 'yellow_cards': 0, 'red_cards': 0, 'saves': 0, 'bonus': 0, 'bps': 0, 'influence': '0.0', 'creativity': '0.0', 'threat': '0.0', 'ict_index': '0.0', 'starts': 0, 'expected_goals': '0.00', 'expected_assists': '0.00', 'expected_goal_involvements': '0.00', 'expected_goals_conceded': '0.00', 'value': 49, 'transfers_balance': -75, 'selected': 1688, 'transfers_in': 10, 'transfers_out': 85}]\n",
      "[{'element': 393, 'fixture': 10, 'opponent_team': 20, 'total_points': 0, 'was_home': True, 'kickoff_time': '2023-08-14T19:00:00Z', 'team_h_score': 1, 'team_a_score': 0, 'round': 1, 'minutes': 0, 'goals_scored': 0, 'assists': 0, 'clean_sheets': 0, 'goals_conceded': 0, 'own_goals': 0, 'penalties_saved': 0, 'penalties_missed': 0, 'yellow_cards': 0, 'red_cards': 0, 'saves': 0, 'bonus': 0, 'bps': 0, 'influence': '0.0', 'creativity': '0.0', 'threat': '0.0', 'ict_index': '0.0', 'starts': 0, 'expected_goals': '0.00', 'expected_assists': '0.00', 'expected_goal_involvements': '0.00', 'expected_goals_conceded': '0.00', 'value': 40, 'transfers_balance': 0, 'selected': 6502, 'transfers_in': 0, 'transfers_out': 0}, {'element': 393, 'fixture': 18, 'opponent_team': 18, 'total_points': 0, 'was_home': False, 'kickoff_time': '2023-08-19T16:30:00Z', 'team_h_score': 2, 'team_a_score': 0, 'round': 2, 'minutes': 0, 'goals_scored': 0, 'assists': 0, 'clean_sheets': 0, 'goals_conceded': 0, 'own_goals': 0, 'penalties_saved': 0, 'penalties_missed': 0, 'yellow_cards': 0, 'red_cards': 0, 'saves': 0, 'bonus': 0, 'bps': 0, 'influence': '0.0', 'creativity': '0.0', 'threat': '0.0', 'ict_index': '0.0', 'starts': 0, 'expected_goals': '0.00', 'expected_assists': '0.00', 'expected_goal_involvements': '0.00', 'expected_goals_conceded': '0.00', 'value': 40, 'transfers_balance': -755, 'selected': 7511, 'transfers_in': 205, 'transfers_out': 960}, {'element': 393, 'fixture': 28, 'opponent_team': 16, 'total_points': 0, 'was_home': True, 'kickoff_time': '2023-08-26T14:00:00Z', 'team_h_score': 3, 'team_a_score': 2, 'round': 3, 'minutes': 0, 'goals_scored': 0, 'assists': 0, 'clean_sheets': 0, 'goals_conceded': 0, 'own_goals': 0, 'penalties_saved': 0, 'penalties_missed': 0, 'yellow_cards': 0, 'red_cards': 0, 'saves': 0, 'bonus': 0, 'bps': 0, 'influence': '0.0', 'creativity': '0.0', 'threat': '0.0', 'ict_index': '0.0', 'starts': 0, 'expected_goals': '0.00', 'expected_assists': '0.00', 'expected_goal_involvements': '0.00', 'expected_goals_conceded': '0.00', 'value': 40, 'transfers_balance': -657, 'selected': 7452, 'transfers_in': 180, 'transfers_out': 837}, {'element': 393, 'fixture': 38, 'opponent_team': 19, 'total_points': 0, 'was_home': True, 'kickoff_time': '2023-09-01T19:00:00Z', 'team_h_score': 1, 'team_a_score': 2, 'round': 4, 'minutes': 0, 'goals_scored': 0, 'assists': 0, 'clean_sheets': 0, 'goals_conceded': 0, 'own_goals': 0, 'penalties_saved': 0, 'penalties_missed': 0, 'yellow_cards': 0, 'red_cards': 0, 'saves': 0, 'bonus': 0, 'bps': 0, 'influence': '0.0', 'creativity': '0.0', 'threat': '0.0', 'ict_index': '0.0', 'starts': 0, 'expected_goals': '0.00', 'expected_assists': '0.00', 'expected_goal_involvements': '0.00', 'expected_goals_conceded': '0.00', 'value': 39, 'transfers_balance': 3936, 'selected': 13710, 'transfers_in': 4944, 'transfers_out': 1008}, {'element': 393, 'fixture': 44, 'opponent_team': 10, 'total_points': 0, 'was_home': False, 'kickoff_time': '2023-09-16T14:00:00Z', 'team_h_score': 1, 'team_a_score': 0, 'round': 5, 'minutes': 0, 'goals_scored': 0, 'assists': 0, 'clean_sheets': 0, 'goals_conceded': 0, 'own_goals': 0, 'penalties_saved': 0, 'penalties_missed': 0, 'yellow_cards': 0, 'red_cards': 0, 'saves': 0, 'bonus': 0, 'bps': 0, 'influence': '0.0', 'creativity': '0.0', 'threat': '0.0', 'ict_index': '0.0', 'starts': 0, 'expected_goals': '0.00', 'expected_assists': '0.00', 'expected_goal_involvements': '0.00', 'expected_goals_conceded': '0.00', 'value': 39, 'transfers_balance': 29666, 'selected': 55329, 'transfers_in': 36069, 'transfers_out': 6403}, {'element': 393, 'fixture': 58, 'opponent_team': 20, 'total_points': 0, 'was_home': True, 'kickoff_time': '2023-09-23T14:00:00Z', 'team_h_score': 1, 'team_a_score': 1, 'round': 6, 'minutes': 0, 'goals_scored': 0, 'assists': 0, 'clean_sheets': 0, 'goals_conceded': 0, 'own_goals': 0, 'penalties_saved': 0, 'penalties_missed': 0, 'yellow_cards': 0, 'red_cards': 0, 'saves': 0, 'bonus': 0, 'bps': 0, 'influence': '0.0', 'creativity': '0.0', 'threat': '0.0', 'ict_index': '0.0', 'starts': 0, 'expected_goals': '0.00', 'expected_assists': '0.00', 'expected_goal_involvements': '0.00', 'expected_goals_conceded': '0.00', 'value': 39, 'transfers_balance': 7706, 'selected': 63114, 'transfers_in': 12090, 'transfers_out': 4384}, {'element': 393, 'fixture': 63, 'opponent_team': 9, 'total_points': 1, 'was_home': False, 'kickoff_time': '2023-09-30T14:00:00Z', 'team_h_score': 1, 'team_a_score': 2, 'round': 7, 'minutes': 34, 'goals_scored': 0, 'assists': 0, 'clean_sheets': 0, 'goals_conceded': 0, 'own_goals': 0, 'penalties_saved': 0, 'penalties_missed': 0, 'yellow_cards': 0, 'red_cards': 0, 'saves': 0, 'bonus': 0, 'bps': 4, 'influence': '7.6', 'creativity': '0.1', 'threat': '0.0', 'ict_index': '0.8', 'starts': 0, 'expected_goals': '0.00', 'expected_assists': '0.00', 'expected_goal_involvements': '0.00', 'expected_goals_conceded': '0.60', 'value': 39, 'transfers_balance': 3104, 'selected': 67316, 'transfers_in': 8362, 'transfers_out': 5258}, {'element': 393, 'fixture': 15, 'opponent_team': 6, 'total_points': 1, 'was_home': True, 'kickoff_time': '2023-10-03T18:30:00Z', 'team_h_score': 1, 'team_a_score': 2, 'round': 7, 'minutes': 90, 'goals_scored': 0, 'assists': 0, 'clean_sheets': 0, 'goals_conceded': 2, 'own_goals': 0, 'penalties_saved': 0, 'penalties_missed': 0, 'yellow_cards': 0, 'red_cards': 0, 'saves': 0, 'bonus': 0, 'bps': 11, 'influence': '19.8', 'creativity': '1.8', 'threat': '0.0', 'ict_index': '2.2', 'starts': 1, 'expected_goals': '0.00', 'expected_assists': '0.03', 'expected_goal_involvements': '0.03', 'expected_goals_conceded': '1.04', 'value': 39, 'transfers_balance': 3104, 'selected': 67316, 'transfers_in': 8362, 'transfers_out': 5258}, {'element': 393, 'fixture': 77, 'opponent_team': 18, 'total_points': 1, 'was_home': True, 'kickoff_time': '2023-10-07T11:30:00Z', 'team_h_score': 0, 'team_a_score': 1, 'round': 8, 'minutes': 31, 'goals_scored': 0, 'assists': 0, 'clean_sheets': 0, 'goals_conceded': 0, 'own_goals': 0, 'penalties_saved': 0, 'penalties_missed': 0, 'yellow_cards': 0, 'red_cards': 0, 'saves': 0, 'bonus': 0, 'bps': 4, 'influence': '3.6', 'creativity': '0.6', 'threat': '3.0', 'ict_index': '0.7', 'starts': 0, 'expected_goals': '0.03', 'expected_assists': '0.00', 'expected_goal_involvements': '0.03', 'expected_goals_conceded': '0.03', 'value': 39, 'transfers_balance': 3717, 'selected': 70817, 'transfers_in': 8546, 'transfers_out': 4829}, {'element': 393, 'fixture': 88, 'opponent_team': 16, 'total_points': 1, 'was_home': False, 'kickoff_time': '2023-10-21T14:00:00Z', 'team_h_score': 2, 'team_a_score': 2, 'round': 9, 'minutes': 90, 'goals_scored': 0, 'assists': 0, 'clean_sheets': 0, 'goals_conceded': 2, 'own_goals': 0, 'penalties_saved': 0, 'penalties_missed': 0, 'yellow_cards': 0, 'red_cards': 0, 'saves': 0, 'bonus': 0, 'bps': 12, 'influence': '11.6', 'creativity': '0.3', 'threat': '2.0', 'ict_index': '1.4', 'starts': 1, 'expected_goals': '0.00', 'expected_assists': '0.00', 'expected_goal_involvements': '0.00', 'expected_goals_conceded': '2.97', 'value': 39, 'transfers_balance': 4755, 'selected': 76147, 'transfers_in': 8186, 'transfers_out': 3431}, {'element': 393, 'fixture': 92, 'opponent_team': 2, 'total_points': 1, 'was_home': False, 'kickoff_time': '2023-10-29T14:00:00Z', 'team_h_score': 3, 'team_a_score': 1, 'round': 10, 'minutes': 90, 'goals_scored': 0, 'assists': 0, 'clean_sheets': 0, 'goals_conceded': 3, 'own_goals': 0, 'penalties_saved': 0, 'penalties_missed': 0, 'yellow_cards': 0, 'red_cards': 0, 'saves': 0, 'bonus': 0, 'bps': 5, 'influence': '20.2', 'creativity': '0.3', 'threat': '6.0', 'ict_index': '2.7', 'starts': 1, 'expected_goals': '0.06', 'expected_assists': '0.00', 'expected_goal_involvements': '0.06', 'expected_goals_conceded': '2.39', 'value': 39, 'transfers_balance': 13835, 'selected': 91612, 'transfers_in': 17906, 'transfers_out': 4071}]\n"
     ]
    },
    {
     "ename": "KeyError",
     "evalue": "'history'",
     "output_type": "error",
     "traceback": [
      "\u001b[1;31m---------------------------------------------------------------------------\u001b[0m",
      "\u001b[1;31mKeyError\u001b[0m                                  Traceback (most recent call last)",
      "\u001b[1;32m<ipython-input-93-730a672a04d7>\u001b[0m in \u001b[0;36m<module>\u001b[1;34m\u001b[0m\n\u001b[0;32m      1\u001b[0m \u001b[1;32mfor\u001b[0m \u001b[0mi\u001b[0m \u001b[1;32min\u001b[0m \u001b[0mrange\u001b[0m\u001b[1;33m(\u001b[0m\u001b[1;36m1\u001b[0m\u001b[1;33m,\u001b[0m \u001b[1;36m730\u001b[0m\u001b[1;33m)\u001b[0m\u001b[1;33m:\u001b[0m\u001b[1;33m\u001b[0m\u001b[1;33m\u001b[0m\u001b[0m\n\u001b[1;32m----> 2\u001b[1;33m     \u001b[1;32mif\u001b[0m \u001b[0mlen\u001b[0m\u001b[1;33m(\u001b[0m\u001b[0mget_player_detailed_info\u001b[0m\u001b[1;33m(\u001b[0m\u001b[0mi\u001b[0m\u001b[1;33m)\u001b[0m\u001b[1;33m[\u001b[0m\u001b[1;34m'history'\u001b[0m\u001b[1;33m]\u001b[0m\u001b[1;33m)\u001b[0m \u001b[1;33m!=\u001b[0m \u001b[1;36m10\u001b[0m\u001b[1;33m:\u001b[0m\u001b[1;33m\u001b[0m\u001b[1;33m\u001b[0m\u001b[0m\n\u001b[0m\u001b[0;32m      3\u001b[0m         \u001b[0mprint\u001b[0m\u001b[1;33m(\u001b[0m\u001b[0mget_player_detailed_info\u001b[0m\u001b[1;33m(\u001b[0m\u001b[0mi\u001b[0m\u001b[1;33m)\u001b[0m\u001b[1;33m[\u001b[0m\u001b[1;34m'history'\u001b[0m\u001b[1;33m]\u001b[0m\u001b[1;33m)\u001b[0m\u001b[1;33m\u001b[0m\u001b[1;33m\u001b[0m\u001b[0m\n",
      "\u001b[1;31mKeyError\u001b[0m: 'history'"
     ]
    }
   ],
   "source": [
    "for i in range(1, 730):\n",
    "    if len(get_player_detailed_info(i)['history']) != 10:\n",
    "        print(get_player_detailed_info(i)['history'])"
   ]
  },
  {
   "cell_type": "code",
   "execution_count": 106,
   "metadata": {},
   "outputs": [
    {
     "data": {
      "text/plain": [
       "[{'element': 19,\n",
       "  'fixture': 91,\n",
       "  'opponent_team': 17,\n",
       "  'total_points': 6,\n",
       "  'was_home': True,\n",
       "  'kickoff_time': '2023-10-28T14:00:00Z',\n",
       "  'team_h_score': 5,\n",
       "  'team_a_score': 0,\n",
       "  'round': 10,\n",
       "  'minutes': 72,\n",
       "  'goals_scored': 0,\n",
       "  'assists': 1,\n",
       "  'clean_sheets': 1,\n",
       "  'goals_conceded': 0,\n",
       "  'own_goals': 0,\n",
       "  'penalties_saved': 0,\n",
       "  'penalties_missed': 0,\n",
       "  'yellow_cards': 0,\n",
       "  'red_cards': 0,\n",
       "  'saves': 0,\n",
       "  'bonus': 0,\n",
       "  'bps': 16,\n",
       "  'influence': '2.8',\n",
       "  'creativity': '14.9',\n",
       "  'threat': '18.0',\n",
       "  'ict_index': '3.6',\n",
       "  'starts': 1,\n",
       "  'expected_goals': '0.00',\n",
       "  'expected_assists': '0.06',\n",
       "  'expected_goal_involvements': '0.06',\n",
       "  'expected_goals_conceded': '0.03',\n",
       "  'value': 86,\n",
       "  'transfers_balance': 440171,\n",
       "  'selected': 5178459,\n",
       "  'transfers_in': 540989,\n",
       "  'transfers_out': 100818}]"
      ]
     },
     "execution_count": 106,
     "metadata": {},
     "output_type": "execute_result"
    }
   ],
   "source": [
    "get_player_historical_info_for_gameweek(19, 10)"
   ]
  }
 ],
 "metadata": {
  "kernelspec": {
   "display_name": "Python 3",
   "language": "python",
   "name": "python3"
  },
  "language_info": {
   "codemirror_mode": {
    "name": "ipython",
    "version": 3
   },
   "file_extension": ".py",
   "mimetype": "text/x-python",
   "name": "python",
   "nbconvert_exporter": "python",
   "pygments_lexer": "ipython3",
   "version": "3.7.3"
  }
 },
 "nbformat": 4,
 "nbformat_minor": 2
}
